{
 "cells": [
  {
   "cell_type": "markdown",
   "id": "latin-packing",
   "metadata": {
    "execution": {
     "iopub.execute_input": "2021-02-23T14:22:16.610471Z",
     "iopub.status.busy": "2021-02-23T14:22:16.610129Z",
     "iopub.status.idle": "2021-02-23T14:22:16.627784Z",
     "shell.execute_reply": "2021-02-23T14:22:16.626866Z",
     "shell.execute_reply.started": "2021-02-23T14:22:16.610384Z"
    },
    "papermill": {},
    "tags": []
   },
   "source": [
    "<img width=\"10%\" alt=\"Naas\" src=\"https://landen.imgix.net/jtci2pxwjczr/assets/5ice39g4.png?w=160\"/>"
   ]
  },
  {
   "cell_type": "markdown",
   "id": "compressed-wilson",
   "metadata": {
    "papermill": {},
    "tags": []
   },
   "source": [
    "# Dash - Create DataTable updated through Dropdown CallBack\n",
    "<a href=\"https://app.naas.ai/user-redirect/naas/downloader?url=https://raw.githubusercontent.com/jupyter-naas/awesome-notebooks/master/Dash/Dash_Create_Dropdown_Callback.ipynb\" target=\"_parent\"><img src=\"https://naasai-public.s3.eu-west-3.amazonaws.com/open_in_naas.svg\"/></a>"
   ]
  },
  {
   "cell_type": "markdown",
   "id": "religious-programmer",
   "metadata": {
    "papermill": {},
    "tags": []
   },
   "source": [
    "**Tags:** #dashboard #plotly #dash #naas #asset #analytics #dropdown #callback #bootstrap"
   ]
  },
  {
   "cell_type": "markdown",
   "id": "1fe9f56e-561c-4f52-aef8-b861c9462107",
   "metadata": {
    "papermill": {},
    "tags": []
   },
   "source": [
    "**Author:** [Ismail Chihab](https://www.linkedin.com/in/ismail-chihab-4b0a04202/)"
   ]
  },
  {
   "cell_type": "markdown",
   "id": "96f20bb5-d815-4a57-aca7-9397b8677b3e",
   "metadata": {
    "papermill": {},
    "tags": []
   },
   "source": [
    "Create a basic table that can be updated through a dcc.dropdown menu."
   ]
  },
  {
   "cell_type": "markdown",
   "id": "b3c038bc-7e50-40c4-83aa-b3f8d6302eba",
   "metadata": {
    "papermill": {},
    "tags": []
   },
   "source": [
    "<u>Reference:</u> https://dash.plotly.com/datatable"
   ]
  },
  {
   "cell_type": "markdown",
   "id": "distinguished-truth",
   "metadata": {
    "papermill": {},
    "tags": []
   },
   "source": [
    "## Input"
   ]
  },
  {
   "cell_type": "markdown",
   "id": "numeric-mediterranean",
   "metadata": {
    "papermill": {},
    "tags": []
   },
   "source": [
    "### Import libraries"
   ]
  },
  {
   "cell_type": "code",
   "execution_count": 1,
   "id": "68ed1f03-e836-4410-aca9-63114fcd8b9f",
   "metadata": {
    "execution": {
     "iopub.execute_input": "2022-09-07T10:44:41.941297Z",
     "iopub.status.busy": "2022-09-07T10:44:41.940805Z",
     "iopub.status.idle": "2022-09-07T10:44:46.692195Z",
     "shell.execute_reply": "2022-09-07T10:44:46.691460Z",
     "shell.execute_reply.started": "2022-09-07T10:44:41.941208Z"
    },
    "papermill": {},
    "tags": []
   },
   "outputs": [],
   "source": [
    "import os\n",
    "import dash\n",
    "from dash import html, Input, Output, dcc, dash_table\n",
    "import dash_bootstrap_components as dbc\n",
    "\n",
    "import pandas as pd"
   ]
  },
  {
   "cell_type": "markdown",
   "id": "aggressive-trustee",
   "metadata": {
    "papermill": {},
    "tags": []
   },
   "source": [
    "### Setup Variables"
   ]
  },
  {
   "cell_type": "code",
   "execution_count": 2,
   "id": "continuous-melbourne",
   "metadata": {
    "execution": {
     "iopub.execute_input": "2022-09-07T10:44:46.697831Z",
     "iopub.status.busy": "2022-09-07T10:44:46.696215Z",
     "iopub.status.idle": "2022-09-07T10:44:46.701808Z",
     "shell.execute_reply": "2022-09-07T10:44:46.701290Z",
     "shell.execute_reply.started": "2022-09-07T10:44:46.697795Z"
    },
    "papermill": {},
    "tags": []
   },
   "outputs": [],
   "source": [
    "DASH_PORT = 8050"
   ]
  },
  {
   "cell_type": "markdown",
   "id": "registered-showcase",
   "metadata": {
    "papermill": {},
    "tags": []
   },
   "source": [
    "## Model"
   ]
  },
  {
   "cell_type": "markdown",
   "id": "22ac3f9c-2067-4a13-a0c5-9d4d249d5693",
   "metadata": {
    "papermill": {},
    "tags": []
   },
   "source": [
    "### Create dropdown"
   ]
  },
  {
   "cell_type": "code",
   "execution_count": 3,
   "id": "598c9847-4596-4677-afa0-fecfb6c7754e",
   "metadata": {
    "execution": {
     "iopub.execute_input": "2022-09-07T10:44:46.706405Z",
     "iopub.status.busy": "2022-09-07T10:44:46.704907Z",
     "iopub.status.idle": "2022-09-07T10:44:46.875562Z",
     "shell.execute_reply": "2022-09-07T10:44:46.875008Z",
     "shell.execute_reply.started": "2022-09-07T10:44:46.706374Z"
    },
    "papermill": {},
    "tags": []
   },
   "outputs": [
    {
     "name": "stdout",
     "output_type": "stream",
     "text": [
      "   col1  col2  col3\n",
      "0     0     1     2\n",
      "1     0     6     4\n",
      "2     6     7     1\n",
      "3     0     1     2\n",
      "4     3     4     5\n",
      "5     9     5     1\n",
      "6     7     4     6\n"
     ]
    }
   ],
   "source": [
    "app = dash.Dash(\n",
    "    requests_pathname_prefix=f'/user/{os.environ.get(\"JUPYTERHUB_USER\")}/proxy/{DASH_PORT}/', \n",
    "    external_stylesheets=[dbc.themes.BOOTSTRAP],\n",
    "    meta_tags=[{'name':'viewport', 'content':'width=device-width, initial-scale=1.0'}]\n",
    ")\n",
    "column_name=[\"col1\", \"col2\", \"col3\"]\n",
    "data= [[0, 1, 2], [0, 6, 4], [6, 7, 1], [0, 1, 2], [3, 4, 5], [9, 5, 1], [7, 4, 6]]\n",
    "df =pd.DataFrame(data, columns=column_name)\n",
    "print(df)\n",
    "\n",
    "app.layout = html.Div(\n",
    "    [\n",
    "        html.H1(\"Datatable with dropdown\", style = {'text-align':'center'}),\n",
    "        html.Div(id='h2'),\n",
    "        dcc.Dropdown(['filter col1', 'filter on all columns', 'filter on specific condition'], id='demo-dropdown'),\n",
    "        dash_table.DataTable(id='tbl', data=df.to_dict('records') , columns=[{\"name\": i, \"id\": i} for i in df.columns])\n",
    "    ]\n",
    ")\n",
    "\n",
    "@app.callback(\n",
    "   [\n",
    "       Output('tbl', 'data'),\n",
    "       Output('h2', 'children')\n",
    "   \n",
    "   ],\n",
    "    Input('demo-dropdown', 'value')\n",
    ")\n",
    "def update_output(value):\n",
    "    dff=df.copy()\n",
    "    header=[]\n",
    "    if str(value) == 'filter col1':\n",
    "        dff=dff[dff['col1']==0]\n",
    "        header.append(html.H2(\"Filtered table display\", style = {'text-align':'center'}))\n",
    "    elif str(value) == 'filter on all columns':\n",
    "        dff=dff[dff['col1']==3]\n",
    "        dff=dff[dff['col2']==4]\n",
    "        dff=dff[dff['col3']==5] \n",
    "        header.append(html.H2(\"Filtered table display\", style = {'text-align':'center'}))\n",
    "    elif str(value) == 'filter on specific condition':\n",
    "        dff=dff[dff['col1']<dff['col2']]\n",
    "        header.append(html.H2(\"Filtered table display\", style = {'text-align':'center'}))\n",
    "    return dff.to_dict('records'), header"
   ]
  },
  {
   "cell_type": "markdown",
   "id": "lonely-pacific",
   "metadata": {
    "execution": {
     "iopub.execute_input": "2021-07-02T23:32:10.789097Z",
     "iopub.status.busy": "2021-07-02T23:32:10.788829Z",
     "iopub.status.idle": "2021-07-02T23:32:10.796900Z",
     "shell.execute_reply": "2021-07-02T23:32:10.796358Z",
     "shell.execute_reply.started": "2021-07-02T23:32:10.789033Z"
    },
    "papermill": {},
    "tags": []
   },
   "source": [
    "## Output"
   ]
  },
  {
   "cell_type": "markdown",
   "id": "890f7c86-b7bb-4f5d-9a1b-e492dd9580fd",
   "metadata": {
    "papermill": {},
    "tags": []
   },
   "source": [
    "### Generate URL and show logs"
   ]
  },
  {
   "cell_type": "code",
   "execution_count": 4,
   "id": "9c4e3b7b-6440-4844-8054-265f1aec65eb",
   "metadata": {
    "execution": {
     "iopub.execute_input": "2022-09-07T10:44:46.876744Z",
     "iopub.status.busy": "2022-09-07T10:44:46.876477Z",
     "iopub.status.idle": "2022-09-07T10:46:08.348260Z",
     "shell.execute_reply": "2022-09-07T10:46:08.347422Z",
     "shell.execute_reply.started": "2022-09-07T10:44:46.876711Z"
    },
    "papermill": {},
    "tags": []
   },
   "outputs": [
    {
     "name": "stdout",
     "output_type": "stream",
     "text": [
      "Dash is running on https://app.naas.ai/user/ismailchihab71@gmail.com/proxy/8050/\n",
      "\n",
      "\u001b[31m\u001b[1mWARNING: This is a development server. Do not use it in a production deployment. Use a production WSGI server instead.\u001b[0m\n",
      " * Serving Flask app '__main__'\n",
      " * Debug mode: off\n"
     ]
    },
    {
     "name": "stderr",
     "output_type": "stream",
     "text": [
      " * Running on http://127.0.0.1:8050 (Press CTRL+C to quit)\n"
     ]
    }
   ],
   "source": [
    "if __name__ == '__main__':\n",
    "    app.run_server(proxy=f\"http://127.0.0.1:{DASH_PORT}::https://app.naas.ai\")"
   ]
  },
  {
   "cell_type": "code",
   "execution_count": 5,
   "id": "ec3d787b-86da-4a9f-ae4c-8d433d6119b7",
   "metadata": {
    "execution": {
     "iopub.execute_input": "2022-09-07T10:46:08.349443Z",
     "iopub.status.busy": "2022-09-07T10:46:08.349249Z",
     "iopub.status.idle": "2022-09-07T10:46:08.352610Z",
     "shell.execute_reply": "2022-09-07T10:46:08.352025Z",
     "shell.execute_reply.started": "2022-09-07T10:46:08.349422Z"
    },
    "tags": []
   },
   "outputs": [],
   "source": [
    "# from dash import Dash, html, dcc, Input, Output, dash_table\n",
    "# from dash_bootstrap_components import themes\n",
    "# import pandas as pd\n",
    "\n",
    "\n",
    "# data = [['A', 10, 19, 21], ['B', 15, 54, 12], ['C', 14, 5, 9], ['D', 14, 5, 9], ['E', 14, 5, 9]]\n",
    "# dashboard = pd.DataFrame(data, columns=['Mat', '1', '2', '3'])\n",
    "\n",
    "# DASH_PORT = 8050\n",
    "# app2 = dash.Dash(\n",
    "#     requests_pathname_prefix=f'/user/{os.environ.get(\"JUPYTERHUB_USER\")}/proxy/{DASH_PORT}/', \n",
    "#     external_stylesheets=[dbc.themes.BOOTSTRAP],\n",
    "#     meta_tags=[{'name':'viewport', 'content':'width=device-width, initial-scale=1.0'}])\n",
    "\n",
    "\n",
    "# app2.layout = html.Div(style={'backgroundColor': 'white'}, children=[\n",
    "#     html.Div(children=[\n",
    "#         dcc.Dropdown(id='chosen-mat', multi=False, value='All',\n",
    "#                      options=['All', 'Custom'])\n",
    "#     ]),\n",
    "\n",
    "#     html.Div(id='custom-mat', children=[\n",
    "#         dcc.Dropdown(id='chosen-custom-mat', multi=True, value=[],\n",
    "#                      options=dashboard.iloc[0:, 0].to_list())\n",
    "#     ]),\n",
    "\n",
    "#     html.Div([\n",
    "#         dash_table.DataTable(\n",
    "#             data=dashboard.to_dict('records'),\n",
    "#             columns=[{\"name\": i, \"id\": i} for i in dashboard.columns],\n",
    "#             id='tbl')\n",
    "#     ], style={'margin-left': '20px', 'margin-right': '20px'}),\n",
    "\n",
    "#     html.Div(id='datatable-interactivity-container', style={'text-align': 'center'})\n",
    "# ])\n",
    "\n",
    "\n",
    "# @app.callback(Output('tbl', 'data'),\n",
    "#               Output('tbl', 'columns'),\n",
    "#               Input('chosen-mat', 'value'),\n",
    "#               Input('chosen-custom-mat', 'value'))\n",
    "# def actualize_db(type_layout, mat_list):\n",
    "#     if type_layout == 'All':\n",
    "#         db = dashboard\n",
    "#     else:\n",
    "#         if mat_list is None:\n",
    "#             listt = []\n",
    "#         else:\n",
    "#             listt = mat_list\n",
    "#         db = dashboard[dashboard['Mat'].isin(listt)]\n",
    "#     return db.to_dict('records'), [{\"name\": i, \"id\": i} for i in db.columns]\n",
    "\n",
    "\n",
    "\n",
    "# if __name__ == '__main__':\n",
    "#     app.run_server(proxy=f\"http://127.0.0.1:{DASH_PORT}::https://app.naas.ai\")"
   ]
  },
  {
   "cell_type": "code",
   "execution_count": null,
   "id": "0b303d9a-986f-4ade-9d5c-bf39250f0a08",
   "metadata": {},
   "outputs": [],
   "source": []
  }
 ],
 "metadata": {
  "kernelspec": {
   "display_name": "Python 3",
   "language": "python",
   "name": "python3"
  },
  "language_info": {
   "codemirror_mode": {
    "name": "ipython",
    "version": 3
   },
   "file_extension": ".py",
   "mimetype": "text/x-python",
   "name": "python",
   "nbconvert_exporter": "python",
   "pygments_lexer": "ipython3",
   "version": "3.9.6"
  },
  "papermill": {
   "default_parameters": {},
   "environment_variables": {},
   "parameters": {},
   "version": "2.3.3"
  },
  "widgets": {
   "application/vnd.jupyter.widget-state+json": {
    "state": {},
    "version_major": 2,
    "version_minor": 0
   }
  }
 },
 "nbformat": 4,
 "nbformat_minor": 5
}
