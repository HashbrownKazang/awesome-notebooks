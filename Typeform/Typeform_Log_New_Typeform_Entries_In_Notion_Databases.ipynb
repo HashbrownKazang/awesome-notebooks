{
 "cells": [
  {
   "cell_type": "markdown",
   "id": "f410699d",
   "metadata": {},
   "source": [
    "<img width=\"10%\" alt=\"Naas\" src=\"https://landen.imgix.net/jtci2pxwjczr/assets/5ice39g4.png?w=160\"/>\n",
    "\n",
    "\n"
   ]
  },
  {
   "cell_type": "markdown",
   "id": "4f367f95",
   "metadata": {},
   "source": [
    "# Typeform - Log new Typeform entries in Notion databases\n",
    "\n"
   ]
  },
  {
   "cell_type": "markdown",
   "id": "2bea9708",
   "metadata": {},
   "source": [
    "**Tags:** #Typeform #Notion #Operations #Automation\n",
    "\n",
    "**Author:** [Firstname Lastname](https://linkedin.com/in/yourlinkedinid)\n",
    "\n"
   ]
  },
  {
   "cell_type": "markdown",
   "id": "69f95206",
   "metadata": {},
   "source": [
    "## Description\n",
    "\n",
    "Capture and organize important project and customer details without slowing down for tedious copy-and-paste tasks! This template automatically adds each new entry received in Typeform as an item in your Notion database.\n",
    "References :\n",
    "- [TypeForm API](https://developer.typeform.com/responses/)\n",
    "- [Notion API ](https://docs.naas.ai/drivers/notion)\n",
    "\n"
   ]
  },
  {
   "cell_type": "markdown",
   "id": "1e601562",
   "metadata": {},
   "source": [
    "## Input\n",
    "\n"
   ]
  },
  {
   "cell_type": "markdown",
   "id": "316af60c",
   "metadata": {},
   "source": [
    "### Setup Typeform\n",
    "\n",
    "👉 Get your [access token](https://developer.typeform.com/get-started/personal-access-token)\n",
    "\n"
   ]
  },
  {
   "cell_type": "code",
   "execution_count": null,
   "id": "14e4e522",
   "metadata": {},
   "outputs": [],
   "source": [
    "TYPEFORM_ACCESS_TOKEN = \"<TYPEFORM_ACCESS_TOKEN>\"\n",
    "\n",
    "# Unique ID for the form. Find in your form URL.\n",
    "# For example, in the URL \"https://mysite.typeform.com/to/u6nXL7\" the\n",
    "# form_id is u6nXL7.\n",
    "FORM_ID = \"<FORM_ID>\"\n"
   ]
  },
  {
   "cell_type": "markdown",
   "id": "96b0acd9",
   "metadata": {},
   "source": [
    "### Setup Notion\n",
    "\n",
    "👉 Get your [Notion integration token ?](https://docs.naas.ai/drivers/notion)\n",
    "👉 Share you database with your integration\n",
    "\n"
   ]
  },
  {
   "cell_type": "code",
   "execution_count": null,
   "id": "e2e62e29",
   "metadata": {},
   "outputs": [],
   "source": [
    "NOTION_TOKEN = \"<NOTION_TOKEN>\"\n",
    "\n",
    "# https://www.notion.so/naas-official/f89fddc31128400fab11001a215aff09?v=d84b89b704c7dssd432350cc273\n",
    "DATABASE_URL = \"<DATABASE_URL>\"\n"
   ]
  },
  {
   "cell_type": "markdown",
   "id": "4c2d8b20",
   "metadata": {},
   "source": [
    "### Setup Naas\n",
    "\n"
   ]
  },
  {
   "cell_type": "code",
   "execution_count": null,
   "id": "d5889d6c",
   "metadata": {},
   "outputs": [],
   "source": [
    "# Schedule your notebook everyday at 9 AM\n",
    "naas.scheduler.add(cron=\"0 9 * * *\")\n",
    "\n",
    "#-> Uncomment the line below to remove your scheduler\n",
    "# naas.scheduler.delete()\n"
   ]
  },
  {
   "cell_type": "markdown",
   "id": "b077ea9e",
   "metadata": {},
   "source": [
    "## Model \n",
    "\n"
   ]
  },
  {
   "cell_type": "markdown",
   "id": "60c70b43",
   "metadata": {},
   "source": [
    "### Get data from Typeform\n",
    "\n",
    "👉 [Start making requests](/df8ce060e2264dada13c019aa64762c5)\n",
    "\n"
   ]
  },
  {
   "cell_type": "code",
   "execution_count": null,
   "id": "d4fa250a",
   "metadata": {},
   "outputs": [],
   "source": [
    "# Get form Insight data\n",
    "# https://developer.typeform.com/responses/reference/retrieve-form-insights/\n"
   ]
  },
  {
   "cell_type": "code",
   "execution_count": null,
   "id": "034efa06",
   "metadata": {},
   "outputs": [],
   "source": [
    "# Get response dataframe\n",
    "# Retrieve response and map field id with field title to column name's\n"
   ]
  },
  {
   "cell_type": "markdown",
   "id": "d663d289",
   "metadata": {},
   "source": [
    "### Get data from Notion DB\n",
    "\n"
   ]
  },
  {
   "cell_type": "code",
   "execution_count": null,
   "id": "d5b8e55b",
   "metadata": {},
   "outputs": [],
   "source": [
    "# Get notion database\n",
    "database = notion.connect(NOTION_TOKEN).database.get(database_url, query={})\n",
    "df = database.df()\n"
   ]
  },
  {
   "cell_type": "markdown",
   "id": "5f8f278e",
   "metadata": {},
   "source": [
    "### Get data to add in Notion\n",
    "\n"
   ]
  },
  {
   "cell_type": "code",
   "execution_count": null,
   "id": "cf4646ef",
   "metadata": {},
   "outputs": [],
   "source": [
    "# Compare 2 dataframes and filter on ID to create item in Notion DB (drop duplicates)\n"
   ]
  },
  {
   "cell_type": "markdown",
   "id": "ad9f59d7",
   "metadata": {},
   "source": [
    "## Output \n",
    "\n"
   ]
  },
  {
   "cell_type": "markdown",
   "id": "0183bd34",
   "metadata": {},
   "source": [
    "### Create Database Item\n",
    "\n"
   ]
  },
  {
   "cell_type": "code",
   "execution_count": null,
   "id": "4bb9ee58",
   "metadata": {},
   "outputs": [],
   "source": [
    "# Create page in Notion\n",
    "page = notion.connect(token).page.create(database_id=DATABASE_URL, title=\"My new page\")\n",
    "\n",
    "# Update properties in page\n",
    "# -> Map TypeForm type with Notion type\n",
    "# To know more about Notion properties type please checkout awesome-notebook, Notion/Notion_Update_page.ipynb\n",
    "page.update()\n"
   ]
  }
 ],
 "metadata": {},
 "nbformat": 4,
 "nbformat_minor": 5
}
