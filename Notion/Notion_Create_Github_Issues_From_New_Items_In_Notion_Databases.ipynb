{
 "cells": [
  {
   "cell_type": "markdown",
   "id": "452db5cf",
   "metadata": {},
   "source": [
    "<img width=\"10%\" alt=\"Naas\" src=\"https://landen.imgix.net/jtci2pxwjczr/assets/5ice39g4.png?w=160\"/>\n"
   ]
  },
  {
   "cell_type": "markdown",
   "id": "69ca279e",
   "metadata": {},
   "source": [
    "# Notion - Create Github issues from new items in Notion databases\n"
   ]
  },
  {
   "cell_type": "markdown",
   "id": "b468ecd5",
   "metadata": {},
   "source": [
    "**Tags:** #notion #github #operations #automation\n"
   ]
  },
  {
   "cell_type": "markdown",
   "id": "ee8614c0",
   "metadata": {},
   "source": [
    "**Author:** [Firstname Lastname](https://linkedin.com/in/yourlinkedinid)\n",
    "\n",
    "This notebook is used to create Github Issues when new Notion pages are being created in a database.\n",
    "\n",
    "We will store Github issues urls as a property in notion pages to know which one we already dealt with.\n",
    "\n",
    "<br/>References :\n",
    "- Notion driver:\n",
    "- Github SDK: [https://github.com/PyGithub/PyGithub](https://github.com/PyGithub/PyGithub)\n"
   ]
  },
  {
   "cell_type": "markdown",
   "id": "c3cd247c",
   "metadata": {},
   "source": [
    "## Input\n"
   ]
  },
  {
   "cell_type": "markdown",
   "id": "632ac153",
   "metadata": {},
   "source": [
    "### Import libraries\n"
   ]
  },
  {
   "cell_type": "code",
   "execution_count": null,
   "id": "cde1b2b7",
   "metadata": {},
   "outputs": [],
   "source": [
    "from naas_drivers import notion\n",
    "from github import Github\n"
   ]
  },
  {
   "cell_type": "markdown",
   "id": "c0f54b06",
   "metadata": {},
   "source": [
    "### Setup Notion\n"
   ]
  },
  {
   "cell_type": "code",
   "execution_count": null,
   "id": "23ec8409",
   "metadata": {},
   "outputs": [],
   "source": [
    "# Notion token\n",
    "notion_token = \"...\"\n",
    "\n",
    "# Specify database id\n",
    "notion_database_id = \"...\"\n",
    "\n",
    "notion.connect(notion_token)\n"
   ]
  },
  {
   "cell_type": "markdown",
   "id": "edd7a5db",
   "metadata": {},
   "source": [
    "### Setup Github\n"
   ]
  },
  {
   "cell_type": "code",
   "execution_count": null,
   "id": "9e82b2f4",
   "metadata": {},
   "outputs": [],
   "source": [
    "# Github token\n",
    "github_token = \"...\"\n",
    "\n",
    "# Github repo on which we want to create issues.\n",
    "github_repo_name = \"...\"\n",
    "\n",
    "gh_client = Github(github_token)\n"
   ]
  },
  {
   "cell_type": "markdown",
   "id": "447316f7",
   "metadata": {},
   "source": [
    "### Setup Naas\n"
   ]
  },
  {
   "cell_type": "code",
   "execution_count": null,
   "id": "751508ee",
   "metadata": {},
   "outputs": [],
   "source": [
    "# Schedule your notebook to run ever hours.\n",
    "naas.scheduler.add(cron=\"0 * * * *\")\n",
    "\n",
    "#-> Uncomment the line below to remove your scheduler\n",
    "# naas.scheduler.delete()\n"
   ]
  },
  {
   "cell_type": "markdown",
   "id": "e2a17363",
   "metadata": {},
   "source": [
    "## Model\n"
   ]
  },
  {
   "cell_type": "markdown",
   "id": "d469e22b",
   "metadata": {},
   "source": [
    "### Query notion database\n",
    "\n",
    "The goal here is to query the database and fetch only pages who don’t have a value in the “Github issue url” property.\n"
   ]
  },
  {
   "cell_type": "code",
   "execution_count": null,
   "id": "ebcf0e4e",
   "metadata": {},
   "outputs": [],
   "source": [
    "database = notion.database.get(notion_database_id)\n",
    "\n",
    "# Query only pages for which we did not created an issue already.\n",
    "pages = ...\n"
   ]
  },
  {
   "cell_type": "markdown",
   "id": "0868cfec",
   "metadata": {},
   "source": [
    "### Create Github issues\n"
   ]
  },
  {
   "cell_type": "code",
   "execution_count": null,
   "id": "1fa5212a",
   "metadata": {},
   "outputs": [],
   "source": [
    "def create_github_issue(gh_client, repo_name, title, body):\n",
    "\trepo = gh_client.get_repo(github_repo_name)\n",
    "\trepo.create_issue(title=title, body=body)\n",
    "\t...\n"
   ]
  },
  {
   "cell_type": "markdown",
   "id": "9564254e",
   "metadata": {},
   "source": [
    "## Output\n"
   ]
  },
  {
   "cell_type": "markdown",
   "id": "2f8d564a",
   "metadata": {},
   "source": [
    "### Create all issues\n"
   ]
  },
  {
   "cell_type": "code",
   "execution_count": null,
   "id": "9871db47",
   "metadata": {},
   "outputs": [],
   "source": [
    "for page in pages:\n",
    "\t...\n",
    "\t# Get the content of the Notion page as Markdown.\n",
    "\tnotion_markdown_content = ...\n",
    "\t...\n",
    "\tcreate_github_issue(gh_client, github_repo_name, page.properties['Name'], notion_markdown_content)\n",
    "\n",
    "\tprint(f'✅ Issue created in github at \"{issue_url}\"')\n"
   ]
  }
 ],
 "metadata": {},
 "nbformat": 4,
 "nbformat_minor": 5
}
