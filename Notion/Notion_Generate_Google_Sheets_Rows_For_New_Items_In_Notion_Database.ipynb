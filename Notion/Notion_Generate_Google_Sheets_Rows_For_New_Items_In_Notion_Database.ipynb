{
 "cells": [
  {
   "cell_type": "markdown",
   "id": "fe22470c",
   "metadata": {},
   "source": [
    "<img width=\"10%\" alt=\"Naas\" src=\"https://landen.imgix.net/jtci2pxwjczr/assets/5ice39g4.png?w=160\"/>\n"
   ]
  },
  {
   "cell_type": "markdown",
   "id": "b8145d54",
   "metadata": {},
   "source": [
    "# Notion - Generate Google Sheets rows for new items in Notion database\n"
   ]
  },
  {
   "cell_type": "markdown",
   "id": "66da53dc",
   "metadata": {},
   "source": [
    "**Tags:** #notion #googlesheets #operations #automation\n"
   ]
  },
  {
   "cell_type": "markdown",
   "id": "a6320d42",
   "metadata": {},
   "source": [
    "**Author:** [Firstname Lastname](https://linkedin.com/in/yourlinkedinid)\n",
    "\n",
    "Here, you will create new row in your Google Sheets spreadsheet for new items your Notion database.\n",
    "<br/>References :\n",
    "- Google Sheets templates : [https://docs.naas.ai/templates/google-sheets](https://docs.naas.ai/templates/google-sheets)\n",
    "- Notion templates : [https://docs.naas.ai/templates/notion](https://docs.naas.ai/templates/notion)\n"
   ]
  },
  {
   "cell_type": "markdown",
   "id": "111427f3",
   "metadata": {},
   "source": [
    "## Input\n"
   ]
  },
  {
   "cell_type": "markdown",
   "id": "19bedd93",
   "metadata": {},
   "source": [
    "### Import libraries\n"
   ]
  },
  {
   "cell_type": "code",
   "execution_count": null,
   "id": "f1814620",
   "metadata": {},
   "outputs": [],
   "source": [
    "from naas_drivers import notion, gsheet\n",
    "import naas\n"
   ]
  },
  {
   "cell_type": "markdown",
   "id": "b598909b",
   "metadata": {},
   "source": [
    "### Setup Notion\n",
    "\n",
    "- [Get your Notion integration token](https://docs.naas.ai/drivers/notion)\n",
    "- Share integration with your database\n"
   ]
  },
  {
   "cell_type": "code",
   "execution_count": null,
   "id": "42628203",
   "metadata": {},
   "outputs": [],
   "source": [
    "# Enter Token API\n",
    "NOTION_TOKEN = \"*****\"\n",
    "\n",
    "# Enter Database URL\n",
    "DATABASE_URL = \"https://www.notion.so/********\"\n"
   ]
  },
  {
   "cell_type": "markdown",
   "id": "97add6ff",
   "metadata": {},
   "source": [
    "### Setup Google Sheets\n",
    "\n",
    "- Share your sheet with our service account : 🔗 [naas-share@naas-gsheets.iam.gserviceaccount.com](mailto:naas-share@naas-gsheets.iam.gserviceaccount.com)\n"
   ]
  },
  {
   "cell_type": "code",
   "execution_count": null,
   "id": "d142cdf9",
   "metadata": {},
   "outputs": [],
   "source": [
    "# Spreadsheet URL\n",
    "SPREADSHEET_URL = \"------\"\n",
    "\n",
    "# Sheet name\n",
    "SHEET_NAME = \"Sheet1\"\n"
   ]
  },
  {
   "cell_type": "markdown",
   "id": "fe8e6ed1",
   "metadata": {},
   "source": [
    "### Setup Naas\n"
   ]
  },
  {
   "cell_type": "code",
   "execution_count": null,
   "id": "66708907",
   "metadata": {},
   "outputs": [],
   "source": [
    "# Schedule your notebook every hour\n",
    "naas.scheduler.add(cron=\"0 * * * *\")\n",
    "\n",
    "#-> Uncomment the line below to remove your scheduler\n",
    "# naas.scheduler.delete()\n"
   ]
  },
  {
   "cell_type": "markdown",
   "id": "0969cc14",
   "metadata": {},
   "source": [
    "## Model\n"
   ]
  },
  {
   "cell_type": "markdown",
   "id": "76f786ff",
   "metadata": {},
   "source": [
    "### Get dataframe from Notion database\n"
   ]
  },
  {
   "cell_type": "code",
   "execution_count": null,
   "id": "b8360f69",
   "metadata": {},
   "outputs": [],
   "source": [
    "db_notion = notion.connect(NOTION_TOKEN).database.get(DATABASE_URL)\n",
    "df_notion = db_notion.df()\n"
   ]
  },
  {
   "cell_type": "markdown",
   "id": "50dceb45",
   "metadata": {},
   "source": [
    "### Get dataframe Google Sheets spreasheet\n"
   ]
  },
  {
   "cell_type": "code",
   "execution_count": null,
   "id": "99de64a0",
   "metadata": {},
   "outputs": [],
   "source": [
    "df_gsheet = gsheet.connect(SPREADSHEET_URL).get(sheet_name=SHEET_NAME)\n",
    "df_gsheet\n"
   ]
  },
  {
   "cell_type": "markdown",
   "id": "d7192469",
   "metadata": {},
   "source": [
    "### Get new entries in Notion database\n"
   ]
  },
  {
   "cell_type": "code",
   "execution_count": null,
   "id": "d32ae66a",
   "metadata": {},
   "outputs": [],
   "source": [
    "def my_function():\n",
    "\t...\n",
    "\treturn\n",
    "\n",
    "df_new = my_function()\n",
    "df_new \n"
   ]
  },
  {
   "cell_type": "markdown",
   "id": "5ecf6274",
   "metadata": {},
   "source": [
    "## Output\n"
   ]
  },
  {
   "cell_type": "markdown",
   "id": "54f825df",
   "metadata": {},
   "source": [
    "### Send data to Google Sheets\n"
   ]
  },
  {
   "cell_type": "code",
   "execution_count": null,
   "id": "931ab493",
   "metadata": {},
   "outputs": [],
   "source": [
    "# Send data to Google Sheets\n",
    "gsheet.connect(SPREADSHEET_URL).send(\n",
    "    sheet_name=SHEET_NAME,\n",
    "    data=df_new,\n",
    "\t\tappend=True,\n",
    ")\n"
   ]
  }
 ],
 "metadata": {},
 "nbformat": 4,
 "nbformat_minor": 5
}
