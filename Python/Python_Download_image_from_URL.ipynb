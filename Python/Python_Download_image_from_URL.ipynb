{
 "cells": [
  {
   "cell_type": "markdown",
   "id": "naas-logo",
   "metadata": {
    "papermill": {},
    "tags": [
     "naas"
    ]
   },
   "source": [
    "<img width=\"10%\" alt=\"Naas\" src=\"https://landen.imgix.net/jtci2pxwjczr/assets/5ice39g4.png?w=160\"/>"
   ]
  },
  {
   "cell_type": "markdown",
   "id": "db17b79b",
   "metadata": {
    "papermill": {},
    "tags": []
   },
   "source": [
    "# Python - Download image from URL\n",
    "<a href=\"https://app.naas.ai/user-redirect/naas/downloader?url=https://raw.githubusercontent.com/jupyter-naas/awesome-notebooks/master/Python/Python_Looping_Over_Dataframe.ipynb\" target=\"_parent\"><img src=\"https://naasai-public.s3.eu-west-3.amazonaws.com/open_in_naas.svg\"/></a>"
   ]
  },
  {
   "cell_type": "markdown",
   "id": "13800319",
   "metadata": {
    "papermill": {},
    "tags": []
   },
   "source": [
    "**Tags:** #python #snippet #operations #naas"
   ]
  },
  {
   "cell_type": "markdown",
   "id": "8761af40",
   "metadata": {
    "papermill": {},
    "tags": []
   },
   "source": [
    "**Author:** [Florent Ravenel](https://www.linkedin.com/in/ACoAABCNSioBW3YZHc2lBHVG0E_TXYWitQkmwog/)"
   ]
  },
  {
   "cell_type": "markdown",
   "id": "2a904c9b",
   "metadata": {
    "papermill": {},
    "tags": []
   },
   "source": [
    "With this notebook, you will be able to download an image on your local from any URL"
   ]
  },
  {
   "cell_type": "markdown",
   "id": "d6ed8917",
   "metadata": {
    "papermill": {},
    "tags": []
   },
   "source": [
    "## Input"
   ]
  },
  {
   "cell_type": "markdown",
   "id": "fb1b9009",
   "metadata": {
    "papermill": {},
    "tags": []
   },
   "source": [
    "### Import libraries"
   ]
  },
  {
   "cell_type": "code",
   "execution_count": null,
   "id": "aefef37f",
   "metadata": {
    "papermill": {},
    "tags": []
   },
   "outputs": [],
   "source": [
    "import requests\n",
    "import os\n",
    "import naas"
   ]
  },
  {
   "cell_type": "markdown",
   "id": "cfba5a70-5e8e-40f5-824f-356641e735d8",
   "metadata": {},
   "source": [
    "### Setup variables"
   ]
  },
  {
   "cell_type": "code",
   "execution_count": null,
   "id": "d455f64c-eeaa-42f4-986c-ae5cce4a3190",
   "metadata": {},
   "outputs": [],
   "source": [
    "# Input\n",
    "image_url = \"https://landen.imgix.net/jtci2pxwjczr/assets/5ice39g4.png?w=186\"\n",
    "\n",
    "# Output\n",
    "image_output = \"naas.png\""
   ]
  },
  {
   "cell_type": "markdown",
   "id": "93232477",
   "metadata": {
    "papermill": {},
    "tags": []
   },
   "source": [
    "## Model"
   ]
  },
  {
   "cell_type": "markdown",
   "id": "07164b8b",
   "metadata": {
    "papermill": {},
    "tags": []
   },
   "source": [
    "### Create Sample Dataframe "
   ]
  },
  {
   "cell_type": "code",
   "execution_count": null,
   "id": "d919085d",
   "metadata": {
    "papermill": {},
    "tags": []
   },
   "outputs": [],
   "source": [
    "def download_image_from_url(url, image_path):\n",
    "    img_data = requests.get(url=url).content\n",
    "    open(image_path, 'w').close()\n",
    "    with open(image_path, 'wb') as handler:\n",
    "        handler.write(img_data)\n",
    "    print(\"⬇️ File downloaded to:\", image_path)"
   ]
  },
  {
   "cell_type": "markdown",
   "id": "02d1fc4b",
   "metadata": {
    "papermill": {},
    "tags": []
   },
   "source": [
    "## Output"
   ]
  },
  {
   "cell_type": "markdown",
   "id": "1c2b12ba-82a3-4831-b057-f429a5e6bd54",
   "metadata": {
    "papermill": {},
    "tags": []
   },
   "source": [
    "### Download image to Naas"
   ]
  },
  {
   "cell_type": "code",
   "execution_count": null,
   "id": "3b0cf348",
   "metadata": {
    "papermill": {},
    "tags": []
   },
   "outputs": [],
   "source": [
    "download_image_from_url(image_url, image_output)"
   ]
  },
  {
   "cell_type": "markdown",
   "id": "1dbe9fe5-c494-4f89-8136-8c1a1489ba45",
   "metadata": {},
   "source": [
    "### Share image with Naas"
   ]
  },
  {
   "cell_type": "code",
   "execution_count": null,
   "id": "13b0f610-8273-4a7c-948c-795ca87ca857",
   "metadata": {
    "tags": []
   },
   "outputs": [],
   "source": [
    "# Share output with naas\n",
    "naas.asset.add(image_output, params={\"inline\": True})\n",
    "\n",
    "#-> Uncomment the line below to remove your asset\n",
    "# naas.asset.delete(image_output)"
   ]
  }
 ],
 "metadata": {
  "kernelspec": {
   "display_name": "Python 3",
   "language": "python",
   "name": "python3"
  },
  "language_info": {
   "codemirror_mode": {
    "name": "ipython",
    "version": 3
   },
   "file_extension": ".py",
   "mimetype": "text/x-python",
   "name": "python",
   "nbconvert_exporter": "python",
   "pygments_lexer": "ipython3",
   "version": "3.9.6"
  },
  "naas": {
   "notebook_id": "cf0600b0-e939-4229-a5e5-acd2c0b2d680",
   "notebook_path": "Python/Python_Looping_Over_Dataframe.ipynb"
  },
  "papermill": {
   "default_parameters": {},
   "environment_variables": {},
   "parameters": {},
   "version": "2.3.3"
  }
 },
 "nbformat": 4,
 "nbformat_minor": 5
}
