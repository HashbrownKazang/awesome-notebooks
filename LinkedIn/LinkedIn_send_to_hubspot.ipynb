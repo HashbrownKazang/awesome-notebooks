{
 "cells": [
  {
   "cell_type": "markdown",
   "id": "latin-packing",
   "metadata": {
    "execution": {
     "iopub.execute_input": "2021-02-23T14:22:16.610471Z",
     "iopub.status.busy": "2021-02-23T14:22:16.610129Z",
     "iopub.status.idle": "2021-02-23T14:22:16.627784Z",
     "shell.execute_reply": "2021-02-23T14:22:16.626866Z",
     "shell.execute_reply.started": "2021-02-23T14:22:16.610384Z"
    },
    "papermill": {},
    "tags": []
   },
   "source": [
    "<img width=\"10%\" alt=\"Naas\" src=\"https://landen.imgix.net/jtci2pxwjczr/assets/5ice39g4.png?w=160\"/>"
   ]
  },
  {
   "cell_type": "markdown",
   "id": "compressed-wilson",
   "metadata": {
    "papermill": {},
    "tags": []
   },
   "source": [
    "# LinkedIn - Send post interactions to HubSpot\n",
    "<a href=\"https://app.naas.ai/user-redirect/naas/downloader?url=https://raw.githubusercontent.com/jupyter-naas/awesome-notebooks/master/template.ipynb\" target=\"_parent\">\n",
    "<img src=\"https://img.shields.io/badge/-Open%20in%20Naas-success?labelColor=000000&logo=data:image/svg+xml;base64,PD94bWwgdmVyc2lvbj0iMS4wIiBlbmNvZGluZz0iVVRGLTgiPz4KPHN2ZyB3aWR0aD0iMTAyNHB4IiBoZWlnaHQ9IjEwMjRweCIgdmlld0JveD0iMCAwIDEwMjQgMTAyNCIgeG1sbnM9Imh0dHA6Ly93d3cudzMub3JnLzIwMDAvc3ZnIiB4bWxuczp4bGluaz0iaHR0cDovL3d3dy53My5vcmcvMTk5OS94bGluayIgdmVyc2lvbj0iMS4xIj4KIDwhLS0gR2VuZXJhdGVkIGJ5IFBpeGVsbWF0b3IgUHJvIDIuMC41IC0tPgogPGRlZnM+CiAgPHRleHQgaWQ9InN0cmluZyIgdHJhbnNmb3JtPSJtYXRyaXgoMS4wIDAuMCAwLjAgMS4wIDIyOC4wIDU0LjUpIiBmb250LWZhbWlseT0iQ29tZm9ydGFhLVJlZ3VsYXIsIENvbWZvcnRhYSIgZm9udC1zaXplPSI4MDAiIHRleHQtZGVjb3JhdGlvbj0ibm9uZSIgZmlsbD0iI2ZmZmZmZiIgeD0iMS4xOTk5OTk5OTk5OTk5ODg2IiB5PSI3MDUuMCI+bjwvdGV4dD4KIDwvZGVmcz4KIDx1c2UgaWQ9Im4iIHhsaW5rOmhyZWY9IiNzdHJpbmciLz4KPC9zdmc+Cg==\"/>\n",
    "</a>"
   ]
  },
  {
   "cell_type": "markdown",
   "id": "religious-programmer",
   "metadata": {},
   "source": [
    "**Tags:** #tool #naas_drivers #naas #scheduler #asset #snippet #automation #ai #analytics"
   ]
  },
  {
   "cell_type": "markdown",
   "id": "1fe9f56e-561c-4f52-aef8-b861c9462107",
   "metadata": {},
   "source": [
    "**Author:** [Firstname Lastname](https://www.linkedin.com/)"
   ]
  },
  {
   "cell_type": "markdown",
   "id": "31ea7cdb-e10d-43fc-b026-f69249a59736",
   "metadata": {},
   "source": [
    "* First name\n",
    "* Last name\n",
    "* Headline\n",
    "* Job title\n",
    "* Company\n",
    "* Number of followers\n",
    "* any other information as email, phone if provided."
   ]
  },
  {
   "cell_type": "markdown",
   "id": "distinguished-truth",
   "metadata": {
    "papermill": {},
    "tags": []
   },
   "source": [
    "## Input"
   ]
  },
  {
   "cell_type": "markdown",
   "id": "numeric-mediterranean",
   "metadata": {},
   "source": [
    "### Import library"
   ]
  },
  {
   "cell_type": "code",
   "execution_count": 1,
   "id": "potential-surfing",
   "metadata": {
    "execution": {
     "iopub.execute_input": "2022-07-07T19:54:40.260384Z",
     "iopub.status.busy": "2022-07-07T19:54:40.260116Z",
     "iopub.status.idle": "2022-07-07T19:54:42.009945Z",
     "shell.execute_reply": "2022-07-07T19:54:42.009348Z",
     "shell.execute_reply.started": "2022-07-07T19:54:40.260317Z"
    },
    "tags": []
   },
   "outputs": [],
   "source": [
    "from naas_drivers import linkedin, hubspot\n",
    "import naas\n",
    "import pandas as pd"
   ]
  },
  {
   "cell_type": "markdown",
   "id": "aggressive-trustee",
   "metadata": {},
   "source": [
    "### Setup LinkedIn\n",
    "👉 <a href='https://www.notion.so/LinkedIn-driver-Get-your-cookies-d20a8e7e508e42af8a5b52e33f3dba75'>How to get your cookies ?</a>"
   ]
  },
  {
   "cell_type": "code",
   "execution_count": 2,
   "id": "a08f6855-50b5-4c7e-94c1-a8d5b08d416c",
   "metadata": {
    "execution": {
     "iopub.execute_input": "2022-07-07T19:54:42.898570Z",
     "iopub.status.busy": "2022-07-07T19:54:42.898325Z",
     "iopub.status.idle": "2022-07-07T19:54:42.904192Z",
     "shell.execute_reply": "2022-07-07T19:54:42.903615Z",
     "shell.execute_reply.started": "2022-07-07T19:54:42.898546Z"
    },
    "tags": []
   },
   "outputs": [],
   "source": [
    "# Lindekin cookies\n",
    "LI_AT = \"AQEDARqFkcwFOsAYAAABgJqF6JMAAAGB_d5i4U4Aj1M2kZqsKQ5SH8e8WZU3QO8TRwYguHd7-fwnOd-JPlbPv8_DjbOqpInBeChE0Gzo3uDcg85feqYQEbzqweRDc0a9jAYX38Wy8JPzQ2qkzMkq32AJ\" #\"AQEDARCNSioDe6wmAAABfqF-HR4AAAF-xYqhHlYAtSu7EZZEpFer0UZF-GLuz2DNSz4asOOyCRxPGFjenv37irMObYYgxxxxxxx\"\n",
    "JSESSIONID = \"ajax:7185819897423728931\"#\"ajax:12XXXXXXXXXXXXXXXXX\"\n",
    "post_link = \"https://www.linkedin.com/posts/moajjem-hossain_66daysofdata-datascience-machinelearning-activity-6939455124398305281-UgT-?utm_source=linkedin_share&utm_medium=member_desktop_web\""
   ]
  },
  {
   "cell_type": "markdown",
   "id": "20753ed6-9880-4723-ab27-80b5d7945bb6",
   "metadata": {},
   "source": [
    "### Setup your HubSpot\n",
    "👉 Access your [HubSpot API key](https://knowledge.hubspot.com/integrations/how-do-i-get-my-hubspot-api-key)"
   ]
  },
  {
   "cell_type": "code",
   "execution_count": null,
   "id": "7370e2ba-556c-48a8-b968-ec16d389638f",
   "metadata": {},
   "outputs": [],
   "source": [
    "HS_API_KEY = 'YOUR_HUBSPOT_API_KEY'"
   ]
  },
  {
   "cell_type": "markdown",
   "id": "registered-showcase",
   "metadata": {},
   "source": [
    "## Model"
   ]
  },
  {
   "cell_type": "markdown",
   "id": "fa9128ff-108a-41be-b525-2522b28d6df3",
   "metadata": {},
   "source": [
    "### Utility Functions"
   ]
  },
  {
   "cell_type": "code",
   "execution_count": 7,
   "id": "84924261-0515-499d-8503-845e79e343bf",
   "metadata": {
    "execution": {
     "iopub.execute_input": "2022-07-07T20:04:42.530309Z",
     "iopub.status.busy": "2022-07-07T20:04:42.529994Z",
     "iopub.status.idle": "2022-07-07T20:04:42.545707Z",
     "shell.execute_reply": "2022-07-07T20:04:42.545085Z",
     "shell.execute_reply.started": "2022-07-07T20:04:42.530274Z"
    },
    "tags": []
   },
   "outputs": [],
   "source": [
    "def get_net(df):\n",
    "    profile_url = df['PROFILE_URL']\n",
    "    iden = linkedin.profile.get_network(profile_url)\n",
    "    cols = ['FOLLOWERS_COUNT']\n",
    "    for col in cols:\n",
    "        df[col] = iden[col].item()\n",
    "    \n",
    "    return df\n",
    "\n",
    "def get_id(df):\n",
    "    profile_url = df['PROFILE_URL']\n",
    "    iden = linkedin.profile.get_identity(profile_url)\n",
    "    cols = ['FIRSTNAME', 'LASTNAME', 'OCCUPATION']\n",
    "    for col in cols:\n",
    "        df[col] = iden[col].item()\n",
    "    \n",
    "    return df\n",
    "\n",
    "def get_con(df):\n",
    "    profile_url = df['PROFILE_URL']\n",
    "    iden  = linkedin.profile.get_contact(profile_url)\n",
    "    cols = ['EMAIL', 'PHONENUMBER']\n",
    "    for col in cols:\n",
    "        df[col] = iden[col].item()\n",
    "    \n",
    "    return df\n",
    "\n",
    "def get_res(df):\n",
    "    profile_url = df['PROFILE_URL']\n",
    "    iden  = linkedin.profile.get_resume(profile_url).loc[0,:] # Take only the latest info\n",
    "    iden  = pd.DataFrame(iden).T\n",
    "    cols = ['TITLE', 'PLACE']\n",
    "    for col in cols:\n",
    "        df[col] = iden[col].item()\n",
    "    \n",
    "    return df\n",
    "\n",
    "def get_all_info(df, comment = False):\n",
    "    if comment:\n",
    "        com = pd.DataFrame(df['TEXT'])\n",
    "    df = pd.DataFrame(df['PROFILE_URL'])\n",
    "    df = df.apply(get_id, axis = 1).apply(get_net, axis = 1).apply(get_res, axis = 1).apply(get_con, axis = 1)\n",
    "    df.drop('PROFILE_URL', axis = 1, inplace = True)\n",
    "    if comment:\n",
    "        df = pd.concat([df, com], axis = 1)    \n",
    "    return df"
   ]
  },
  {
   "cell_type": "markdown",
   "id": "dd691a14-17c5-44f9-8945-f8d9fdee5f2b",
   "metadata": {},
   "source": [
    "### Connect to LinkedIn and get Likes and Comments"
   ]
  },
  {
   "cell_type": "code",
   "execution_count": 4,
   "id": "b24286de-a32f-4f6b-aebf-3874498c3c54",
   "metadata": {
    "execution": {
     "iopub.execute_input": "2022-07-07T19:55:02.818192Z",
     "iopub.status.busy": "2022-07-07T19:55:02.817946Z",
     "iopub.status.idle": "2022-07-07T19:55:10.626199Z",
     "shell.execute_reply": "2022-07-07T19:55:10.625506Z",
     "shell.execute_reply.started": "2022-07-07T19:55:02.818169Z"
    },
    "tags": []
   },
   "outputs": [],
   "source": [
    "df_posts = linkedin.connect(LI_AT, JSESSIONID) # Connect\n",
    "df_likes = df_posts.post.get_likes(post_url = post_link) # Get Likes\n",
    "df_comment = df_posts.post.get_comments(post_url = post_link) # Get comments"
   ]
  },
  {
   "cell_type": "code",
   "execution_count": 6,
   "id": "ddaa3edf-078f-4bcf-a056-1c41b0f012a0",
   "metadata": {
    "execution": {
     "iopub.execute_input": "2022-07-07T19:57:32.952422Z",
     "iopub.status.busy": "2022-07-07T19:57:32.952189Z",
     "iopub.status.idle": "2022-07-07T19:58:13.008752Z",
     "shell.execute_reply": "2022-07-07T19:58:13.008017Z",
     "shell.execute_reply.started": "2022-07-07T19:57:32.952397Z"
    },
    "tags": []
   },
   "outputs": [
    {
     "data": {
      "text/html": [
       "<div>\n",
       "<style scoped>\n",
       "    .dataframe tbody tr th:only-of-type {\n",
       "        vertical-align: middle;\n",
       "    }\n",
       "\n",
       "    .dataframe tbody tr th {\n",
       "        vertical-align: top;\n",
       "    }\n",
       "\n",
       "    .dataframe thead th {\n",
       "        text-align: right;\n",
       "    }\n",
       "</style>\n",
       "<table border=\"1\" class=\"dataframe\">\n",
       "  <thead>\n",
       "    <tr style=\"text-align: right;\">\n",
       "      <th></th>\n",
       "      <th>FIRSTNAME</th>\n",
       "      <th>LASTNAME</th>\n",
       "      <th>OCCUPATION</th>\n",
       "      <th>FOLLOWERS_COUNT</th>\n",
       "      <th>TITLE</th>\n",
       "      <th>PLACE</th>\n",
       "      <th>EMAIL</th>\n",
       "      <th>PHONENUMBER</th>\n",
       "    </tr>\n",
       "  </thead>\n",
       "  <tbody>\n",
       "    <tr>\n",
       "      <th>0</th>\n",
       "      <td>Jérémy</td>\n",
       "      <td>Ravenel</td>\n",
       "      <td>⚡️ Building @naas.ai - open source data platfo...</td>\n",
       "      <td>12824</td>\n",
       "      <td>Chief Executive Officer</td>\n",
       "      <td>naas.ai</td>\n",
       "      <td>jeremy@naas.ai</td>\n",
       "      <td>+3385256997</td>\n",
       "    </tr>\n",
       "    <tr>\n",
       "      <th>1</th>\n",
       "      <td>Ajay</td>\n",
       "      <td>Pawar</td>\n",
       "      <td>Quantitative Researcher/ Analyst. Computationa...</td>\n",
       "      <td>5728</td>\n",
       "      <td>Master of Science - MS</td>\n",
       "      <td>Rennes School of Business</td>\n",
       "      <td>None</td>\n",
       "      <td>None</td>\n",
       "    </tr>\n",
       "  </tbody>\n",
       "</table>\n",
       "</div>"
      ],
      "text/plain": [
       "  FIRSTNAME LASTNAME                                         OCCUPATION  \\\n",
       "0    Jérémy  Ravenel  ⚡️ Building @naas.ai - open source data platfo...   \n",
       "1      Ajay    Pawar  Quantitative Researcher/ Analyst. Computationa...   \n",
       "\n",
       "   FOLLOWERS_COUNT                    TITLE                      PLACE  \\\n",
       "0            12824  Chief Executive Officer                    naas.ai   \n",
       "1             5728   Master of Science - MS  Rennes School of Business   \n",
       "\n",
       "            EMAIL  PHONENUMBER  \n",
       "0  jeremy@naas.ai  +3385256997  \n",
       "1            None         None  "
      ]
     },
     "execution_count": 6,
     "metadata": {},
     "output_type": "execute_result"
    }
   ],
   "source": [
    "# Get info for Likes and Comments\n",
    "info_likes = get_all_info(df_likes)\n",
    "info_likes"
   ]
  },
  {
   "cell_type": "code",
   "execution_count": null,
   "id": "2ed02090-f93a-407a-945a-6940422d4568",
   "metadata": {},
   "outputs": [],
   "source": [
    "info_comment = get_all_info(df_comment, comment = True)\n",
    "info_comment"
   ]
  },
  {
   "cell_type": "markdown",
   "id": "lonely-pacific",
   "metadata": {
    "execution": {
     "iopub.execute_input": "2021-07-02T23:32:10.789097Z",
     "iopub.status.busy": "2021-07-02T23:32:10.788829Z",
     "iopub.status.idle": "2021-07-02T23:32:10.796900Z",
     "shell.execute_reply": "2021-07-02T23:32:10.796358Z",
     "shell.execute_reply.started": "2021-07-02T23:32:10.789033Z"
    }
   },
   "source": [
    "## Output"
   ]
  },
  {
   "cell_type": "markdown",
   "id": "890f7c86-b7bb-4f5d-9a1b-e492dd9580fd",
   "metadata": {},
   "source": [
    "### Save result in csv"
   ]
  },
  {
   "cell_type": "code",
   "execution_count": null,
   "id": "9c4e3b7b-6440-4844-8054-265f1aec65eb",
   "metadata": {},
   "outputs": [],
   "source": [
    "info_comment.to_csv('comments.csv', index=False)\n",
    "info_likes.to_csv('likes.csv', index=False)"
   ]
  },
  {
   "cell_type": "markdown",
   "id": "a28950bb-1d7d-4835-a83a-faac837ebc7c",
   "metadata": {},
   "source": [
    "### Share your output with naas"
   ]
  },
  {
   "cell_type": "code",
   "execution_count": null,
   "id": "db205965-a2dc-4541-ba8e-db3250d1cff0",
   "metadata": {},
   "outputs": [],
   "source": [
    "naas.asset.add('comments.csv')\n",
    "naas.asset.add('likes.csv')\n",
    "\n",
    "#-> Uncomment the line below to remove your asset\n",
    "# naas.asset.delete()"
   ]
  }
 ],
 "metadata": {
  "kernelspec": {
   "display_name": "Python 3",
   "language": "python",
   "name": "python3"
  },
  "language_info": {
   "codemirror_mode": {
    "name": "ipython",
    "version": 3
   },
   "file_extension": ".py",
   "mimetype": "text/x-python",
   "name": "python",
   "nbconvert_exporter": "python",
   "pygments_lexer": "ipython3",
   "version": "3.9.6"
  },
  "papermill": {
   "default_parameters": {},
   "environment_variables": {},
   "parameters": {},
   "version": "2.3.3"
  },
  "widgets": {
   "application/vnd.jupyter.widget-state+json": {
    "state": {},
    "version_major": 2,
    "version_minor": 0
   }
  }
 },
 "nbformat": 4,
 "nbformat_minor": 5
}
