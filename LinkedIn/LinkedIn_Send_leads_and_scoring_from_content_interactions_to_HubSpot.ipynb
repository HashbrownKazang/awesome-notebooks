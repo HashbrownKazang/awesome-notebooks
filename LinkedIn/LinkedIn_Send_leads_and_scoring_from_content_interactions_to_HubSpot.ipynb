{
 "cells": [
  {
   "cell_type": "markdown",
   "id": "f93fe18d-8ad2-4958-816b-6b75af8681e4",
   "metadata": {
    "papermill": {},
    "tags": []
   },
   "source": [
    "<img width=\"10%\" alt=\"Naas\" src=\"https://landen.imgix.net/jtci2pxwjczr/assets/5ice39g4.png?w=160\"/>"
   ]
  },
  {
   "cell_type": "markdown",
   "id": "5f0737bc-6f32-4ae3-a951-5779adaa7a97",
   "metadata": {
    "papermill": {},
    "tags": []
   },
   "source": [
    "# LinkedIn - Send leads and scoring from content interactions to HubSpot\n",
    "<a href=\"https://app.naas.ai/user-redirect/naas/downloader?url=https://raw.githubusercontent.com/jupyter-naas/awesome-notebooks/master/LinkedIn/LinkedIn_Send_weekly_post_engagement_metrics_by_email.ipynb\" target=\"_parent\"><img src=\"https://naasai-public.s3.eu-west-3.amazonaws.com/open_in_naas.svg\"/></a>"
   ]
  },
  {
   "cell_type": "markdown",
   "id": "616d1d23-6ae5-4cc6-95e8-40aa98a017f9",
   "metadata": {
    "papermill": {},
    "tags": []
   },
   "source": [
    "**Tags:** #linkedin #posts #interactions #metrics #analytics #automation #naas #hubspot #sales"
   ]
  },
  {
   "cell_type": "markdown",
   "id": "c22c0060-616a-43ba-91e9-96e7034e71c7",
   "metadata": {
    "papermill": {},
    "tags": []
   },
   "source": [
    "**Author:** [Florent Ravenel](https://www.linkedin.com/in/florent-ravenel/)"
   ]
  },
  {
   "cell_type": "markdown",
   "id": "18a5b76c-d18f-472b-b556-82bf961fb386",
   "metadata": {
    "papermill": {},
    "tags": []
   },
   "source": [
    "This templates will get your LinkedIn leads from content likes, comments, use algorithm to score them, send them automatically in notes in HubSpot."
   ]
  },
  {
   "cell_type": "markdown",
   "id": "937ac7d6-bfe3-41aa-a0b6-61b1f7bba93f",
   "metadata": {
    "papermill": {},
    "tags": []
   },
   "source": [
    "## Input"
   ]
  },
  {
   "cell_type": "markdown",
   "id": "ecb37b6d-b27f-4932-b8a7-1464095f989d",
   "metadata": {
    "papermill": {},
    "tags": []
   },
   "source": [
    "### Import libraries"
   ]
  },
  {
   "cell_type": "code",
   "execution_count": null,
   "id": "e2c3df60-aced-4dd9-a94b-11d8ae4b5caf",
   "metadata": {
    "papermill": {},
    "tags": []
   },
   "outputs": [],
   "source": [
    "import naas\n",
    "import pandas as pd\n",
    "from datetime import datetime\n",
    "from naas_drivers import linkedin, hubspot\n",
    "import urllib.parse\n",
    "import requests\n",
    "import json\n",
    "from pprint import pprint"
   ]
  },
  {
   "cell_type": "markdown",
   "id": "8fcbe47d-8d1d-49ee-bc6e-21dd26cfa5fa",
   "metadata": {
    "execution": {
     "iopub.execute_input": "2022-04-24T17:56:03.664707Z",
     "iopub.status.busy": "2022-04-24T17:56:03.664410Z",
     "iopub.status.idle": "2022-04-24T17:56:03.667809Z",
     "shell.execute_reply": "2022-04-24T17:56:03.667176Z",
     "shell.execute_reply.started": "2022-04-24T17:56:03.664677Z"
    },
    "papermill": {},
    "tags": []
   },
   "source": [
    "### Setup LinkedIn\n",
    "<a href='https://www.notion.so/LinkedIn-driver-Get-your-cookies-d20a8e7e508e42af8a5b52e33f3dba75'>How to get your cookies ?</a>"
   ]
  },
  {
   "cell_type": "code",
   "execution_count": null,
   "id": "9d23bcea-7b3f-4f5c-be6a-0b38241735dc",
   "metadata": {
    "papermill": {},
    "tags": []
   },
   "outputs": [],
   "source": [
    "# LinkedIn cookies\n",
    "LI_AT = \"ENTER_YOUR_COOKIE_HERE\" # EXAMPLE : \"AQFAzQN_PLPR4wAAAXc-FCKmgiMit5FLdY1af3-2\"\n",
    "JSESSIONID = \"ENTER_YOUR_JSESSIONID_HERE\" # EXAMPLE : \"ajax:8379907400220387585\"\n",
    "\n",
    "# LinkedIn profile url\n",
    "PROFILE_URL = \"ENTER_YOUR_LINKEDIN_PROFILE_HERE\" # EXAMPLE \"https://www.linkedin.com/in/myprofile/\"\n",
    "\n",
    "# The first execution all posts will be retrieved.\n",
    "# Then, you can use the parameter below to setup the number of posts you want to retrieved from LinkedIn API everytime this notebook is run.\n",
    "NO_POSTS_RETRIEVED = 10"
   ]
  },
  {
   "cell_type": "markdown",
   "id": "64ae7a5a-47b0-46f1-93b4-a382abb44330",
   "metadata": {
    "papermill": {},
    "tags": []
   },
   "source": [
    "### Setup Outputs\n",
    "Create CSV to store your posts interactions "
   ]
  },
  {
   "cell_type": "code",
   "execution_count": null,
   "id": "a08de609-f523-4a98-89b8-b572f2a91e4c",
   "metadata": {
    "papermill": {},
    "tags": []
   },
   "outputs": [],
   "source": [
    "# Custom Path of your CSV with profile URL\n",
    "profile_id = PROFILE_URL.split(\"https://www.linkedin.com/in/\")[-1].split(\"/\")[0]\n",
    "profile_id = urllib.parse.unquote(profile_id)\n",
    "\n",
    "# Inputs\n",
    "csv_posts = f\"LINKEDIN_POSTS_{profile_id}.csv\"\n",
    "csv_likes = f\"LINKEDIN_POSTS_LIKES_{profile_id}.csv\"\n",
    "csv_comments = f\"LINKEDIN_POSTS_COMMENTS_{profile_id}.csv\"\n",
    "\n",
    "# Outputs\n",
    "csv_interactions = f\"LINKEDIN_INTERACTIONS_{profile_id}.csv\"\n",
    "csv_scoring = f\"LINKEDIN_SCORING_{profile_id}.csv\"\n",
    "csv_contacts = f\"HUBSPOT_CONTACTS_{profile_id}.csv\""
   ]
  },
  {
   "cell_type": "markdown",
   "id": "d71650b1-0b57-4e2a-8031-8e969aa76f83",
   "metadata": {},
   "source": [
    "### Setup your HubSpot\n",
    "- Access your [HubSpot API key](https://knowledge.hubspot.com/integrations/how-do-i-get-my-hubspot-api-key)\n",
    "- How to find HubSpot [internal field names](https://support.sakari.io/hc/en-us/articles/360038865772-How-to-Find-HubSpot-Internal-Field-Names) ?\n",
    "- [Create your scoring field in HubSpot](https://knowledge.hubspot.com/crm-setup/manage-your-properties)"
   ]
  },
  {
   "cell_type": "code",
   "execution_count": null,
   "id": "f317d781-6b9b-4344-ac04-01d4e5f8f3d8",
   "metadata": {
    "tags": []
   },
   "outputs": [],
   "source": [
    "# Enter Token API\n",
    "HS_API_KEY = \"ENTER_YOUR_COOKIE_HERE\" # EXAMPLE : \"7865b95b-7731-7843-2537-34284HSKHEZ\"\n",
    "\n",
    "# Linkedin field or URL (internal name)\n",
    "HS_LINKEDIN_FIELD = \"ENTER_YOUR_LINKEDIN_FIELD_HERE\" # EXAMPLE : \"linkedinbio\"\n",
    "HS_SCORING_FIELD = \"ENTER_YOUR_SCORING_FIELD_HERE\" # EXAMPLE : \"scoring\""
   ]
  },
  {
   "cell_type": "markdown",
   "id": "f7338ab8-0edd-4e3d-8748-33264508790c",
   "metadata": {
    "papermill": {},
    "tags": []
   },
   "source": [
    "### Setup Naas scheduler"
   ]
  },
  {
   "cell_type": "code",
   "execution_count": null,
   "id": "1be3925f-31ec-4648-8d58-ff4de480a954",
   "metadata": {
    "papermill": {},
    "tags": []
   },
   "outputs": [],
   "source": [
    "# the default settings below will make the notebook run everyday at 8:00\n",
    "# for information on changing this setting, please check https://crontab.guru/ for information on the required CRON syntax \n",
    "naas.scheduler.add(cron=\"0 8 * * *\")\n",
    "\n",
    "# this notebook will run each week until de-scheduled\n",
    "# to de-schedule this notebook, simply run the following command: \n",
    "# naas.scheduler.delete()"
   ]
  },
  {
   "cell_type": "markdown",
   "id": "78fd3b62-5ca4-4468-9cf1-7fd6d079320f",
   "metadata": {
    "execution": {
     "iopub.execute_input": "2022-04-12T10:09:23.296057Z",
     "iopub.status.busy": "2022-04-12T10:09:23.295748Z",
     "iopub.status.idle": "2022-04-12T10:09:23.299059Z",
     "shell.execute_reply": "2022-04-12T10:09:23.298449Z",
     "shell.execute_reply.started": "2022-04-12T10:09:23.296024Z"
    },
    "papermill": {},
    "tags": []
   },
   "source": [
    "## Model"
   ]
  },
  {
   "cell_type": "markdown",
   "id": "b8f8248d-2bb7-4659-bec3-57bba6badc1e",
   "metadata": {
    "papermill": {},
    "tags": []
   },
   "source": [
    "### Get your posts from CSV\n",
    "All your posts interactions will be stored in CSV."
   ]
  },
  {
   "cell_type": "code",
   "execution_count": null,
   "id": "96b095ed-c57b-446b-b4a3-6e985f0f83d2",
   "metadata": {
    "tags": []
   },
   "outputs": [],
   "source": [
    "def get_csv(file_path):\n",
    "    try:\n",
    "        df = pd.read_csv(file_path)\n",
    "    except FileNotFoundError as e:\n",
    "        # Empty dataframe returned\n",
    "        return pd.DataFrame()\n",
    "    print(f\"Dataframe: {len(df)} rows\")\n",
    "    return df"
   ]
  },
  {
   "cell_type": "code",
   "execution_count": null,
   "id": "e664a17e-8d6a-446b-8d74-2c37f6c61102",
   "metadata": {
    "papermill": {},
    "tags": []
   },
   "outputs": [],
   "source": [
    "df_posts = get_csv(csv_posts)\n",
    "df_posts.head(1)"
   ]
  },
  {
   "cell_type": "markdown",
   "id": "22040cda-8fea-43cf-90ea-ea7edc725d7f",
   "metadata": {},
   "source": [
    "### Get who likes your posts"
   ]
  },
  {
   "cell_type": "code",
   "execution_count": null,
   "id": "6b8ab7f4-9dba-4191-9461-848040629a7b",
   "metadata": {
    "tags": []
   },
   "outputs": [],
   "source": [
    "df_likes = get_csv(csv_likes)\n",
    "df_likes.head(1)"
   ]
  },
  {
   "cell_type": "markdown",
   "id": "ba290f36-91bc-4a3d-80ea-103624bcc360",
   "metadata": {},
   "source": [
    "### Get who comments your posts"
   ]
  },
  {
   "cell_type": "code",
   "execution_count": null,
   "id": "847a1ac8-0859-4af7-b4d1-316bb38e01d3",
   "metadata": {
    "tags": []
   },
   "outputs": [],
   "source": [
    "df_comments = get_csv(csv_comments)\n",
    "df_comments.head(1)"
   ]
  },
  {
   "cell_type": "markdown",
   "id": "5d594b91-0bc9-48c9-b771-a5ffcbeaafa8",
   "metadata": {},
   "source": [
    "### Get contacts from HubSpot\n",
    "This step returns all contacts in HubSpot with contact id and linkedin value"
   ]
  },
  {
   "cell_type": "code",
   "execution_count": null,
   "id": "33255f84-f39e-4cbd-b905-ba2ef233a75a",
   "metadata": {
    "tags": []
   },
   "outputs": [],
   "source": [
    "df_contacts = hubspot.connect(HS_API_KEY).contacts.get_all(columns=[\"hs_object_id\", HS_LINKEDIN_FIELD, HS_SCORING_FIELD])\n",
    "print(f\"{len(df_contacts)} contacts fetched in HubSpot.\")\n",
    "df_contacts.head(1)"
   ]
  },
  {
   "cell_type": "markdown",
   "id": "0a50683f-224e-4984-a37b-6b8dd3c59a8d",
   "metadata": {
    "papermill": {},
    "tags": []
   },
   "source": [
    "### Update posts\n",
    "It will get the last X posts from LinkedIn API (X = number of set in variable \"NO_POSTS_RETRIEVED\") and update it in your CSV.<br>\n",
    "PS: On the first execution all posts will be retrieved."
   ]
  },
  {
   "cell_type": "code",
   "execution_count": null,
   "id": "48c0f649-35d1-4c02-b9a3-37c4c62dadbe",
   "metadata": {
    "papermill": {},
    "tags": []
   },
   "outputs": [],
   "source": [
    "def update_posts(df_posts,\n",
    "                 csv_output,\n",
    "                 key=\"POST_URL\",\n",
    "                 no_posts=10,\n",
    "                 min_updated_time=60):\n",
    "    # Init output\n",
    "    df = pd.DataFrame()\n",
    "    df_new = pd.DataFrame()\n",
    "    \n",
    "    # Init df posts is empty then return entire database\n",
    "    if len(df_posts) > 0:\n",
    "        if \"DATE_EXTRACT\" in df_posts.columns:\n",
    "            last_update_date = df_posts[\"DATE_EXTRACT\"].max()\n",
    "            time_last_update = datetime.now() - datetime.strptime(last_update_date, \"%Y-%m-%d %H:%M:%S\")\n",
    "            minute_last_update = time_last_update.total_seconds() / 60\n",
    "            if minute_last_update > min_updated_time:\n",
    "                # If df posts not empty get the last X posts (new and already existing)\n",
    "                df_new = linkedin.connect(LI_AT, JSESSIONID).profile.get_posts_feed(PROFILE_URL,\n",
    "                                                                                    limit=no_posts,\n",
    "                                                                                    sleep=False)\n",
    "                df_new[\"DATE_EXTRACT\"] = datetime.now().strftime(\"%Y-%m-%d %H:%M:%S\")\n",
    "            else:\n",
    "                print(f\"🛑 Nothing to update. Last update done {int(minute_last_update)} minutes ago.\")\n",
    "                print(f\"✅ {len(df_posts)} posts fetched.\")\n",
    "                return df_posts\n",
    "    else:\n",
    "        df_new = linkedin.connect(LI_AT, JSESSIONID).profile.get_posts_feed(PROFILE_URL,\n",
    "                                                                            limit=-1)\n",
    "        df_new[\"DATE_EXTRACT\"] = datetime.now().strftime(\"%Y-%m-%d %H:%M:%S\")\n",
    "\n",
    "    # Concat, save database in CSV and dependency in production\n",
    "    df = pd.concat([df_new, df_posts]).drop_duplicates(key, keep=\"first\")\n",
    "    df.to_csv(csv_output, index=False)\n",
    "    naas.dependency.add(csv_output)\n",
    "\n",
    "    # Return all posts\n",
    "    print(f\"✅ {len(df)} posts fetched.\")\n",
    "    return df.reset_index(drop=True)\n",
    "\n",
    "df_posts = update_posts(df_posts,\n",
    "                        csv_posts,\n",
    "                        no_posts=NO_POSTS_RETRIEVED)\n",
    "df_posts.head(1)"
   ]
  },
  {
   "cell_type": "markdown",
   "id": "10765e57-8597-4b08-9157-a4ef78082328",
   "metadata": {
    "papermill": {},
    "tags": []
   },
   "source": [
    "### Update likes\n",
    "It will update your last X (X = number of set in variable \"NO_POSTS_RETRIEVED\") posts like's from LinkedIn API.<br>\n",
    "PS: On the first execution all posts like's will be retrieved."
   ]
  },
  {
   "cell_type": "code",
   "execution_count": null,
   "id": "bb517108-065c-4a78-9c37-cf1ab486daff",
   "metadata": {
    "tags": []
   },
   "outputs": [],
   "source": [
    "# Get interactions\n",
    "def get_interactions(interaction, post_url):\n",
    "    df = pd.DataFrame()\n",
    "    if interaction == \"LIKES\":\n",
    "        df = linkedin.connect(LI_AT, JSESSIONID).post.get_likes(post_url)\n",
    "    elif interaction == \"COMMENTS\":\n",
    "        df = linkedin.connect(LI_AT, JSESSIONID).post.get_comments(post_url)\n",
    "    return df"
   ]
  },
  {
   "cell_type": "code",
   "execution_count": null,
   "id": "6cedc8b2-bfee-4706-af52-e3bea953cd2e",
   "metadata": {
    "papermill": {},
    "tags": []
   },
   "outputs": [],
   "source": [
    "def update_interactions(df_posts,\n",
    "                        df_interaction,\n",
    "                        interaction,\n",
    "                        csv_output,\n",
    "                        no_posts=10):\n",
    "    # Init\n",
    "    df_out = df_interaction.copy()\n",
    "        \n",
    "    # Get all interactions if dataframe init empty or not complete\n",
    "    if len(df_interaction) > 0:\n",
    "        df_posts = df_posts[:no_posts]\n",
    "    \n",
    "    # Loop on posts\n",
    "    for index, row in df_posts.iterrows():\n",
    "        df_update = pd.DataFrame()\n",
    "        post_title = row.TITLE\n",
    "        post_author = row.AUTHOR_NAME\n",
    "        post_url = row.POST_URL\n",
    "        post_date = row.PUBLISHED_DATE\n",
    "        count_interactions = row[interaction]\n",
    "        print(f\"🔄 {index+1} - Update started on: '{post_title}' ({post_url})\")\n",
    "        \n",
    "        # Get interactions from post URL\n",
    "        if len(df_interaction) > 0:\n",
    "            tmp_df = df_interaction[df_interaction.POST_URL == post_url]\n",
    "            no_interactions = len(tmp_df)\n",
    "            if count_interactions != no_interactions:\n",
    "                print(f\"--> {count_interactions} post interaction count vs {no_interactions} interactions.\")\n",
    "                df_update = get_interactions(interaction, post_url)\n",
    "            else:\n",
    "                print(\"--->🛑 Nothing to update.\")\n",
    "        else:\n",
    "            df_update = get_interactions(interaction, post_url)\n",
    "        \n",
    "        # Concat dataframe and save dataframe in CSV\n",
    "        if len(df_update) > 0:\n",
    "            print(f\"---> {len(df_update)} interactions fetched.\")\n",
    "            df_update['TITLE'] = post_title\n",
    "            df_update['AUTHOR_NAME'] = post_author\n",
    "            df_update['PUBLISHED_DATE'] = post_date\n",
    "            df_update[\"DATE_EXTRACT\"] = datetime.now().strftime(\"%Y-%m-%d %H:%M:%S\")\n",
    "            keys = [\"POST_URL\", \"PROFILE_ID\"]\n",
    "            if interaction == \"COMMENTS\":\n",
    "                keys = [\"POST_URL\", \"PROFILE_ID\", \"CREATED_TIME\"]\n",
    "            df_out = pd.concat([df_update, df_out]).drop_duplicates(keys, keep=\"first\")\n",
    "            df_out.to_csv(csv_output, index=False)\n",
    "            \n",
    "    # Add dependency in production\n",
    "    print(f\"✅ {len(df_out)} '{interaction}' fetched.\")\n",
    "    naas.dependency.add(csv_output)\n",
    "\n",
    "    # Return all interactions\n",
    "    return df_out.reset_index(drop=True)"
   ]
  },
  {
   "cell_type": "code",
   "execution_count": null,
   "id": "c9787390-25c5-4c82-8901-160aea26ca92",
   "metadata": {
    "tags": []
   },
   "outputs": [],
   "source": [
    "df_likes = update_interactions(df_posts,\n",
    "                               df_likes,\n",
    "                               \"LIKES\",\n",
    "                               csv_likes,\n",
    "                               NO_POSTS_RETRIEVED)\n",
    "df_likes.head(1)"
   ]
  },
  {
   "cell_type": "markdown",
   "id": "6304b30e-3338-485c-9791-c78cf5b9de41",
   "metadata": {},
   "source": [
    "### Update comments\n",
    "It will update your last X (X = number of set in variable \"NO_POSTS_RETRIEVED\") posts comment's from LinkedIn API.<br>\n",
    "PS: On the first execution all posts comment's will be retrieved."
   ]
  },
  {
   "cell_type": "code",
   "execution_count": null,
   "id": "96887ed1-9b31-48e9-83b5-e19e152afd7e",
   "metadata": {
    "tags": []
   },
   "outputs": [],
   "source": [
    "df_comments = update_interactions(df_posts,\n",
    "                                  df_comments,\n",
    "                                  \"COMMENTS\",\n",
    "                                  csv_comments,\n",
    "                                  NO_POSTS_RETRIEVED)\n",
    "df_comments.head(1)"
   ]
  },
  {
   "cell_type": "markdown",
   "id": "a25be8ca-08d5-49eb-ab8e-a1702a7ad1fa",
   "metadata": {},
   "source": [
    "### Create scoring database\n",
    "- Get LIKES and COMMENTS by profile\n",
    "- Calculate SCORE : LIKES + COMMENTS\n",
    "- Add last interaction information"
   ]
  },
  {
   "cell_type": "code",
   "execution_count": null,
   "id": "67598ac8-7078-4d69-95a0-735a23ac7e41",
   "metadata": {
    "tags": []
   },
   "outputs": [],
   "source": [
    "def create_scoring_db(df_likes, df_comments):\n",
    "    # Init outputs\n",
    "    df = pd.DataFrame()\n",
    "    \n",
    "    # Dataframe likes\n",
    "    df1 = df_likes.groupby(\"PROFILE_ID\", as_index=False).agg({\"POST_URL\": \"count\"})\n",
    "    df1 = df1.rename(columns={\"POST_URL\": \"LIKES\"})\n",
    "\n",
    "    # Dataframe comments\n",
    "    df2 = df_comments.groupby(\"PROFILE_ID\", as_index=False).agg({\"POST_URL\": \"count\"})\n",
    "    df2 = df2.rename(columns={\"POST_URL\": \"COMMENTS\"})\n",
    "    \n",
    "    # Merge dataframe\n",
    "    df = pd.merge(df1, df2, on=\"PROFILE_ID\", how=\"outer\").fillna(0)\n",
    "    \n",
    "    # Calc score\n",
    "    df[\"SCORE\"] = df[\"LIKES\"] + df[\"COMMENTS\"]\n",
    "    \n",
    "    # Group by profile\n",
    "    to_keep = [\n",
    "        \"PROFILE_ID\",\n",
    "        \"PROFILE_URL\",\n",
    "        \"PUBLIC_ID\",\n",
    "        \"FIRSTNAME\",\n",
    "        \"LASTNAME\",\n",
    "        \"FULLNAME\",\n",
    "        \"OCCUPATION\",\n",
    "        \"PROFILE_TYPE\",\n",
    "        \"POST_URL\",\n",
    "        \"AUTHOR_NAME\",\n",
    "        \"TITLE\",\n",
    "        \"PUBLISHED_DATE\"\n",
    "    ]\n",
    "    df_meta1 = df_likes[to_keep]\n",
    "    df_meta2 = df_comments[to_keep]\n",
    "    df_meta = pd.concat([df_meta1, df_meta2]).drop_duplicates(\"PROFILE_ID\", keep=\"first\")\n",
    "    to_rename = {\n",
    "        \"POST_URL\": \"LAST_INTERACTION_POST_URL\",\n",
    "        \"PUBLISHED_DATE\": \"LAST_INTERACTION_DATE\",\n",
    "        \"TITLE\": \"LAST_INTERACTION_POST_TITLE\",\n",
    "    }\n",
    "    df_meta = df_meta.rename(columns=to_rename)\n",
    "    \n",
    "    # Merge data to get meta\n",
    "    df = pd.merge(df_meta, df, on=\"PROFILE_ID\")\n",
    "    df = df.sort_values(by=\"SCORE\", ascending=False)\n",
    "    print(f\"✅ {len(df)} profiles fetched.\")\n",
    "    return df.reset_index(drop=True)\n",
    "\n",
    "df_scoring = create_scoring_db(df_likes, df_comments)\n",
    "df_scoring.head(3)"
   ]
  },
  {
   "cell_type": "markdown",
   "id": "0d56574e-0060-4099-9b77-74c43243ebd9",
   "metadata": {},
   "source": [
    "### Add HubSpot contact ID to LinkedIn\n",
    "If LinkedIn PROFILE_ID or PUBLIC_ID match with HS_LINKEDIN_FIELD in HubSpot, contact ID will be returned for contact.<br>\n",
    "Otherwise, a new contact will be created in HubSpot."
   ]
  },
  {
   "cell_type": "code",
   "execution_count": null,
   "id": "0a6586e0-6179-4bd1-bfb9-4929b81f3e77",
   "metadata": {
    "tags": []
   },
   "outputs": [],
   "source": [
    "def add_hs_contact_id(df_linkedin, df_hubspot):\n",
    "    # Cleaning\n",
    "    df_hubspot[HS_LINKEDIN_FIELD] = df_hubspot[HS_LINKEDIN_FIELD].fillna(\"TBU\")\n",
    "    df_hubspot[HS_SCORING_FIELD] = df_hubspot[HS_SCORING_FIELD].fillna(0)\n",
    "    df_linkedin = df_linkedin.reset_index(drop=True)\n",
    "    \n",
    "    # Loop in interaction dataframe\n",
    "    for index, row in df_linkedin.iterrows():\n",
    "        contact_id = \"\"\n",
    "        score = 0\n",
    "        fullname = row.FULLNAME\n",
    "        profile_id = row.PROFILE_ID\n",
    "        public_id = row.PUBLIC_ID\n",
    "        profile_url = row.PROFILE_URL\n",
    "        print(f\"{index+1} - ➡️ Checking : {fullname} ({public_id})\")\n",
    "        \n",
    "        # Check profile ID, public ID and encoding public ID\n",
    "        profile_ids = [public_id, profile_id]\n",
    "        encode_public_id = urllib.parse.quote(public_id)\n",
    "        if encode_public_id != public_id:\n",
    "            profile_ids = profile_ids + [encode_public_id]\n",
    "        df_profile = pd.DataFrame()\n",
    "        for profile in profile_ids:\n",
    "            tmp_df = df_hubspot[df_hubspot[HS_LINKEDIN_FIELD].str.match(f\".+{profile}+\")].reset_index(drop=True)\n",
    "            df_profile = pd.concat([df_profile, tmp_df]).reset_index(drop=True)\n",
    "            \n",
    "        # Get contact ID(s)\n",
    "        if len(df_profile) > 0:\n",
    "            contact_ids = df_profile[\"hs_object_id\"].unique().tolist()\n",
    "            score = df_profile.loc[0, HS_SCORING_FIELD]\n",
    "            \n",
    "            # Update LinkedIn field with url with PROFILE_ID => PUBLIC ID can be change by user but PUBLIC_ID is unique\n",
    "            for i, r in df_profile.iterrows():\n",
    "                hs_id = r[\"hs_object_id\"]\n",
    "                lk_field = r[HS_LINKEDIN_FIELD]\n",
    "                if profile_id not in lk_field:\n",
    "                    hubspot.connect(HS_API_KEY).contacts.patch(hs_id, {\"properties\": {HS_LINKEDIN_FIELD: profile_url}})\n",
    "            \n",
    "            # List to string\n",
    "            contact_id = \",\".join(contact_ids)\n",
    "        else:\n",
    "            contact = {\n",
    "                \"properties\": {\n",
    "                    \"firstname\": row.FIRSTNAME,\n",
    "                    \"lastname\": row.LASTNAME,\n",
    "                    \"jobtitle\": row.OCCUPATION,\n",
    "                    HS_LINKEDIN_FIELD: row.PROFILE_URL,\n",
    "                    HS_SCORING_FIELD: score,\n",
    "                }\n",
    "            }\n",
    "            contact_id = hubspot.connect(HS_API_KEY).contacts.send(contact)\n",
    "            \n",
    "        # Add contact ID(s) to LinkedIn profile\n",
    "        df_linkedin.loc[index, \"HS_CONTACT_ID\"] = contact_id\n",
    "        df_linkedin.loc[index, \"HS_SCORE\"] = score\n",
    "\n",
    "    # Save dataframe to csv\n",
    "    df_linkedin[\"DATE_EXTRACT\"] = datetime.now().strftime(\"%Y-%m-%d %H:%M:%S\")\n",
    "    df_linkedin.to_csv(csv_interactions, index=False)\n",
    "    return df_linkedin\n",
    "\n",
    "db_scoring = add_hs_contact_id(df_scoring, df_contacts)\n",
    "db_scoring"
   ]
  },
  {
   "cell_type": "markdown",
   "id": "af194c87-87b3-4379-b870-9ea01e0ff90f",
   "metadata": {},
   "source": [
    "### Create interactions database\n",
    "- Concat LIKES and COMMENTS in single database\n",
    "- Create note for HubSpot"
   ]
  },
  {
   "cell_type": "code",
   "execution_count": null,
   "id": "648a78c8-2cdd-4ebb-88b3-c960f3b13fbd",
   "metadata": {
    "tags": []
   },
   "outputs": [],
   "source": [
    "def create_interactions_db(df_likes, df_comments):\n",
    "    # Init outputs\n",
    "    df = pd.DataFrame()\n",
    "    \n",
    "    # Dataframe likes\n",
    "    df_likes[\"REACTION\"] = \"LIKES\"\n",
    "    df_likes[\"NOTE\"] = \"Liked on '\" + df_likes[\"TITLE\"]  + \"'\"\n",
    "    df_likes[\"NOTE_HTML\"] = \"Liked on <a href='\" + df_likes[\"POST_URL\"] + \"'>'\" + df_likes[\"TITLE\"]  + \"'</a>\"\n",
    "\n",
    "    # Dataframe comments\n",
    "    df_comments[\"REACTION\"] = \"COMMENTS\"\n",
    "    df_comments[\"NOTE\"] = \"Commented '\" + df_comments[\"TEXT\"] + \"' on '\" + df_comments[\"TITLE\"] + \"'\"\n",
    "    df_comments[\"NOTE_HTML\"] = \"Commented '\" + df_comments[\"TEXT\"] + \"' on <a href='\" + df_comments[\"POST_URL\"] + \"'>'\" + df_comments[\"TITLE\"]  + \"'</a>\"\n",
    "    \n",
    "    # Concat\n",
    "    df = pd.concat([df_likes, df_comments]).fillna(\"Not defined\").sort_values(by=\"PUBLISHED_DATE\", ascending=False)\n",
    "    \n",
    "    # Cleaning\n",
    "    to_keep = [\n",
    "        \"PROFILE_ID\",\n",
    "        \"PROFILE_URL\",\n",
    "        \"PUBLIC_ID\",\n",
    "        \"FIRSTNAME\",\n",
    "        \"LASTNAME\",\n",
    "        \"FULLNAME\",\n",
    "        \"REACTION\",\n",
    "        \"TEXT\",\n",
    "        \"TITLE\",\n",
    "        \"PUBLISHED_DATE\",\n",
    "        \"AUTHOR_NAME\",\n",
    "        \"POST_URL\",\n",
    "        \"NOTE\",\n",
    "        \"NOTE_HTML\"\n",
    "    ]\n",
    "    df = df[to_keep]\n",
    "    \n",
    "    print(f\"✅ {len(df)} interactions fetched.\")\n",
    "    return df.reset_index(drop=True)\n",
    "\n",
    "df_interactions = create_interactions_db(df_likes, df_comments)\n",
    "df_interactions.head(3)"
   ]
  },
  {
   "cell_type": "markdown",
   "id": "8b76191a-686b-4ac8-a0e7-b56ac9f1bfbb",
   "metadata": {
    "execution": {
     "iopub.execute_input": "2022-04-12T14:42:10.762125Z",
     "iopub.status.busy": "2022-04-12T14:42:10.761884Z",
     "iopub.status.idle": "2022-04-12T14:42:10.764880Z",
     "shell.execute_reply": "2022-04-12T14:42:10.764227Z",
     "shell.execute_reply.started": "2022-04-12T14:42:10.762100Z"
    },
    "papermill": {},
    "tags": []
   },
   "source": [
    "## Output"
   ]
  },
  {
   "cell_type": "markdown",
   "id": "4e1853b5-aa6a-48ec-a347-b8938a6000bf",
   "metadata": {},
   "source": [
    "### Create note with association"
   ]
  },
  {
   "cell_type": "code",
   "execution_count": null,
   "id": "0c04e301-1141-4a43-97b9-0f904d5e4f2d",
   "metadata": {
    "tags": []
   },
   "outputs": [],
   "source": [
    "def create_note(content, contactids=None, dealids=None, companyids=None, ownerid=None, date_time=None):\n",
    "    # Setup timestamp\n",
    "    if date_time is not None:\n",
    "        timestamp = str(int(datetime.strptime(date_time[:19], \"%Y-%m-%d %H:%M:%S\").timestamp())) + \"000\"\n",
    "    else:\n",
    "        timestamp = str(int(datetime.now().timestamp())) + \"000\"\n",
    "        \n",
    "    # Setup payload\n",
    "    payload = json.dumps(\n",
    "        {\n",
    "            \"engagement\": {\n",
    "                \"active\": \"true\",\n",
    "                \"ownerId\": ownerid,\n",
    "                \"type\": \"NOTE\",\n",
    "                \"timestamp\": timestamp,\n",
    "            },\n",
    "            \"associations\": {\n",
    "                \"contactIds\": [contactids],\n",
    "                \"dealIds\": [dealids],\n",
    "                \"companyIds\": [companyids],\n",
    "            },\n",
    "            \"attachments\": [{}],\n",
    "            \"metadata\": {\"body\": content},\n",
    "        }\n",
    "    )\n",
    "    headers = {\n",
    "            \"accept\": \"application/json\",\n",
    "            \"content-type\": \"application/json\",\n",
    "        }\n",
    "    params = {\"limit\": \"100\",\n",
    "              \"archived\": \"false\",\n",
    "              \"hapikey\": HS_API_KEY}\n",
    "    url = \"https://api.hubapi.com/engagements/v1/engagements\"\n",
    "    # Requests data\n",
    "    res = requests.post(url,\n",
    "                        data=payload,\n",
    "                        headers=headers,\n",
    "                        params=params,\n",
    "                        allow_redirects=False)\n",
    "    res.raise_for_status()\n",
    "    res_json = res.json()\n",
    "    # Note ID\n",
    "    note_id = res_json.get(\"engagement\").get(\"id\")\n",
    "    # Message success\n",
    "    print(f\"✅ New note created '{note_id} 'in HubSpot: {content}\")\n",
    "    return note_id0000"
   ]
  },
  {
   "cell_type": "markdown",
   "id": "1f207e8c-bfc2-4347-9324-83ab67ec40af",
   "metadata": {},
   "source": [
    "### Get notes from contacts"
   ]
  },
  {
   "cell_type": "code",
   "execution_count": null,
   "id": "29ef5422-1b5a-41ff-8a11-027e8979485c",
   "metadata": {
    "tags": []
   },
   "outputs": [],
   "source": [
    "def get_notes_from_contact(contact_id):\n",
    "    url = f'https://api.hubapi.com/engagements/v1/engagements/associated/contact/{contact_id}/paged'\n",
    "    querystring = {\n",
    "        \"archived\": \"false\",\n",
    "        \"hapikey\": HS_API_KEY,\n",
    "        \"limit\": 100,\n",
    "    }\n",
    "    headers = {'accept': 'application/json'}\n",
    "\n",
    "    # Get all notes\n",
    "    df_notes = pd.DataFrame()\n",
    "    engagements = []\n",
    "    has_more = True\n",
    "    offset = None\n",
    "    while has_more:\n",
    "        if offset is not None:\n",
    "            querystring[\"offset\"] = offset\n",
    "            \n",
    "        # Requests data\n",
    "        res = requests.get(url,\n",
    "                           headers=headers,\n",
    "                           params=querystring)\n",
    "        res.raise_for_status()\n",
    "        res_json = res.json()\n",
    "        results = res_json.get(\"results\")\n",
    "        if len(results) > 0:\n",
    "            for result in results:\n",
    "                uid = result.get(\"engagement\").get(\"id\")\n",
    "                content = result.get(\"engagement\").get(\"bodyPreview\")\n",
    "                content_type = result.get(\"engagement\").get(\"type\")\n",
    "                timestamp = result.get(\"engagement\").get(\"timestamp\")\n",
    "                engagement = {\n",
    "                    \"UID\": uid,\n",
    "                    \"TIMESTAMP\": timestamp,\n",
    "                    \"CONTENT\": content,\n",
    "                    \"TYPE\": content_type\n",
    "                }\n",
    "                engagements.append(engagement)\n",
    "        has_more = res_json.get(\"hasMore\")\n",
    "        offset = res_json.get(\"offset\")\n",
    "        \n",
    "    df_engagements = pd.DataFrame(engagements)\n",
    "    if len(df_engagements) > 0:\n",
    "        df_notes = df_engagements[df_engagements[\"TYPE\"] == \"NOTE\"].sort_values(\"TIMESTAMP\").reset_index(drop=True)\n",
    "    print(f\"✅ {len(df_notes)} notes fetched from contact {contact_id}\")\n",
    "    return df_notes"
   ]
  },
  {
   "cell_type": "markdown",
   "id": "64e6fe35-b85d-46a5-86ea-71fabf8ddc2f",
   "metadata": {},
   "source": [
    "### Update contact score and send interactions to notes\n",
    "- Update score to profile\n",
    "- Add new notes if does not already exists"
   ]
  },
  {
   "cell_type": "code",
   "execution_count": null,
   "id": "7b8b7792-fad7-4a0a-ada5-9759e774e069",
   "metadata": {
    "tags": []
   },
   "outputs": [],
   "source": [
    "def update_hs_contact(df_score, df_interactions, public_id):\n",
    "    # Init output\n",
    "    df_out = pd.DataFrame()\n",
    "    \n",
    "    # Filter to get updated score and exclude yourself\n",
    "    df = df_score[(df_score[\"SCORE\"].astype(float) != df_score[\"HS_SCORE\"].astype(float)) & \n",
    "                  (df_score[\"PUBLIC_ID\"] != public_id)].reset_index(drop=True)\n",
    "    if len(df) == 0:\n",
    "        print(\"🛑 Nothing to update.\")\n",
    "        return df\n",
    "\n",
    "    # Loop on dataframe\n",
    "    for index, row in df.iterrows():\n",
    "        # Init variables\n",
    "        contact_ids = row.HS_CONTACT_ID\n",
    "        fullname = row.FULLNAME\n",
    "        hs_score = row.HS_SCORE\n",
    "        score = row.SCORE\n",
    "        profile_id = row.PROFILE_ID\n",
    "        print(f\"{index+1} - ➡️ Checking : {fullname} ({contact_ids})\")\n",
    "        \n",
    "        # Split and iterate on contact IDs\n",
    "        hs_ids = contact_ids.split(\",\")\n",
    "        for hs_id in hs_ids:\n",
    "            print(f\"--> starting with HubSpot ID: {hs_id}\")\n",
    "            # -> Update score\n",
    "            if hs_id != \"\":\n",
    "                if float(hs_score) != float(score):\n",
    "                    hubspot.connect(HS_API_KEY).contacts.patch(hs_id, {\"properties\": {HS_SCORING_FIELD: int(score)}})\n",
    "                \n",
    "                #-> Send interactions to notes\n",
    "                # Create interactions dataframe\n",
    "                tmp_df = df_interactions[df_interactions[\"PROFILE_ID\"] == profile_id].reset_index(drop=True)\n",
    "                \n",
    "                # Get notes from contact\n",
    "                df_notes = get_notes_from_contact(hs_id)\n",
    "\n",
    "                # Add all interactions if does not already exist\n",
    "                hs_notes = []\n",
    "                for i, r in tmp_df.iterrows():\n",
    "                    note = r.NOTE\n",
    "                    note_html = r.NOTE_HTML\n",
    "                    date = r.PUBLISHED_DATE\n",
    "                    if len(df_notes) > 0:\n",
    "                        hs_notes = [x.replace(\" \", \"\") for x in df_notes[\"CONTENT\"].unique().tolist() if x is not None] \n",
    "                        \n",
    "                    if note.replace(\" \", \"\") not in hs_notes:\n",
    "                        create_note(note_html, contactids=hs_id, date_time=date)\n",
    "                df_out = pd.concat([df_out, tmp_df])\n",
    "    return df_out\n",
    "\n",
    "df_leads = update_hs_contact(db_scoring, df_interactions, profile_id)\n",
    "df_leads"
   ]
  },
  {
   "cell_type": "markdown",
   "id": "23a56cc4-e2a3-4c1e-9ee7-1b53fb14869a",
   "metadata": {},
   "source": [
    "### Save scoring dataframe to csv"
   ]
  },
  {
   "cell_type": "code",
   "execution_count": null,
   "id": "9c9d6156-8f88-4a84-8663-6107d7cc9951",
   "metadata": {
    "tags": []
   },
   "outputs": [],
   "source": [
    "df_scoring.to_csv(csv_scoring, index=False)"
   ]
  },
  {
   "cell_type": "markdown",
   "id": "8fc7dd85-cb09-4564-8741-a59614694195",
   "metadata": {},
   "source": [
    "### Save interactions dataframe to csv"
   ]
  },
  {
   "cell_type": "code",
   "execution_count": null,
   "id": "c025602b-42d2-4bc3-9089-5c271f7c113f",
   "metadata": {
    "tags": []
   },
   "outputs": [],
   "source": [
    "df_interactions.to_csv(csv_interactions, index=False)"
   ]
  }
 ],
 "metadata": {
  "kernelspec": {
   "display_name": "Python 3",
   "language": "python",
   "name": "python3"
  },
  "language_info": {
   "codemirror_mode": {
    "name": "ipython",
    "version": 3
   },
   "file_extension": ".py",
   "mimetype": "text/x-python",
   "name": "python",
   "nbconvert_exporter": "python",
   "pygments_lexer": "ipython3",
   "version": "3.9.6"
  },
  "papermill": {
   "default_parameters": {},
   "environment_variables": {},
   "parameters": {},
   "version": "2.3.4"
  }
 },
 "nbformat": 4,
 "nbformat_minor": 5
}
