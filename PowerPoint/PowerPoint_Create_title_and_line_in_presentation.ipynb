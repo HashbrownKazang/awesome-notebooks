{
 "cells": [
  {
   "cell_type": "markdown",
   "id": "latin-packing",
   "metadata": {
    "execution": {
     "iopub.execute_input": "2021-02-23T14:22:16.610471Z",
     "iopub.status.busy": "2021-02-23T14:22:16.610129Z",
     "iopub.status.idle": "2021-02-23T14:22:16.627784Z",
     "shell.execute_reply": "2021-02-23T14:22:16.626866Z",
     "shell.execute_reply.started": "2021-02-23T14:22:16.610384Z"
    },
    "papermill": {},
    "tags": []
   },
   "source": [
    "<img width=\"10%\" alt=\"Naas\" src=\"https://landen.imgix.net/jtci2pxwjczr/assets/5ice39g4.png?w=160\"/>"
   ]
  },
  {
   "cell_type": "markdown",
   "id": "compressed-wilson",
   "metadata": {
    "papermill": {},
    "tags": []
   },
   "source": [
    "# PowerPoint - Add title + line in presentation\n",
    "<a href=\"https://app.naas.ai/user-redirect/naas/downloader?url=https://raw.githubusercontent.com/jupyter-naas/awesome-notebooks/master/template.ipynb\" target=\"_parent\">\n",
    "<img src=\"https://img.shields.io/badge/-Open%20in%20Naas-success?labelColor=000000&logo=data:image/svg+xml;base64,PD94bWwgdmVyc2lvbj0iMS4wIiBlbmNvZGluZz0iVVRGLTgiPz4KPHN2ZyB3aWR0aD0iMTAyNHB4IiBoZWlnaHQ9IjEwMjRweCIgdmlld0JveD0iMCAwIDEwMjQgMTAyNCIgeG1sbnM9Imh0dHA6Ly93d3cudzMub3JnLzIwMDAvc3ZnIiB4bWxuczp4bGluaz0iaHR0cDovL3d3dy53My5vcmcvMTk5OS94bGluayIgdmVyc2lvbj0iMS4xIj4KIDwhLS0gR2VuZXJhdGVkIGJ5IFBpeGVsbWF0b3IgUHJvIDIuMC41IC0tPgogPGRlZnM+CiAgPHRleHQgaWQ9InN0cmluZyIgdHJhbnNmb3JtPSJtYXRyaXgoMS4wIDAuMCAwLjAgMS4wIDIyOC4wIDU0LjUpIiBmb250LWZhbWlseT0iQ29tZm9ydGFhLVJlZ3VsYXIsIENvbWZvcnRhYSIgZm9udC1zaXplPSI4MDAiIHRleHQtZGVjb3JhdGlvbj0ibm9uZSIgZmlsbD0iI2ZmZmZmZiIgeD0iMS4xOTk5OTk5OTk5OTk5ODg2IiB5PSI3MDUuMCI+bjwvdGV4dD4KIDwvZGVmcz4KIDx1c2UgaWQ9Im4iIHhsaW5rOmhyZWY9IiNzdHJpbmciLz4KPC9zdmc+Cg==\"/>\n",
    "</a><br><br><a href=\"https://github.com/jupyter-naas/awesome-notebooks/issues/new?assignees=&labels=&template=template-request.md&title=Tool+-+Action+of+the+notebook+\">💡 Template request</a> | <a href=\"https://github.com/jupyter-naas/awesome-notebooks/issues/new?assignees=&labels=&template=bug_report.md&title=[ERROR]+Tool+/+Folder+Action+of+the+notebook+\">🚨 Bug report</a>"
   ]
  },
  {
   "cell_type": "markdown",
   "id": "religious-programmer",
   "metadata": {},
   "source": [
    "**Tags:** #powerpoint #naas #python #python_pptx"
   ]
  },
  {
   "cell_type": "markdown",
   "id": "1fe9f56e-561c-4f52-aef8-b861c9462107",
   "metadata": {},
   "source": [
    "**Author:** [Ayoub Berdeddouch](https://www.linkedin.com/in/ayoub-berdeddouch)"
   ]
  },
  {
   "cell_type": "markdown",
   "id": "31ea7cdb-e10d-43fc-b026-f69249a59736",
   "metadata": {},
   "source": [
    "**Description:** This notebook Adds a title + Line to a presentation in PowerPoint"
   ]
  },
  {
   "cell_type": "markdown",
   "id": "distinguished-truth",
   "metadata": {
    "papermill": {},
    "tags": []
   },
   "source": [
    "## Input"
   ]
  },
  {
   "cell_type": "markdown",
   "id": "numeric-mediterranean",
   "metadata": {},
   "source": [
    "### Import libraries"
   ]
  },
  {
   "cell_type": "markdown",
   "id": "a9ae36e1-de27-4385-8a41-c8c162f8077c",
   "metadata": {},
   "source": [
    "* Installation : https://pypi.org/project/python-pptx/\n",
    "* **pptx documentation : https://python-pptx.readthedocs.io/en/latest/api/presentation.html**"
   ]
  },
  {
   "cell_type": "code",
   "execution_count": 1,
   "id": "ce180419-c18c-4f7b-a69f-0d96732f4ea2",
   "metadata": {
    "execution": {
     "iopub.execute_input": "2022-10-28T08:04:56.609876Z",
     "iopub.status.busy": "2022-10-28T08:04:56.609439Z",
     "iopub.status.idle": "2022-10-28T08:05:02.312839Z",
     "shell.execute_reply": "2022-10-28T08:05:02.312139Z",
     "shell.execute_reply.started": "2022-10-28T08:04:56.609801Z"
    },
    "tags": []
   },
   "outputs": [
    {
     "name": "stdout",
     "output_type": "stream",
     "text": [
      "\u001b[33mWARNING: Ignoring invalid distribution -umpy (/home/ftp/.local/lib/python3.9/site-packages)\u001b[0m\u001b[33m\n",
      "\u001b[0m\u001b[33mWARNING: Ignoring invalid distribution -umpy (/home/ftp/.local/lib/python3.9/site-packages)\u001b[0m\u001b[33m\n",
      "\u001b[0m\u001b[33mWARNING: Ignoring invalid distribution -umpy (/home/ftp/.local/lib/python3.9/site-packages)\u001b[0m\u001b[33m\n",
      "\u001b[0m\u001b[33mWARNING: Ignoring invalid distribution -umpy (/home/ftp/.local/lib/python3.9/site-packages)\u001b[0m\u001b[33m\n",
      "\u001b[0m\u001b[33mWARNING: Ignoring invalid distribution -umpy (/home/ftp/.local/lib/python3.9/site-packages)\u001b[0m\u001b[33m\n",
      "\u001b[0m\u001b[33mWARNING: Ignoring invalid distribution -umpy (/home/ftp/.local/lib/python3.9/site-packages)\u001b[0m\u001b[33m\n",
      "\u001b[0m"
     ]
    }
   ],
   "source": [
    "!pip install python-pptx --quiet"
   ]
  },
  {
   "cell_type": "code",
   "execution_count": 2,
   "id": "potential-surfing",
   "metadata": {
    "execution": {
     "iopub.execute_input": "2022-10-28T08:05:02.314533Z",
     "iopub.status.busy": "2022-10-28T08:05:02.314272Z",
     "iopub.status.idle": "2022-10-28T08:05:03.526877Z",
     "shell.execute_reply": "2022-10-28T08:05:03.526209Z",
     "shell.execute_reply.started": "2022-10-28T08:05:02.314501Z"
    },
    "tags": []
   },
   "outputs": [],
   "source": [
    "from pptx import Presentation"
   ]
  },
  {
   "cell_type": "markdown",
   "id": "aggressive-trustee",
   "metadata": {},
   "source": [
    "### Variables"
   ]
  },
  {
   "cell_type": "code",
   "execution_count": 3,
   "id": "continuous-melbourne",
   "metadata": {
    "execution": {
     "iopub.execute_input": "2022-10-28T08:05:03.528105Z",
     "iopub.status.busy": "2022-10-28T08:05:03.527884Z",
     "iopub.status.idle": "2022-10-28T08:05:03.601722Z",
     "shell.execute_reply": "2022-10-28T08:05:03.601102Z",
     "shell.execute_reply.started": "2022-10-28T08:05:03.528076Z"
    },
    "tags": []
   },
   "outputs": [],
   "source": [
    "#Create blank PowerPoint file\n",
    "prs = Presentation()\n",
    "\n",
    "#set slide template labels. This just makes is easier to read the code. The layout index can also be used.                   \n",
    "SLD_LAYOUT_TITLE = 0\n",
    "SLD_LAYOUT_TITLE_AND_CONTENT = 1\n",
    "SLD_LAYOUT_TITLE_ONLY = 5"
   ]
  },
  {
   "cell_type": "markdown",
   "id": "registered-showcase",
   "metadata": {},
   "source": [
    "## Model"
   ]
  },
  {
   "cell_type": "markdown",
   "id": "tested-astrology",
   "metadata": {},
   "source": [
    "### Create a title and a line within the Presentation"
   ]
  },
  {
   "cell_type": "code",
   "execution_count": 4,
   "id": "crude-louisville",
   "metadata": {
    "execution": {
     "iopub.execute_input": "2022-10-28T08:05:03.602969Z",
     "iopub.status.busy": "2022-10-28T08:05:03.602752Z",
     "iopub.status.idle": "2022-10-28T08:05:03.660703Z",
     "shell.execute_reply": "2022-10-28T08:05:03.659868Z",
     "shell.execute_reply.started": "2022-10-28T08:05:03.602941Z"
    },
    "papermill": {},
    "tags": []
   },
   "outputs": [],
   "source": [
    "#Set title page text variables\n",
    "slide_title = \"Jupyter Notebooks-as-a-service\"\n",
    "# slide_subtitle = dt.datetime.today().strftime('%m/%d/%Y')\n",
    "\n",
    "slide_subtitle = \"All-in-one open source data platform, based on @jupyter\"\n",
    "#Add a title slide\n",
    "slide_layout = prs.slide_layouts[SLD_LAYOUT_TITLE]\n",
    "slide = prs.slides.add_slide(slide_layout)\n",
    "\n",
    "#Insert title slide text. There are two text shapes on the Title slide layout by default.\n",
    "slide.shapes[0].text = slide_title\n",
    "slide.shapes[1].text = slide_subtitle"
   ]
  },
  {
   "cell_type": "code",
   "execution_count": 5,
   "id": "bbebd879-a361-4f9e-bff0-9badd20a15a0",
   "metadata": {
    "execution": {
     "iopub.execute_input": "2022-10-28T08:05:03.665528Z",
     "iopub.status.busy": "2022-10-28T08:05:03.665357Z",
     "iopub.status.idle": "2022-10-28T08:05:03.747785Z",
     "shell.execute_reply": "2022-10-28T08:05:03.747034Z",
     "shell.execute_reply.started": "2022-10-28T08:05:03.665508Z"
    }
   },
   "outputs": [],
   "source": [
    "# function to create slide with title and a line\n",
    "def pptx_slide(title=\"Title\", subtitle=\"Subtitle\"):\n",
    "    #Create blank PowerPoint file\n",
    "    prs = Presentation()\n",
    "\n",
    "    #set slide template labels. This just makes is easier to read the code. The layout index can also be used.                   \n",
    "    SLD_LAYOUT_TITLE = 0\n",
    "    SLD_LAYOUT_TITLE_AND_CONTENT = 1\n",
    "    SLD_LAYOUT_TITLE_ONLY = 5\n",
    "    \n",
    "    #Set title page text variables\n",
    "    slide_title = title\n",
    "    # slide_subtitle = dt.datetime.today().strftime('%m/%d/%Y')\n",
    "\n",
    "    slide_subtitle = subtitle\n",
    "    #Add a title slide\n",
    "    slide_layout = prs.slide_layouts[SLD_LAYOUT_TITLE]\n",
    "    slide = prs.slides.add_slide(slide_layout)\n",
    "\n",
    "    #Insert title slide text. There are two text shapes on the Title slide layout by default.\n",
    "    slide.shapes[0].text = slide_title\n",
    "    slide.shapes[1].text = slide_subtitle\n",
    "    \n",
    "    # save the presentation\n",
    "    prs.save(\"Sample_Presentation.pptx\")"
   ]
  },
  {
   "cell_type": "markdown",
   "id": "lonely-pacific",
   "metadata": {
    "execution": {
     "iopub.execute_input": "2021-07-02T23:32:10.789097Z",
     "iopub.status.busy": "2021-07-02T23:32:10.788829Z",
     "iopub.status.idle": "2021-07-02T23:32:10.796900Z",
     "shell.execute_reply": "2021-07-02T23:32:10.796358Z",
     "shell.execute_reply.started": "2021-07-02T23:32:10.789033Z"
    }
   },
   "source": [
    "## Output"
   ]
  },
  {
   "cell_type": "markdown",
   "id": "890f7c86-b7bb-4f5d-9a1b-e492dd9580fd",
   "metadata": {},
   "source": [
    "### Save result in csv"
   ]
  },
  {
   "cell_type": "code",
   "execution_count": 6,
   "id": "9c4e3b7b-6440-4844-8054-265f1aec65eb",
   "metadata": {
    "execution": {
     "iopub.execute_input": "2022-10-28T08:05:03.750880Z",
     "iopub.status.busy": "2022-10-28T08:05:03.750694Z",
     "iopub.status.idle": "2022-10-28T08:05:03.878864Z",
     "shell.execute_reply": "2022-10-28T08:05:03.878295Z",
     "shell.execute_reply.started": "2022-10-28T08:05:03.750858Z"
    },
    "tags": []
   },
   "outputs": [],
   "source": [
    "prs.save(\"Sample_Presentation.pptx\")"
   ]
  },
  {
   "cell_type": "code",
   "execution_count": 7,
   "id": "bf2af3c7-fa4e-46b8-8cfd-8d6623e26717",
   "metadata": {
    "execution": {
     "iopub.execute_input": "2022-10-28T08:05:03.880703Z",
     "iopub.status.busy": "2022-10-28T08:05:03.880477Z",
     "iopub.status.idle": "2022-10-28T08:05:03.985164Z",
     "shell.execute_reply": "2022-10-28T08:05:03.984578Z",
     "shell.execute_reply.started": "2022-10-28T08:05:03.880674Z"
    }
   },
   "outputs": [],
   "source": [
    "# save with the function\n",
    "\n",
    "pptx_slide(\"NaaS: Jupyter Notebooks-as-a-service\",\"All-in-one open source data platform, based on @jupyter\")"
   ]
  },
  {
   "cell_type": "code",
   "execution_count": null,
   "id": "7c66e5d2-7a61-4024-be76-d1cee121569a",
   "metadata": {},
   "outputs": [],
   "source": []
  }
 ],
 "metadata": {
  "kernelspec": {
   "display_name": "Python 3",
   "language": "python",
   "name": "python3"
  },
  "language_info": {
   "codemirror_mode": {
    "name": "ipython",
    "version": 3
   },
   "file_extension": ".py",
   "mimetype": "text/x-python",
   "name": "python",
   "nbconvert_exporter": "python",
   "pygments_lexer": "ipython3",
   "version": "3.9.6"
  },
  "papermill": {
   "default_parameters": {},
   "environment_variables": {},
   "parameters": {},
   "version": "2.3.3"
  },
  "widgets": {
   "application/vnd.jupyter.widget-state+json": {
    "state": {},
    "version_major": 2,
    "version_minor": 0
   }
  }
 },
 "nbformat": 4,
 "nbformat_minor": 5
}
