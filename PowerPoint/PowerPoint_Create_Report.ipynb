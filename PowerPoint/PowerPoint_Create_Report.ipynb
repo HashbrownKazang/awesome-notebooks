{
 "cells": [
  {
   "cell_type": "markdown",
   "id": "f1455d24-963b-46e6-bcc9-56a5ab8d6a0f",
   "metadata": {},
   "source": [
    "<img width=\"10%\" alt=\"Naas\" src=\"https://landen.imgix.net/jtci2pxwjczr/assets/5ice39g4.png?w=160\"/>"
   ]
  },
  {
   "cell_type": "markdown",
   "id": "b3d1feb1-b085-4040-bcb6-e8029618c2c8",
   "metadata": {},
   "source": [
    "# PowerPoint - Create Report\n",
    "<a href=\"https://app.naas.ai/user-redirect/naas/downloader?url=https://raw.githubusercontent.com/jupyter-naas/awesome-notebooks/master/PowerPoint/PowerPoint_Add_Slide_With_Image.ipynb\" target=\"_parent\"><img src=\"https://naasai-public.s3.eu-west-3.amazonaws.com/open_in_naas.svg\"/></a><br><br><a href=\"https://github.com/jupyter-naas/awesome-notebooks/issues/new?assignees=&labels=&template=template-request.md&title=Tool+-+Action+of+the+notebook+\">💡 Template request</a> | <a href=\"https://github.com/jupyter-naas/awesome-notebooks/issues/new?assignees=&labels=bug&template=bug_report.md&title=PowerPoint+-+Add+Slide+With+Image:+Error+short+description\">🚨 Bug report</a>"
   ]
  },
  {
   "cell_type": "markdown",
   "id": "208d72b1-34a4-46ed-adda-582fede3ac9e",
   "metadata": {},
   "source": [
    "**Tags:** #powerpoint #slide #portrait #title #image #pptx #snippet #report"
   ]
  },
  {
   "cell_type": "markdown",
   "id": "e98dff2b-d0b6-42b5-97cb-adbae63e4bf9",
   "metadata": {},
   "source": [
    "**Author:** [Florent Ravenel](https://www.linkedin.com/in/florent-ravenel/)"
   ]
  },
  {
   "cell_type": "markdown",
   "id": "536b313d-2dbd-4b83-a163-2bcaba37b857",
   "metadata": {},
   "source": [
    "This notebook creates a PowerPoint report with title, kpis, image and text."
   ]
  },
  {
   "cell_type": "markdown",
   "id": "9f2dbae5-b274-4aee-909a-3df718f580ee",
   "metadata": {
    "papermill": {},
    "tags": []
   },
   "source": [
    "## Input"
   ]
  },
  {
   "cell_type": "markdown",
   "id": "b0703f1e-e144-4085-8818-5be3b93d37f3",
   "metadata": {
    "papermill": {},
    "tags": []
   },
   "source": [
    "### Import libraries"
   ]
  },
  {
   "cell_type": "code",
   "execution_count": 54,
   "id": "65776730-ecb9-4251-94dc-8e4392abb357",
   "metadata": {
    "execution": {
     "iopub.execute_input": "2022-10-18T16:14:50.612179Z",
     "iopub.status.busy": "2022-10-18T16:14:50.611885Z",
     "iopub.status.idle": "2022-10-18T16:14:50.620500Z",
     "shell.execute_reply": "2022-10-18T16:14:50.619909Z",
     "shell.execute_reply.started": "2022-10-18T16:14:50.612151Z"
    },
    "papermill": {},
    "tags": []
   },
   "outputs": [],
   "source": [
    "try:\n",
    "    from pptx import Presentation\n",
    "except:\n",
    "    !pip install python-pptx --user\n",
    "    from pptx import Presentation\n",
    "from pptx.util import Inches, Pt, Cm\n",
    "from pptx.enum.text import PP_ALIGN\n",
    "from pptx.enum.shapes import MSO_CONNECTOR\n",
    "from pptx.dml.color import RGBColor\n",
    "import naas"
   ]
  },
  {
   "cell_type": "markdown",
   "id": "4754e458-6cd8-4c58-9c46-828df9274057",
   "metadata": {
    "papermill": {},
    "tags": []
   },
   "source": [
    "### Setup PowerPoint"
   ]
  },
  {
   "cell_type": "code",
   "execution_count": 55,
   "id": "59dee66c-bb04-45f8-8693-bbfb7bf97625",
   "metadata": {
    "execution": {
     "iopub.execute_input": "2022-10-18T16:14:51.364276Z",
     "iopub.status.busy": "2022-10-18T16:14:51.360187Z",
     "iopub.status.idle": "2022-10-18T16:14:51.524585Z",
     "shell.execute_reply": "2022-10-18T16:14:51.523895Z",
     "shell.execute_reply.started": "2022-10-18T16:14:51.364230Z"
    },
    "papermill": {},
    "tags": []
   },
   "outputs": [],
   "source": [
    "# PowerPoint output to be saved in Naas\n",
    "output_pptx = 'MyPowerPoint_Slide.pptx'\n",
    "font_name = \"Roboto\"\n",
    "\n",
    "# Report elements\n",
    "title = \"Naas Open Source Report\"\n",
    "kpi1 = \"Templates\"\n",
    "kpi1_value = \"458 (+32)\"\n",
    "kpi2 = \"Open Source Contributors\"\n",
    "kpi2_value = \"128 (+25)\"\n",
    "kpi3 = \"Open PR\"\n",
    "kpi3_value = \" 9 (+12)\"\n",
    "image = \"awesome.png\"\n",
    "text = (\"\"\"Naas is an all-in-one data platform that enable anyone with minimal technical knowledge to turn Jupyter Notebooks into powerful automation, analytical and AI data products thanks to low-code formulas and microservices.\n",
    "\n",
    "The platform is based on 3 low-code layers:\n",
    "\n",
    "😎 Templates: enable anyone to use data engines on all kind of subjects in minutes.\n",
    "🏎 Drivers: connectors to facilitate access to tools, and complex libraries (database, API, ML algorithm...)\n",
    "🪐 Features: production microservices on top of Jupyter like scheduling, asset sharing, notifications and more.\n",
    "Naas Cloud is free to use with 100 credits/month.\n",
    "\n",
    "\"\"\")"
   ]
  },
  {
   "cell_type": "markdown",
   "id": "f2ba088c-cac7-418c-8428-5b9a3df35d52",
   "metadata": {
    "papermill": {},
    "tags": []
   },
   "source": [
    "## Model"
   ]
  },
  {
   "cell_type": "markdown",
   "id": "5dc2089b-67ef-4f0b-b22f-5b3fe35264c0",
   "metadata": {
    "execution": {
     "iopub.execute_input": "2022-09-29T15:25:39.725048Z",
     "iopub.status.busy": "2022-09-29T15:25:39.724793Z",
     "iopub.status.idle": "2022-09-29T15:25:39.728355Z",
     "shell.execute_reply": "2022-09-29T15:25:39.727721Z",
     "shell.execute_reply.started": "2022-09-29T15:25:39.724985Z"
    },
    "papermill": {},
    "tags": []
   },
   "source": [
    "### Create Presentation Obj"
   ]
  },
  {
   "cell_type": "code",
   "execution_count": 56,
   "id": "9f5bf9e6-08e3-4b1d-95f6-6a760058c0ca",
   "metadata": {
    "execution": {
     "iopub.execute_input": "2022-10-18T16:14:55.031146Z",
     "iopub.status.busy": "2022-10-18T16:14:55.030918Z",
     "iopub.status.idle": "2022-10-18T16:14:55.071827Z",
     "shell.execute_reply": "2022-10-18T16:14:55.071141Z",
     "shell.execute_reply.started": "2022-10-18T16:14:55.031121Z"
    },
    "papermill": {},
    "tags": []
   },
   "outputs": [],
   "source": [
    "prs = Presentation()"
   ]
  },
  {
   "cell_type": "markdown",
   "id": "8bb04560-e7a9-49de-b215-d3294eeeec22",
   "metadata": {
    "execution": {
     "iopub.execute_input": "2022-09-29T15:14:12.622858Z",
     "iopub.status.busy": "2022-09-29T15:14:12.622603Z",
     "iopub.status.idle": "2022-09-29T15:14:12.625510Z",
     "shell.execute_reply": "2022-09-29T15:14:12.624881Z",
     "shell.execute_reply.started": "2022-09-29T15:14:12.622833Z"
    },
    "papermill": {},
    "tags": []
   },
   "source": [
    "### Setup Width & Height (Portrait)"
   ]
  },
  {
   "cell_type": "code",
   "execution_count": 57,
   "id": "fd8669f5-4837-41eb-bd27-5b9c74baa66b",
   "metadata": {
    "execution": {
     "iopub.execute_input": "2022-10-18T16:14:55.563733Z",
     "iopub.status.busy": "2022-10-18T16:14:55.563411Z",
     "iopub.status.idle": "2022-10-18T16:14:55.571541Z",
     "shell.execute_reply": "2022-10-18T16:14:55.570961Z",
     "shell.execute_reply.started": "2022-10-18T16:14:55.563694Z"
    },
    "papermill": {},
    "tags": []
   },
   "outputs": [],
   "source": [
    "prs.slide_height = Cm(27.517)\n",
    "prs.slide_width = Cm(19.05)"
   ]
  },
  {
   "cell_type": "markdown",
   "id": "d6956aa1-c5bc-4973-844d-1ea0492b9529",
   "metadata": {
    "papermill": {},
    "tags": []
   },
   "source": [
    "### Create slide"
   ]
  },
  {
   "cell_type": "code",
   "execution_count": 58,
   "id": "0e674db3-2e05-436a-a4dd-84c6dd916289",
   "metadata": {
    "execution": {
     "iopub.execute_input": "2022-10-18T16:14:56.770106Z",
     "iopub.status.busy": "2022-10-18T16:14:56.769783Z",
     "iopub.status.idle": "2022-10-18T16:14:56.776999Z",
     "shell.execute_reply": "2022-10-18T16:14:56.774934Z",
     "shell.execute_reply.started": "2022-10-18T16:14:56.770067Z"
    },
    "tags": []
   },
   "outputs": [],
   "source": [
    "blank_slide_layout = prs.slide_layouts[6]\n",
    "slide = prs.slides.add_slide(blank_slide_layout)"
   ]
  },
  {
   "cell_type": "markdown",
   "id": "30d90138-0143-41b4-94fc-23916bcc22de",
   "metadata": {},
   "source": [
    "#### Function to create textbox"
   ]
  },
  {
   "cell_type": "code",
   "execution_count": 60,
   "id": "88c9976a-1450-4b0b-b9d7-05da656a78be",
   "metadata": {
    "execution": {
     "iopub.execute_input": "2022-10-18T16:16:22.113901Z",
     "iopub.status.busy": "2022-10-18T16:16:22.113664Z",
     "iopub.status.idle": "2022-10-18T16:16:22.118259Z",
     "shell.execute_reply": "2022-10-18T16:16:22.117594Z",
     "shell.execute_reply.started": "2022-10-18T16:16:22.113879Z"
    },
    "tags": []
   },
   "outputs": [],
   "source": [
    "def create_textbox(\n",
    "    left,\n",
    "    top,\n",
    "    width,\n",
    "    height,\n",
    "    text,\n",
    "    font_name=\"Roboto\",\n",
    "    align=PP_ALIGN.CENTER,\n",
    "    font_size=8,\n",
    "    bold=False,\n",
    "    italic=False\n",
    "):\n",
    "    \"\"\"\n",
    "    Parameters:\n",
    "    - align: default value = PP_ALIGN.CENTER\n",
    "    Values available PP_ALIGN.LEFT, PP_ALIGN.RIGHT, PP_ALIGN.CENTER, PP_ALIGN.JUSTIFY\n",
    "    \"\"\"\n",
    "    # Add textbox\n",
    "    txBox = slide.shapes.add_textbox(\n",
    "        Cm(left),\n",
    "        Cm(top),\n",
    "        Cm(width),\n",
    "        Cm(height)\n",
    "    )\n",
    "    \n",
    "    # Manage align\n",
    "    p = txBox.text_frame.paragraphs[0]\n",
    "    p.alignment = align\n",
    "    run = p.add_run()\n",
    "    run.text = text\n",
    "\n",
    "    font = run.font\n",
    "    font.name = font_name\n",
    "    font.size = Pt(font_size)\n",
    "    font.bold = bold\n",
    "    font.italic = italic # cause value to be inherited from theme"
   ]
  },
  {
   "cell_type": "markdown",
   "id": "f2d30418-304b-47eb-b694-9390e70eefca",
   "metadata": {},
   "source": [
    "#### Function to create line"
   ]
  },
  {
   "cell_type": "code",
   "execution_count": 61,
   "id": "1db6e195-6eea-47ac-a9ea-e086668e4adf",
   "metadata": {
    "execution": {
     "iopub.execute_input": "2022-10-18T16:16:22.755128Z",
     "iopub.status.busy": "2022-10-18T16:16:22.754800Z",
     "iopub.status.idle": "2022-10-18T16:16:22.770311Z",
     "shell.execute_reply": "2022-10-18T16:16:22.769725Z",
     "shell.execute_reply.started": "2022-10-18T16:16:22.755086Z"
    },
    "tags": []
   },
   "outputs": [],
   "source": [
    "def create_line(\n",
    "    x,\n",
    "    y,\n",
    "    end_x,\n",
    "    end_y,\n",
    "    line_width,\n",
    "    line_color=\"000000\"\n",
    "    \n",
    "):\n",
    "    line = slide.shapes.add_connector(\n",
    "        MSO_CONNECTOR.STRAIGHT,\n",
    "        Cm(x),\n",
    "        Cm(y),\n",
    "        Cm(end_x),\n",
    "        Cm(end_y)\n",
    "    )\n",
    "    # set solid fill\n",
    "    line.line.fill.solid()\n",
    "\n",
    "    # set red color\n",
    "    line.line.fill.fore_color.rgb = RGBColor.from_string(line_color)\n",
    "\n",
    "    # set width to 10pt\n",
    "    line.line.width = Pt(line_width)"
   ]
  },
  {
   "cell_type": "markdown",
   "id": "4955489c-9da9-469d-9d9b-16d9c5672f11",
   "metadata": {},
   "source": [
    "#### Function to create image"
   ]
  },
  {
   "cell_type": "code",
   "execution_count": 62,
   "id": "c29c5c76-67eb-4054-b64c-b20572c899fe",
   "metadata": {
    "execution": {
     "iopub.execute_input": "2022-10-18T16:16:24.373840Z",
     "iopub.status.busy": "2022-10-18T16:16:24.373509Z",
     "iopub.status.idle": "2022-10-18T16:16:24.385663Z",
     "shell.execute_reply": "2022-10-18T16:16:24.384957Z",
     "shell.execute_reply.started": "2022-10-18T16:16:24.373801Z"
    },
    "tags": []
   },
   "outputs": [],
   "source": [
    "def create_image(\n",
    "    img_path,\n",
    "    left,\n",
    "    top,\n",
    "    width,\n",
    "    height\n",
    "):\n",
    "    pic1 = slide.shapes.add_picture(\n",
    "        img_path,\n",
    "        Cm(left),\n",
    "        Cm(top), \n",
    "        Cm(width),\n",
    "        Cm(height)\n",
    "    )"
   ]
  },
  {
   "cell_type": "markdown",
   "id": "e72ead8d-3f60-44ea-aff3-27c0a9474f8b",
   "metadata": {},
   "source": [
    "### Report"
   ]
  },
  {
   "cell_type": "markdown",
   "id": "f070fffc-12b9-4565-af0f-37e905d928a8",
   "metadata": {},
   "source": [
    "#### Title"
   ]
  },
  {
   "cell_type": "code",
   "execution_count": 44,
   "id": "db4e7e9d-057b-4d6d-8672-b13bccaff0d0",
   "metadata": {
    "execution": {
     "iopub.execute_input": "2022-10-18T16:00:06.260543Z",
     "iopub.status.busy": "2022-10-18T16:00:06.260225Z",
     "iopub.status.idle": "2022-10-18T16:00:06.357693Z",
     "shell.execute_reply": "2022-10-18T16:00:06.352686Z",
     "shell.execute_reply.started": "2022-10-18T16:00:06.260512Z"
    },
    "tags": []
   },
   "outputs": [],
   "source": [
    "# Add title\n",
    "create_textbox(\n",
    "    5.8,\n",
    "    1.5,\n",
    "    7.85,\n",
    "    1.03,\n",
    "    title,\n",
    "    font_name=font_name,\n",
    "    align=PP_ALIGN.CENTER,\n",
    "    font_size=18,\n",
    "    bold=False,\n",
    "    italic=False\n",
    ")\n",
    "\n",
    "# Insert line below\n",
    "create_line(3.39,\n",
    "            3.12,\n",
    "            15.67,\n",
    "            3.12,\n",
    "            7)"
   ]
  },
  {
   "cell_type": "markdown",
   "id": "4383b4dc-18d3-4650-84d0-b4680d51d699",
   "metadata": {},
   "source": [
    "#### KPIs"
   ]
  },
  {
   "cell_type": "code",
   "execution_count": 45,
   "id": "d986f4b6-2dd0-473c-9ef5-8cb0b659755d",
   "metadata": {
    "execution": {
     "iopub.execute_input": "2022-10-18T16:00:07.347742Z",
     "iopub.status.busy": "2022-10-18T16:00:07.347439Z",
     "iopub.status.idle": "2022-10-18T16:00:07.381859Z",
     "shell.execute_reply": "2022-10-18T16:00:07.380968Z",
     "shell.execute_reply.started": "2022-10-18T16:00:07.347706Z"
    },
    "tags": []
   },
   "outputs": [],
   "source": [
    "# KPI 1:\n",
    "create_textbox(2.5,5.4,3,1, kpi1)\n",
    "create_line(2.8, 5.96, 6.96, 5.96, 2)\n",
    "create_textbox(1.8, 5.96, 4, 1, '458 (+ 32)', font_name)\n",
    "\n",
    "# KPI 2:\n",
    "create_textbox(6.7, 5.4, 3, 1, 'Open Source Contributor')\n",
    "create_line(7.8, 5.96, 11.96, 5.96, 2)\n",
    "create_textbox(7.5, 5.96, 4,2, '128 (+ 25)', font_name)\n",
    "\n",
    "# KPI 3:\n",
    "create_textbox(12, 5.4, 3, 1, 'Open PR')\n",
    "create_line(12.8, 5.96, 16.96, 5.96, 2)\n",
    "create_textbox(12.3, 5.96, 4, 1, '9 (+ 12)', font_name)"
   ]
  },
  {
   "cell_type": "markdown",
   "id": "0f13c48c-4322-417e-b5d3-fdc52b581993",
   "metadata": {},
   "source": [
    "### Left Image 1"
   ]
  },
  {
   "cell_type": "code",
   "execution_count": 46,
   "id": "3cb1f8da-282d-48c3-beb6-c13c2a11c207",
   "metadata": {
    "execution": {
     "iopub.execute_input": "2022-10-18T16:00:08.275994Z",
     "iopub.status.busy": "2022-10-18T16:00:08.275394Z",
     "iopub.status.idle": "2022-10-18T16:00:08.503288Z",
     "shell.execute_reply": "2022-10-18T16:00:08.502553Z",
     "shell.execute_reply.started": "2022-10-18T16:00:08.275959Z"
    },
    "tags": []
   },
   "outputs": [],
   "source": [
    "create_image(image, 3, 12.8, 7, 12.7)"
   ]
  },
  {
   "cell_type": "markdown",
   "id": "4bec3a9b-f895-4f72-9434-efbbec917e9d",
   "metadata": {},
   "source": [
    "### Right textbox"
   ]
  },
  {
   "cell_type": "markdown",
   "id": "378fc4bc-71c7-46ee-9685-200650d7a0d0",
   "metadata": {},
   "source": [
    "#### Title"
   ]
  },
  {
   "cell_type": "code",
   "execution_count": 49,
   "id": "23f4403b-e4ac-41d9-8a90-274fc338986f",
   "metadata": {
    "execution": {
     "iopub.execute_input": "2022-10-18T16:01:10.008300Z",
     "iopub.status.busy": "2022-10-18T16:01:10.008072Z",
     "iopub.status.idle": "2022-10-18T16:01:10.014560Z",
     "shell.execute_reply": "2022-10-18T16:01:10.013943Z",
     "shell.execute_reply.started": "2022-10-18T16:01:10.008278Z"
    },
    "tags": []
   },
   "outputs": [],
   "source": [
    "create_line(11,13.2,17,13.2,7)\n",
    "create_textbox(\n",
    "    9.79,\n",
    "    13.67,\n",
    "    8.41,\n",
    "    0.73,\n",
    "    \"What is Naas ?\",\n",
    "    font_name=font_name,\n",
    "    align=PP_ALIGN.CENTER,\n",
    "    font_size=12,\n",
    "    bold=False,\n",
    "    italic=False\n",
    ")\n",
    "create_line(11,14.5,17,14.5,7)"
   ]
  },
  {
   "cell_type": "markdown",
   "id": "f7077ea7-844a-4629-93ac-9855b218bd13",
   "metadata": {},
   "source": [
    "#### Text"
   ]
  },
  {
   "cell_type": "code",
   "execution_count": 50,
   "id": "fbfd974a-500a-40d1-9c26-b8144e09f7e6",
   "metadata": {
    "execution": {
     "iopub.execute_input": "2022-10-18T16:01:12.730216Z",
     "iopub.status.busy": "2022-10-18T16:01:12.729925Z",
     "iopub.status.idle": "2022-10-18T16:01:12.738437Z",
     "shell.execute_reply": "2022-10-18T16:01:12.737817Z",
     "shell.execute_reply.started": "2022-10-18T16:01:12.730188Z"
    },
    "tags": []
   },
   "outputs": [],
   "source": [
    "textBox = slide.shapes.add_textbox(Cm(10.37), Cm(15.74), Cm(7.32), Cm(5.62))\n",
    "\n",
    "textFrame = textBox.text_frame\n",
    "textFrame.word_wrap = True\n",
    "\n",
    "p = textFrame.paragraphs[0]\n",
    "p.alignment = PP_ALIGN.JUSTIFY\n",
    "p.line_spacing = Pt(14)\n",
    "\n",
    "run = p.add_run()\n",
    "run.text = text\n",
    "\n",
    "font = run.font\n",
    "font.name = \"Avenir Book\"\n",
    "font.size = Pt(9)"
   ]
  },
  {
   "cell_type": "markdown",
   "id": "66415ea3-bb04-4bf8-a365-3235b7bbf23b",
   "metadata": {
    "papermill": {},
    "tags": []
   },
   "source": [
    "## Output"
   ]
  },
  {
   "cell_type": "markdown",
   "id": "9fa533bf-32ca-46b5-91ce-e4db9f8e142c",
   "metadata": {
    "papermill": {},
    "tags": []
   },
   "source": [
    "### Save presentation"
   ]
  },
  {
   "cell_type": "code",
   "execution_count": 51,
   "id": "eb033d4e-9b1f-4efe-9fa0-31e95c32a218",
   "metadata": {
    "execution": {
     "iopub.execute_input": "2022-10-18T16:01:13.389827Z",
     "iopub.status.busy": "2022-10-18T16:01:13.389586Z",
     "iopub.status.idle": "2022-10-18T16:01:13.452515Z",
     "shell.execute_reply": "2022-10-18T16:01:13.449949Z",
     "shell.execute_reply.started": "2022-10-18T16:01:13.389803Z"
    },
    "papermill": {},
    "tags": []
   },
   "outputs": [],
   "source": [
    "prs.save(output_pptx)"
   ]
  },
  {
   "cell_type": "markdown",
   "id": "e7feb2ff-aff0-4de7-99f5-d6b7b91dc935",
   "metadata": {},
   "source": [
    "### Share presentation with Naas"
   ]
  },
  {
   "cell_type": "code",
   "execution_count": 52,
   "id": "0a80090f-fe6c-4d52-8409-be5e6f66e16c",
   "metadata": {
    "execution": {
     "iopub.execute_input": "2022-10-18T16:01:13.964849Z",
     "iopub.status.busy": "2022-10-18T16:01:13.964515Z",
     "iopub.status.idle": "2022-10-18T16:01:14.545776Z",
     "shell.execute_reply": "2022-10-18T16:01:14.545007Z",
     "shell.execute_reply.started": "2022-10-18T16:01:13.964810Z"
    }
   },
   "outputs": [
    {
     "name": "stdout",
     "output_type": "stream",
     "text": [
      "👌 Well done! Your Assets has been sent to production.\n",
      "\n"
     ]
    },
    {
     "data": {
      "application/javascript": [
       "\n",
       "    if (!window.copyToClipboard) {\n",
       "        window.copyToClipboard = (text) => {\n",
       "            const dummy = document.createElement(\"textarea\");\n",
       "            document.body.appendChild(dummy);\n",
       "            dummy.value = text;\n",
       "            dummy.select();\n",
       "            document.execCommand(\"copy\");\n",
       "            document.body.removeChild(dummy);\n",
       "        }\n",
       "    }\n",
       "    "
      ],
      "text/plain": [
       "<IPython.core.display.Javascript object>"
      ]
     },
     "metadata": {},
     "output_type": "display_data"
    },
    {
     "data": {
      "application/vnd.jupyter.widget-view+json": {
       "model_id": "6924be31ccc142ca8c8068c3aa5a820c",
       "version_major": 2,
       "version_minor": 0
      },
      "text/plain": [
       "Button(button_style='primary', description='Copy URL', style=ButtonStyle())"
      ]
     },
     "metadata": {},
     "output_type": "display_data"
    },
    {
     "data": {
      "application/vnd.jupyter.widget-view+json": {
       "model_id": "7b65f29efe75484fa46963e2539aea2b",
       "version_major": 2,
       "version_minor": 0
      },
      "text/plain": [
       "Output()"
      ]
     },
     "metadata": {},
     "output_type": "display_data"
    },
    {
     "name": "stdout",
     "output_type": "stream",
     "text": [
      "PS: to remove the \"Assets\" feature, just replace .add by .delete\n"
     ]
    },
    {
     "data": {
      "text/plain": [
       "'https://public.naas.ai/ZmxvcmVudC00MG5hYXMtMkVhaQ==/asset/84730dbbb74e587fa1adfdddbee2964a3bb9c3c18d88c51594aaf0721a6f'"
      ]
     },
     "execution_count": 52,
     "metadata": {},
     "output_type": "execute_result"
    }
   ],
   "source": [
    "naas.asset.add(output_pptx)"
   ]
  },
  {
   "cell_type": "code",
   "execution_count": null,
   "id": "9af08136-07c8-4413-95b6-c009d7dc4aa9",
   "metadata": {},
   "outputs": [],
   "source": []
  }
 ],
 "metadata": {
  "kernelspec": {
   "display_name": "Python 3",
   "language": "python",
   "name": "python3"
  },
  "language_info": {
   "codemirror_mode": {
    "name": "ipython",
    "version": 3
   },
   "file_extension": ".py",
   "mimetype": "text/x-python",
   "name": "python",
   "nbconvert_exporter": "python",
   "pygments_lexer": "ipython3",
   "version": "3.9.6"
  }
 },
 "nbformat": 4,
 "nbformat_minor": 5
}
