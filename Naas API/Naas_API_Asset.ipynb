{
 "cells": [
  {
   "cell_type": "markdown",
   "id": "28d10a4c-3c77-4088-9b67-db6e5f1ee7f0",
   "metadata": {},
   "source": [
    "<img width=\"8%\" alt=\"Naas API.png\" src=\"https://raw.githubusercontent.com/jupyter-naas/awesome-notebooks/master/.github/assets/logos/Naas%20API.png\" style=\"border-radius: 15%\">"
   ]
  },
  {
   "cell_type": "markdown",
   "id": "90cdfd58-d74b-4ec9-aea8-72fe64903f81",
   "metadata": {},
   "source": [
    "# Naas API - Asset"
   ]
  },
  {
   "cell_type": "markdown",
   "id": "9c897c82-4a8f-4f8c-8b00-dd66e496273b",
   "metadata": {
    "execution": {
     "iopub.execute_input": "2024-06-03T14:17:19.410802Z",
     "iopub.status.busy": "2024-06-03T14:17:19.410576Z",
     "iopub.status.idle": "2024-06-03T14:17:19.420684Z",
     "shell.execute_reply": "2024-06-03T14:17:19.419788Z",
     "shell.execute_reply.started": "2024-06-03T14:17:19.410779Z"
    }
   },
   "source": [
    "**Tags:** #naas #api #asset"
   ]
  },
  {
   "cell_type": "markdown",
   "id": "20e4f13f-d7c4-4acf-9c53-880545f0ce76",
   "metadata": {
    "execution": {
     "iopub.execute_input": "2024-06-03T14:17:27.697224Z",
     "iopub.status.busy": "2024-06-03T14:17:27.696997Z",
     "iopub.status.idle": "2024-06-03T14:17:27.705749Z",
     "shell.execute_reply": "2024-06-03T14:17:27.704763Z",
     "shell.execute_reply.started": "2024-06-03T14:17:27.697200Z"
    }
   },
   "source": [
    "**Author:** [Loic Laville](https://www.linkedin.com/in/loic-laville/)"
   ]
  },
  {
   "cell_type": "markdown",
   "id": "69456534",
   "metadata": {},
   "source": [
    "**Last update:** 2024-06-05 (Created: 2024-06-05)"
   ]
  },
  {
   "cell_type": "markdown",
   "id": "543b22e8",
   "metadata": {},
   "source": [
    "**Description:** This notebook demonstrates how to Naas API Asset to share objects from Naas API Storage. *An \"Asset\" is a shearable link of an object (or file) in your storage."
   ]
  },
  {
   "cell_type": "markdown",
   "id": "1e864e22-fb83-4856-ae29-91a35c21921b",
   "metadata": {},
   "source": [
    "_Required : A storage with at least one object inside. see \"Storage Notebook\" for more information._"
   ]
  },
  {
   "cell_type": "markdown",
   "id": "f9ae1bdf-49b2-4f53-9ae9-b396c4608e9d",
   "metadata": {
    "execution": {
     "iopub.execute_input": "2024-06-03T14:23:07.494752Z",
     "iopub.status.busy": "2024-06-03T14:23:07.494526Z",
     "iopub.status.idle": "2024-06-03T14:23:07.500018Z",
     "shell.execute_reply": "2024-06-03T14:23:07.497930Z",
     "shell.execute_reply.started": "2024-06-03T14:23:07.494728Z"
    }
   },
   "source": [
    "## Import library"
   ]
  },
  {
   "cell_type": "code",
   "execution_count": 1,
   "id": "7a52f150-e7e4-4415-9013-7dbdaf887892",
   "metadata": {
    "execution": {
     "iopub.execute_input": "2024-06-05T09:12:05.046645Z",
     "iopub.status.busy": "2024-06-05T09:12:05.046351Z",
     "iopub.status.idle": "2024-06-05T09:12:06.339356Z",
     "shell.execute_reply": "2024-06-05T09:12:06.338746Z",
     "shell.execute_reply.started": "2024-06-05T09:12:05.046573Z"
    },
    "tags": []
   },
   "outputs": [],
   "source": [
    "import naas_python"
   ]
  },
  {
   "cell_type": "markdown",
   "id": "780bd325-280f-4e68-8ca4-4f7eb00c7ed4",
   "metadata": {},
   "source": [
    "### Command list"
   ]
  },
  {
   "cell_type": "markdown",
   "id": "f18b5055-49a6-4cee-8793-ba2f5d002815",
   "metadata": {
    "execution": {
     "iopub.execute_input": "2024-06-03T16:21:57.186360Z",
     "iopub.status.busy": "2024-06-03T16:21:57.186133Z",
     "iopub.status.idle": "2024-06-03T16:21:57.195495Z",
     "shell.execute_reply": "2024-06-03T16:21:57.194575Z",
     "shell.execute_reply.started": "2024-06-03T16:21:57.186336Z"
    }
   },
   "source": [
    "* [Create](#create)\n",
    "* [Get](#get)\n",
    "* [Get Asset Object](#getassetobject)\n",
    "* [Update Asset](#updateasset)\n",
    "* [Delete Asset](#deleteasset)"
   ]
  },
  {
   "cell_type": "markdown",
   "id": "55296efb-41bc-4922-b668-98e93cd09c8e",
   "metadata": {},
   "source": [
    "---"
   ]
  },
  {
   "cell_type": "markdown",
   "id": "d5074443-6174-4f7e-a4ba-ca1ed5b1b1fb",
   "metadata": {
    "execution": {
     "iopub.execute_input": "2024-06-03T14:26:27.969902Z",
     "iopub.status.busy": "2024-06-03T14:26:27.969608Z",
     "iopub.status.idle": "2024-06-03T14:26:27.972888Z",
     "shell.execute_reply": "2024-06-03T14:26:27.972264Z",
     "shell.execute_reply.started": "2024-06-03T14:26:27.969871Z"
    }
   },
   "source": [
    "<a id='create'><h2>Create</h2></a>"
   ]
  },
  {
   "cell_type": "markdown",
   "id": "1bd6f896-2cff-488f-b20a-6d653f50817f",
   "metadata": {},
   "source": [
    "**Create an asset from an uploaded object.**"
   ]
  },
  {
   "cell_type": "markdown",
   "id": "561fe35b-8c67-4ded-807e-4c346f903001",
   "metadata": {
    "execution": {
     "iopub.execute_input": "2024-06-03T16:24:36.125226Z",
     "iopub.status.busy": "2024-06-03T16:24:36.124913Z",
     "iopub.status.idle": "2024-06-03T16:24:36.138351Z",
     "shell.execute_reply": "2024-06-03T16:24:36.137411Z",
     "shell.execute_reply.started": "2024-06-03T16:24:36.125190Z"
    }
   },
   "source": [
    "The most important information you want to get is asset : **\"id\"** and **\"url\"**"
   ]
  },
  {
   "cell_type": "markdown",
   "id": "a0c5268d-a14d-42c5-bf93-722f6302cc0a",
   "metadata": {},
   "source": [
    "**required arguments:**\n",
    "* **workspace_id :** user workspace id\n",
    "* **storage_name :** user storage name (see Naas Storage API Notebook)\n",
    "* **object_name :** path to file inside the storage."
   ]
  },
  {
   "cell_type": "markdown",
   "id": "029246cd-2755-44dc-9abd-faae39573c76",
   "metadata": {
    "execution": {
     "iopub.execute_input": "2024-06-03T14:27:15.754780Z",
     "iopub.status.busy": "2024-06-03T14:27:15.754540Z",
     "iopub.status.idle": "2024-06-03T14:27:15.765551Z",
     "shell.execute_reply": "2024-06-03T14:27:15.764655Z",
     "shell.execute_reply.started": "2024-06-03T14:27:15.754751Z"
    }
   },
   "source": [
    "optional arguments:\n",
    "* **visibility :** \n",
    "    * \"public\" **(default)**\n",
    "    * \"private\" : need a password\n",
    "* **content_disposition :** \n",
    "    * \"outline\" : download the file\n",
    "    * \"inline\" **(default)** : display file inside browser if possible\n",
    "* **password :** set the password for private mode. (random if not specified)"
   ]
  },
  {
   "cell_type": "markdown",
   "id": "ab6a9231-d9fe-4afa-ad9d-37d106edb80d",
   "metadata": {
    "execution": {
     "iopub.execute_input": "2024-06-03T14:27:15.754780Z",
     "iopub.status.busy": "2024-06-03T14:27:15.754540Z",
     "iopub.status.idle": "2024-06-03T14:27:15.765551Z",
     "shell.execute_reply": "2024-06-03T14:27:15.764655Z",
     "shell.execute_reply.started": "2024-06-03T14:27:15.754751Z"
    }
   },
   "source": [
    "### Python Example"
   ]
  },
  {
   "cell_type": "code",
   "execution_count": 2,
   "id": "c1519102-4298-46e4-a30c-f7a4fd8e9981",
   "metadata": {
    "execution": {
     "iopub.execute_input": "2024-06-05T09:12:07.223484Z",
     "iopub.status.busy": "2024-06-05T09:12:07.223252Z",
     "iopub.status.idle": "2024-06-05T09:12:07.226394Z",
     "shell.execute_reply": "2024-06-05T09:12:07.225699Z",
     "shell.execute_reply.started": "2024-06-05T09:12:07.223458Z"
    },
    "tags": []
   },
   "outputs": [],
   "source": [
    "workspace_id='81507a26-3644-496c-a379-4c7021434aa0'"
   ]
  },
  {
   "cell_type": "code",
   "execution_count": null,
   "id": "97463fa6-6044-4e69-b4ea-59fc0b243dbd",
   "metadata": {
    "tags": []
   },
   "outputs": [],
   "source": [
    "asset = naas_python.asset.create_asset(\n",
    "    workspace_id=workspace_id,\n",
    "    asset_creation = {\n",
    "        \"asset_creation\": {\n",
    "            \"storage_name\" : \"test-storage\",\n",
    "            \"object_name\" : \"directory-1/img.jpg\",\n",
    "            \"visibility\" : \"private\",\n",
    "            \"content_disposition\" : \"outline\"\n",
    "        }\n",
    "    }\n",
    ")\n",
    "asset"
   ]
  },
  {
   "cell_type": "markdown",
   "id": "74e034ef-5d00-4cfa-bb07-d79e92fb8b77",
   "metadata": {},
   "source": [
    "Result :\n",
    "```json\n",
    "{'asset': {'id': '0c35c28b-1904-414f-a40d-5611af2511fb',\n",
    "  'object_name': 'img.jpg',\n",
    "  'visibility': 'private',\n",
    "  'content_disposition': 'outline',\n",
    "  'password': 'mypassword',\n",
    "  'url': 'https://api.naas.ai/workspace/81507a26-3644-496c-a379-4c7021434aa0/asset/4dac01c6-c299-473d-b746-d83f5c16b45e/object/',\n",
    "  'workspace_id': '81507a26-3644-496c-a379-4c7021434aa0',\n",
    "  'storage_name': 'test-storage',\n",
    "  'prefix': '81507a26-3644-496c-a379-4c7021434aa0/test-storage/directory-1',\n",
    "  'object_version': 'lqUJfScvcBWUc3RhZuGmB_OkCY0ZmwhI',\n",
    "  'content_type': 'image/jpeg',\n",
    "  'object_updated_at': '2024-06-03T09:39:03Z',\n",
    "  'asset_created_at': '2024-06-03T15:53:20.510333Z',\n",
    "  'user_id': '7ed38998-59bb-473f-b14e-983279efbdca',\n",
    "  'provider': 'AmazonS3',\n",
    "  'provider_bucket_name': 'api-naas-storage'},\n",
    " 'error': {'code': 0, 'message': 'Success'}}\n",
    "```"
   ]
  },
  {
   "cell_type": "code",
   "execution_count": null,
   "id": "3c6276b2-8a43-4b79-8a6f-d2f44aeb5b99",
   "metadata": {
    "execution": {
     "iopub.execute_input": "2024-06-05T09:12:11.617636Z",
     "iopub.status.busy": "2024-06-05T09:12:11.617331Z",
     "iopub.status.idle": "2024-06-05T09:12:11.640988Z",
     "shell.execute_reply": "2024-06-05T09:12:11.640362Z",
     "shell.execute_reply.started": "2024-06-05T09:12:11.617602Z"
    },
    "tags": []
   },
   "outputs": [],
   "source": [
    "asset_id = asset['asset']['id']\n",
    "asset_id"
   ]
  },
  {
   "cell_type": "markdown",
   "id": "48ebf144",
   "metadata": {},
   "source": [
    "```\n",
    "'0c35c28b-1904-414f-a40d-5611af2511fb'\n",
    "```"
   ]
  },
  {
   "cell_type": "markdown",
   "id": "35c1d93a-e584-4098-825f-48e581144b49",
   "metadata": {
    "execution": {
     "iopub.execute_input": "2024-06-03T15:57:16.339770Z",
     "iopub.status.busy": "2024-06-03T15:57:16.339540Z",
     "iopub.status.idle": "2024-06-03T15:57:16.342484Z",
     "shell.execute_reply": "2024-06-03T15:57:16.341807Z",
     "shell.execute_reply.started": "2024-06-03T15:57:16.339744Z"
    }
   },
   "source": [
    "#### CLI command"
   ]
  },
  {
   "cell_type": "markdown",
   "id": "ef0ecd66-c59e-43d3-babf-6e921da29d29",
   "metadata": {
    "execution": {
     "iopub.execute_input": "2024-06-03T15:58:10.611202Z",
     "iopub.status.busy": "2024-06-03T15:58:10.610977Z",
     "iopub.status.idle": "2024-06-03T15:58:10.626998Z",
     "shell.execute_reply": "2024-06-03T15:58:10.626067Z",
     "shell.execute_reply.started": "2024-06-03T15:58:10.611178Z"
    }
   },
   "source": [
    "```sh\n",
    "naas-python asset create --help\n",
    "\n",
    "naas-python asset create \\\n",
    "--workspace-id \"81507a26-3644-496c-a379-4c7021434aa0\" \\\n",
    "--storage \"test-storage\" \\\n",
    "--object \"directory-1/img.jpg\" \\\n",
    "--visibility \"private\" \\\n",
    "--content-disposition \"outline\" \\\n",
    "--password \"mypassword\"\n",
    "```"
   ]
  },
  {
   "cell_type": "markdown",
   "id": "0eff6321-cec4-43e3-b66d-3f0d0e4bbc45",
   "metadata": {
    "tags": []
   },
   "source": [
    "### Info"
   ]
  },
  {
   "cell_type": "markdown",
   "id": "74b8e572-f9f4-47f7-be76-fb2ee1f4d527",
   "metadata": {
    "execution": {
     "iopub.execute_input": "2024-06-03T16:11:25.982662Z",
     "iopub.status.busy": "2024-06-03T16:11:25.982335Z",
     "iopub.status.idle": "2024-06-03T16:11:26.001623Z",
     "shell.execute_reply": "2024-06-03T16:11:25.999844Z",
     "shell.execute_reply.started": "2024-06-03T16:11:25.982628Z"
    }
   },
   "source": [
    "You can have only one asset by file, otherwise you will get the error :"
   ]
  },
  {
   "cell_type": "markdown",
   "id": "9d714fbe-4b96-4c88-b33e-c4a7e135faed",
   "metadata": {
    "execution": {
     "iopub.execute_input": "2024-06-03T16:11:49.611592Z",
     "iopub.status.busy": "2024-06-03T16:11:49.611367Z",
     "iopub.status.idle": "2024-06-03T16:11:49.629254Z",
     "shell.execute_reply": "2024-06-03T16:11:49.628239Z",
     "shell.execute_reply.started": "2024-06-03T16:11:49.611567Z"
    }
   },
   "source": [
    "`[AssetConflictError]: Asset:'img.jpg' - id:'0c35c28b-1904-414f-a40d-5611af2511fb' - version:'lqUJfScvcBWUc3RhZuGmB_OkCY0ZmwhI' already exists`"
   ]
  },
  {
   "cell_type": "markdown",
   "id": "b6d02372-0f87-4307-b726-8ea8e815618c",
   "metadata": {},
   "source": [
    "---"
   ]
  },
  {
   "cell_type": "markdown",
   "id": "0a90ef5d-8c19-491a-8f50-68dcec43960f",
   "metadata": {
    "execution": {
     "iopub.execute_input": "2024-06-03T16:31:54.376884Z",
     "iopub.status.busy": "2024-06-03T16:31:54.376657Z",
     "iopub.status.idle": "2024-06-03T16:31:54.385361Z",
     "shell.execute_reply": "2024-06-03T16:31:54.384497Z",
     "shell.execute_reply.started": "2024-06-03T16:31:54.376860Z"
    }
   },
   "source": [
    "<a id='get'><h2>Get</h2></a>"
   ]
  },
  {
   "cell_type": "markdown",
   "id": "f8814c11-6b6c-4cdf-9190-b39185c02a46",
   "metadata": {
    "execution": {
     "iopub.execute_input": "2024-06-03T16:34:11.837595Z",
     "iopub.status.busy": "2024-06-03T16:34:11.837365Z",
     "iopub.status.idle": "2024-06-03T16:34:11.853684Z",
     "shell.execute_reply": "2024-06-03T16:34:11.852804Z",
     "shell.execute_reply.started": "2024-06-03T16:34:11.837570Z"
    }
   },
   "source": [
    "**Get an existing asset metadata.**"
   ]
  },
  {
   "cell_type": "markdown",
   "id": "c7b70b36-7f98-49d8-ae65-8919faee6037",
   "metadata": {
    "execution": {
     "iopub.execute_input": "2024-06-03T16:34:40.703087Z",
     "iopub.status.busy": "2024-06-03T16:34:40.702863Z",
     "iopub.status.idle": "2024-06-03T16:34:40.713172Z",
     "shell.execute_reply": "2024-06-03T16:34:40.712375Z",
     "shell.execute_reply.started": "2024-06-03T16:34:40.703064Z"
    }
   },
   "source": [
    "The most important information you want to get is asset **\"url\"**"
   ]
  },
  {
   "cell_type": "markdown",
   "id": "f1b9f608-c3c7-4e6e-9664-e1fd15b19277",
   "metadata": {
    "execution": {
     "iopub.execute_input": "2024-06-03T16:36:10.912242Z",
     "iopub.status.busy": "2024-06-03T16:36:10.912014Z",
     "iopub.status.idle": "2024-06-03T16:36:10.920610Z",
     "shell.execute_reply": "2024-06-03T16:36:10.919786Z",
     "shell.execute_reply.started": "2024-06-03T16:36:10.912217Z"
    }
   },
   "source": [
    "required arguments:\n",
    "* **workspace_id :** user workspace id\n",
    "* **asset_id :** id of an existing asset"
   ]
  },
  {
   "cell_type": "markdown",
   "id": "30a9ceb9",
   "metadata": {},
   "source": [
    "### Python Example"
   ]
  },
  {
   "cell_type": "code",
   "execution_count": null,
   "id": "89825d68-fcca-4b1d-b7be-51b2cdc32202",
   "metadata": {
    "tags": []
   },
   "outputs": [],
   "source": [
    "asset = naas_python.asset.get_asset(\n",
    "    workspace_id=workspace_id,\n",
    "    asset_id=asset_id\n",
    ")"
   ]
  },
  {
   "cell_type": "markdown",
   "id": "47ef0523-2067-47a4-8aa7-344f9e686a1a",
   "metadata": {
    "execution": {
     "iopub.execute_input": "2024-06-03T16:51:14.843204Z",
     "iopub.status.busy": "2024-06-03T16:51:14.842976Z",
     "iopub.status.idle": "2024-06-03T16:51:14.858356Z",
     "shell.execute_reply": "2024-06-03T16:51:14.857496Z",
     "shell.execute_reply.started": "2024-06-03T16:51:14.843179Z"
    },
    "tags": []
   },
   "source": [
    "result :\n",
    "```json\n",
    "{'asset': {'id': '0c35c28b-1904-414f-a40d-5611af2511fb',\n",
    "  'object_name': 'img.jpg',\n",
    "  'visibility': 'private',\n",
    "  'content_disposition': 'outline',\n",
    "  'password': 'qiBwYUvYjwxBnktT82tGsRvWU2CuPl9sBUkBXCrHfDg',\n",
    "  'url': 'https://api.naas.ai/workspace/81507a26-3644-496c-a379-4c7021434aa0/asset/0c35c28b-1904-414f-a40d-5611af2511fb/object/',\n",
    "  'workspace_id': '81507a26-3644-496c-a379-4c7021434aa0',\n",
    "  'storage_name': 'test-storage',\n",
    "  'prefix': '81507a26-3644-496c-a379-4c7021434aa0/test-storage/directory-1',\n",
    "  'object_version': 'lqUJfScvcBWUc3RhZuGmB_OkCY0ZmwhI',\n",
    "  'content_type': 'image/jpeg',\n",
    "  'object_updated_at': '2024-06-03T09:39:03Z',\n",
    "  'asset_created_at': '2024-06-03T16:26:44.446733Z',\n",
    "  'user_id': '7ed38998-59bb-473f-b14e-983279efbdca',\n",
    "  'provider': 'AmazonS3',\n",
    "  'provider_bucket_name': 'api-naas-storage'},\n",
    " 'error': {'code': 0, 'message': 'Success'}}\n",
    "```"
   ]
  },
  {
   "cell_type": "code",
   "execution_count": 6,
   "id": "62eb0dc8-0358-4eb6-b832-51150f3cb30f",
   "metadata": {
    "execution": {
     "iopub.execute_input": "2024-06-05T09:12:21.219074Z",
     "iopub.status.busy": "2024-06-05T09:12:21.218845Z",
     "iopub.status.idle": "2024-06-05T09:12:21.223705Z",
     "shell.execute_reply": "2024-06-05T09:12:21.223050Z",
     "shell.execute_reply.started": "2024-06-05T09:12:21.219050Z"
    },
    "tags": []
   },
   "outputs": [],
   "source": [
    "asset_url = asset['asset']['url']\n",
    "asset_password = asset['asset']['password']\n",
    "asset_url, asset_password"
   ]
  },
  {
   "cell_type": "markdown",
   "id": "7040776c-6016-42fd-9a40-5a9790f5363d",
   "metadata": {
    "execution": {
     "iopub.execute_input": "2024-06-05T09:12:21.219074Z",
     "iopub.status.busy": "2024-06-05T09:12:21.218845Z",
     "iopub.status.idle": "2024-06-05T09:12:21.223705Z",
     "shell.execute_reply": "2024-06-05T09:12:21.223050Z",
     "shell.execute_reply.started": "2024-06-05T09:12:21.219050Z"
    },
    "tags": []
   },
   "source": [
    "('https://api.naas.ai/workspace/81507a26-3644-496c-a379-4c7021434aa0/asset/4dac01c6-c299-473d-b746-d83f5c16b45e/object/',\n",
    " 'mypassword')"
   ]
  },
  {
   "cell_type": "markdown",
   "id": "4fcb91c7-22a4-4adc-863f-5a50023644b7",
   "metadata": {},
   "source": [
    "#### CLI command"
   ]
  },
  {
   "cell_type": "markdown",
   "id": "7d015740-66af-436d-b662-9a3d2365759a",
   "metadata": {
    "execution": {
     "iopub.execute_input": "2024-06-03T15:58:10.611202Z",
     "iopub.status.busy": "2024-06-03T15:58:10.610977Z",
     "iopub.status.idle": "2024-06-03T15:58:10.626998Z",
     "shell.execute_reply": "2024-06-03T15:58:10.626067Z",
     "shell.execute_reply.started": "2024-06-03T15:58:10.611178Z"
    }
   },
   "source": [
    "```sh\n",
    "naas-python asset get --help\n",
    "\n",
    "naas-python asset get \\\n",
    "--workspace-id '81507a26-3644-496c-a379-4c7021434aa0' \\\n",
    "--asset-id '0c35c28b-1904-414f-a40d-5611af2511fb'\n",
    "```"
   ]
  },
  {
   "cell_type": "markdown",
   "id": "6c107009-99ca-4b64-88a2-e9f5731ccfb8",
   "metadata": {},
   "source": [
    "---"
   ]
  },
  {
   "cell_type": "markdown",
   "id": "d02eb9f4-8880-47bc-bd0a-d026fb763d25",
   "metadata": {},
   "source": [
    "<a id='getassetobject'><h2>Get Asset Object</h2></a>"
   ]
  },
  {
   "cell_type": "markdown",
   "id": "5b84fe9c-44af-4dfb-92a2-7b8b32da646a",
   "metadata": {},
   "source": [
    "**Same as url, generate a shereable link to the asset. This could be useful when using a password.**"
   ]
  },
  {
   "cell_type": "markdown",
   "id": "8b2600ef-715d-49a0-9ace-a509b47e3701",
   "metadata": {},
   "source": [
    "**required arguments:**\n",
    "* **workspace_id** : user workspace id\n",
    "* **asset_id** : id of an existing asset\n",
    "* **password** : if asset is private"
   ]
  },
  {
   "cell_type": "markdown",
   "id": "60d75127",
   "metadata": {},
   "source": [
    "### Python Example"
   ]
  },
  {
   "cell_type": "code",
   "execution_count": null,
   "id": "e5730580-24f9-432d-bde0-3c9bd467fff2",
   "metadata": {
    "execution": {
     "iopub.execute_input": "2024-06-05T09:12:23.906037Z",
     "iopub.status.busy": "2024-06-05T09:12:23.905455Z",
     "iopub.status.idle": "2024-06-05T09:12:23.915033Z",
     "shell.execute_reply": "2024-06-05T09:12:23.914324Z",
     "shell.execute_reply.started": "2024-06-05T09:12:23.905998Z"
    },
    "tags": []
   },
   "outputs": [],
   "source": [
    "asset_object = asset_url + \"?password=\" + asset_password\n",
    "asset_object"
   ]
  },
  {
   "cell_type": "markdown",
   "id": "b44a2f85-9628-472d-b934-908fe593ce7d",
   "metadata": {},
   "source": [
    "'https://api.naas.ai/workspace/81507a26-3644-496c-a379-4c7021434aa0/asset/4dac01c6-c299-473d-b746-d83f5c16b45e/object/?password=mypassword'"
   ]
  },
  {
   "cell_type": "markdown",
   "id": "866ecb97-cfcc-474b-919c-ce0970c17498",
   "metadata": {},
   "source": [
    "---"
   ]
  },
  {
   "cell_type": "markdown",
   "id": "a678b443-edb6-4826-a170-3791fa6f8320",
   "metadata": {},
   "source": [
    "<a id='updateasset'><h2>Update Asset</h2></a>"
   ]
  },
  {
   "cell_type": "markdown",
   "id": "bb1c90a5-c537-46ff-93f4-39e424681ea5",
   "metadata": {},
   "source": [
    "**Update an existing asset visibility or content disposition.**"
   ]
  },
  {
   "cell_type": "markdown",
   "id": "d6afb80c-4294-4c93-bea0-9ba21adbbcf1",
   "metadata": {},
   "source": [
    "arguments :\n",
    "* **visibility** : \"public\" or \"private\"\n",
    "* **content_disposition** : \"outline\" (download only) or \"inline\" (render in browser)"
   ]
  },
  {
   "cell_type": "markdown",
   "id": "8164b56f",
   "metadata": {},
   "source": [
    "### Python Example"
   ]
  },
  {
   "cell_type": "code",
   "execution_count": null,
   "id": "16699cbb-f8e0-44c1-ac7c-9041b0182bc0",
   "metadata": {
    "execution": {
     "iopub.execute_input": "2024-06-05T09:14:26.764369Z",
     "iopub.status.busy": "2024-06-05T09:14:26.764098Z",
     "iopub.status.idle": "2024-06-05T09:14:28.878038Z",
     "shell.execute_reply": "2024-06-05T09:14:28.877342Z",
     "shell.execute_reply.started": "2024-06-05T09:14:26.764341Z"
    },
    "tags": []
   },
   "outputs": [],
   "source": [
    "naas_python.asset.update_asset(\n",
    "        workspace_id=workspace_id,\n",
    "        asset_id=asset_id,\n",
    "        asset_update= {\n",
    "            \"asset_update\" : {\n",
    "                \"visibility\" : \"public\",\n",
    "                \"content_disposition\" : \"inline\"\n",
    "            }\n",
    "        }\n",
    "    )"
   ]
  },
  {
   "cell_type": "markdown",
   "id": "e954ca52-1195-4346-b6dd-55b80f93ecf8",
   "metadata": {
    "execution": {
     "iopub.execute_input": "2024-06-04T12:32:50.552808Z",
     "iopub.status.busy": "2024-06-04T12:32:50.552324Z",
     "iopub.status.idle": "2024-06-04T12:32:50.555880Z",
     "shell.execute_reply": "2024-06-04T12:32:50.555269Z",
     "shell.execute_reply.started": "2024-06-04T12:32:50.552772Z"
    },
    "tags": []
   },
   "source": [
    "result :\n",
    "```json\n",
    "{'asset': {'id': '0c35c28b-1904-414f-a40d-5611af2511fb',\n",
    "  'object_name': 'img.jpg',\n",
    "  'visibility': 'public',\n",
    "  'content_disposition': 'inline',\n",
    "  'password': 'qiBwYUvYjwxBnktT82tGsRvWU2CuPl9sBUkBXCrHfDg',\n",
    "  'url': 'https://api.naas.ai/workspace/81507a26-3644-496c-a379-4c7021434aa0/asset/0c35c28b-1904-414f-a40d-5611af2511fb/object/',\n",
    "  'workspace_id': '81507a26-3644-496c-a379-4c7021434aa0',\n",
    "  'storage_name': 'test-storage',\n",
    "  'prefix': '81507a26-3644-496c-a379-4c7021434aa0/test-storage/directory-1',\n",
    "  'object_version': 'lqUJfScvcBWUc3RhZuGmB_OkCY0ZmwhI',\n",
    "  'content_type': 'image/jpeg',\n",
    "  'object_updated_at': '2024-06-03T09:39:03Z',\n",
    "  'asset_created_at': '2024-06-03T16:26:44.446733Z',\n",
    "  'user_id': '7ed38998-59bb-473f-b14e-983279efbdca',\n",
    "  'provider': 'AmazonS3',\n",
    "  'provider_bucket_name': 'api-naas-storage'},\n",
    " 'error': {'code': 0, 'message': 'Success'}}\n",
    "```"
   ]
  },
  {
   "cell_type": "markdown",
   "id": "6151c642-5592-4836-811f-d75161644f12",
   "metadata": {},
   "source": [
    "#### CLI command"
   ]
  },
  {
   "cell_type": "markdown",
   "id": "96bb6897-b3e5-441c-826b-411e9625bcd1",
   "metadata": {
    "execution": {
     "iopub.execute_input": "2024-06-03T15:58:10.611202Z",
     "iopub.status.busy": "2024-06-03T15:58:10.610977Z",
     "iopub.status.idle": "2024-06-03T15:58:10.626998Z",
     "shell.execute_reply": "2024-06-03T15:58:10.626067Z",
     "shell.execute_reply.started": "2024-06-03T15:58:10.611178Z"
    }
   },
   "source": [
    "```sh\n",
    "naas-python asset update --help\n",
    "\n",
    "naas-python asset update \\\n",
    "--workspace-id \"81507a26-3644-496c-a379-4c7021434aa0\" \\\n",
    "--asset-id \"0c35c28b-1904-414f-a40d-5611af2511fb\" \\\n",
    "--visibility \"private\" \\\n",
    "--content-disposition \"outline\"\n",
    "```"
   ]
  },
  {
   "cell_type": "markdown",
   "id": "02198ade-5413-4ec5-a37e-e9fb38091d41",
   "metadata": {
    "execution": {
     "iopub.execute_input": "2024-06-04T12:32:50.552808Z",
     "iopub.status.busy": "2024-06-04T12:32:50.552324Z",
     "iopub.status.idle": "2024-06-04T12:32:50.555880Z",
     "shell.execute_reply": "2024-06-04T12:32:50.555269Z",
     "shell.execute_reply.started": "2024-06-04T12:32:50.552772Z"
    },
    "tags": []
   },
   "source": [
    "---"
   ]
  },
  {
   "cell_type": "markdown",
   "id": "137089e4-df3a-4214-86a3-11c850942c62",
   "metadata": {
    "execution": {
     "iopub.execute_input": "2024-06-04T13:20:15.105892Z",
     "iopub.status.busy": "2024-06-04T13:20:15.105621Z",
     "iopub.status.idle": "2024-06-04T13:20:15.110041Z",
     "shell.execute_reply": "2024-06-04T13:20:15.109383Z",
     "shell.execute_reply.started": "2024-06-04T13:20:15.105831Z"
    }
   },
   "source": [
    "<a id='deleteasset'><h2>Delete Asset</h2></a>"
   ]
  },
  {
   "cell_type": "markdown",
   "id": "2f66b617-1f51-4bf6-be60-ab70df7bd425",
   "metadata": {},
   "source": [
    "**Delete the Asset but not the file on the storage. See \"Naas API Storage Notebook\".**"
   ]
  },
  {
   "cell_type": "markdown",
   "id": "914df591",
   "metadata": {},
   "source": [
    "**required arguments:**\n",
    "* **workspace_id** : user workspace id\n",
    "* **asset_id** : id of an existing asset"
   ]
  },
  {
   "cell_type": "markdown",
   "metadata": {},
   "source": [
    "### Python Example"
   ]
  },
  {
   "cell_type": "code",
   "execution_count": 9,
   "id": "6a6ef7dc-173d-41c3-a92d-ce8a47bd68c9",
   "metadata": {
    "execution": {
     "iopub.execute_input": "2024-06-05T09:15:15.435530Z",
     "iopub.status.busy": "2024-06-05T09:15:15.435302Z",
     "iopub.status.idle": "2024-06-05T09:15:16.139686Z",
     "shell.execute_reply": "2024-06-05T09:15:16.139087Z",
     "shell.execute_reply.started": "2024-06-05T09:15:15.435506Z"
    }
   },
   "outputs": [],
   "source": [
    "naas_python.asset.delete_asset(\n",
    "    workspace_id=workspace_id,\n",
    "    asset_id=asset_id\n",
    ")"
   ]
  },
  {
   "cell_type": "markdown",
   "id": "64b7b785-155a-4575-abea-ec6a9ddf6a3c",
   "metadata": {},
   "source": [
    "#### CLI command"
   ]
  },
  {
   "cell_type": "markdown",
   "id": "70d6b2c5-9584-4bcb-9474-e882abc1fa4d",
   "metadata": {
    "execution": {
     "iopub.execute_input": "2024-06-03T15:58:10.611202Z",
     "iopub.status.busy": "2024-06-03T15:58:10.610977Z",
     "iopub.status.idle": "2024-06-03T15:58:10.626998Z",
     "shell.execute_reply": "2024-06-03T15:58:10.626067Z",
     "shell.execute_reply.started": "2024-06-03T15:58:10.611178Z"
    }
   },
   "source": [
    "```sh\n",
    "naas-python asset delete --help\n",
    "\n",
    "naas-python asset delete \\\n",
    "--workspace-id \"81507a26-3644-496c-a379-4c7021434aa0\" \\\n",
    "--asset-id \"0c35c28b-1904-414f-a40d-5611af2511fb\"\n",
    "```"
   ]
  }
 ],
 "metadata": {
  "kernelspec": {
   "display_name": "Python 3",
   "language": "python",
   "name": "python3"
  },
  "language_info": {
   "codemirror_mode": {
    "name": "ipython",
    "version": 3
   },
   "file_extension": ".py",
   "mimetype": "text/x-python",
   "name": "python",
   "nbconvert_exporter": "python",
   "pygments_lexer": "ipython3",
   "version": "3.9.6"
  }
 },
 "nbformat": 4,
 "nbformat_minor": 5
}
