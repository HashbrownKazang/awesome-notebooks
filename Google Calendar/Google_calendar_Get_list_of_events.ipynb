{
 "cells": [
  {
   "cell_type": "markdown",
   "id": "1d382d66-3e3f-489c-a15a-69d29d8aa3b9",
   "metadata": {
    "papermill": {},
    "tags": []
   },
   "source": [
    "<img width=\"10%\" alt=\"Naas\" src=\"https://landen.imgix.net/jtci2pxwjczr/assets/5ice39g4.png?w=160\"/>"
   ]
  },
  {
   "cell_type": "markdown",
   "id": "a6a17755-297e-4f6e-91fe-6901703e97ea",
   "metadata": {},
   "source": [
    "# Google Calendar - Get List of Events"
   ]
  },
  {
   "cell_type": "markdown",
   "id": "1a37fa4b-07ef-46b1-8fc0-8e6f4eb0b28e",
   "metadata": {},
   "source": [
    "This notebook will help us out in creating, or getting the list of events"
   ]
  },
  {
   "cell_type": "markdown",
   "id": "8d6eeb21-ee79-466d-aed7-889104cd7c30",
   "metadata": {
    "execution": {
     "iopub.execute_input": "2022-03-13T16:06:32.769240Z",
     "iopub.status.busy": "2022-03-13T16:06:32.768974Z",
     "iopub.status.idle": "2022-03-13T16:06:32.785070Z",
     "shell.execute_reply": "2022-03-13T16:06:32.784192Z",
     "shell.execute_reply.started": "2022-03-13T16:06:32.769174Z"
    }
   },
   "source": [
    "**Tags**: #naas #google #calendar"
   ]
  },
  {
   "cell_type": "markdown",
   "id": "ef00e7f3-d4cb-4bb1-97be-f2e87e7bda31",
   "metadata": {},
   "source": [
    "**Author**: [Sanjeet Attili](https://www.linkedin.com/in/sanjeet-attili-760bab190)"
   ]
  },
  {
   "cell_type": "markdown",
   "id": "135e1fb9-d931-47f1-afc3-5bf75a3a5ae3",
   "metadata": {},
   "source": [
    "## Input"
   ]
  },
  {
   "cell_type": "markdown",
   "id": "293fde90-1a53-42b4-a538-8a7b1071cb73",
   "metadata": {},
   "source": [
    "**Steps to follow for setting up Google Calendar API credentials:**\n",
    "1. First Visit the [google cloud console](https://console.cloud.google.com/apis/dashboard) and login with your google account\n",
    "\n",
    "2. Create a new project and then on the dashboard at the top click on \"enable apis and services\" button.\n",
    "\n",
    "3. Browse for Google calendar API and then once it is found, click on it and you will find \"enable\" button within that.\n",
    "\n",
    "4. Once you have enabled it, you will be shown a new overview page of the Google Calendar API, over there you will have this message written \"To use this API, you may need credentials. Click 'Create credentials' to get started.\" and a button named \"Create Credentials\".\n",
    "\n",
    "5. After clicking on that button, you will be shown some series of options first \"which API are you using?\", select Google calendar API in the dropdown menu, and then in our case, i have just selected user data to work on, but there is another option called \"application data\" as well, read the below given info and select according to your use case!\n",
    "\n",
    "6. Moving on, we will be next getting the OAuth Consent screen section, fill in the app name, user support email and developer contact information options (since they are mandatory)\n",
    "\n",
    "7. Once this is done, we will be seeing the scopes as an optional tab, and we will skip, and move onto Oauth client ID section. In my case i went with web application and provided default name as \"web client 1\".\n",
    "\n",
    "8. Add url in \"Authorised redirect URIs\" section, \"http://localhost:8080\".\n",
    "\n",
    "9. Once added save it and then move onto download the credentials json file. Once downloaded we now go into the Oauth consent screen section, check for test users option and add your google account for using this calendar api\n",
    "\n",
    "10. Congrats! You are now done with the setup and will be shown an option to download the credentials json file. Download and save it in your desktop. We will be using it in this notebook."
   ]
  },
  {
   "cell_type": "markdown",
   "id": "3375e950-1b9a-439c-9937-fac2431ea086",
   "metadata": {},
   "source": [
    "**Install the Google Client Library**"
   ]
  },
  {
   "cell_type": "code",
   "execution_count": 3,
   "id": "3a481a6f-ffe5-452d-83f3-50801ae2e3ab",
   "metadata": {
    "execution": {
     "iopub.execute_input": "2022-03-14T06:56:22.152625Z",
     "iopub.status.busy": "2022-03-14T06:56:22.152399Z",
     "iopub.status.idle": "2022-03-14T06:56:22.155617Z",
     "shell.execute_reply": "2022-03-14T06:56:22.154954Z",
     "shell.execute_reply.started": "2022-03-14T06:56:22.152600Z"
    },
    "tags": []
   },
   "outputs": [],
   "source": [
    "# !pip install --upgrade google-api-python-client google-auth-httplib2 google-auth-oauthlib"
   ]
  },
  {
   "cell_type": "markdown",
   "id": "4a5cf917-03cb-4d65-9029-18790e95ba8f",
   "metadata": {},
   "source": [
    "**Install datefinder library for easy date interpretrability for end users**"
   ]
  },
  {
   "cell_type": "code",
   "execution_count": 2,
   "id": "8390e0c0-6fd4-449e-9c87-6be327a946e4",
   "metadata": {
    "execution": {
     "iopub.execute_input": "2022-03-25T12:52:46.574148Z",
     "iopub.status.busy": "2022-03-25T12:52:46.573823Z",
     "iopub.status.idle": "2022-03-25T12:52:49.829354Z",
     "shell.execute_reply": "2022-03-25T12:52:49.828648Z",
     "shell.execute_reply.started": "2022-03-25T12:52:46.574113Z"
    },
    "tags": []
   },
   "outputs": [
    {
     "name": "stdout",
     "output_type": "stream",
     "text": [
      "Requirement already satisfied: datefinder in /opt/conda/lib/python3.9/site-packages (0.7.1)\n",
      "Requirement already satisfied: python-dateutil>=2.4.2 in /opt/conda/lib/python3.9/site-packages (from datefinder) (2.8.2)\n",
      "Requirement already satisfied: regex>=2017.02.08 in /opt/conda/lib/python3.9/site-packages (from datefinder) (2022.3.15)\n",
      "Requirement already satisfied: pytz in /opt/conda/lib/python3.9/site-packages (from datefinder) (2021.1)\n",
      "Requirement already satisfied: six>=1.5 in /opt/conda/lib/python3.9/site-packages (from python-dateutil>=2.4.2->datefinder) (1.16.0)\n"
     ]
    }
   ],
   "source": [
    "!pip install datefinder"
   ]
  },
  {
   "cell_type": "markdown",
   "id": "3f63e645-d279-473d-83ef-813db0b90dee",
   "metadata": {},
   "source": [
    "### Imports"
   ]
  },
  {
   "cell_type": "code",
   "execution_count": 1,
   "id": "0e8679b0-2530-45f9-aeca-32ba1e0abad5",
   "metadata": {
    "execution": {
     "iopub.execute_input": "2022-03-25T13:00:03.602402Z",
     "iopub.status.busy": "2022-03-25T13:00:03.602135Z",
     "iopub.status.idle": "2022-03-25T13:00:04.194745Z",
     "shell.execute_reply": "2022-03-25T13:00:04.193645Z",
     "shell.execute_reply.started": "2022-03-25T13:00:03.602339Z"
    },
    "tags": []
   },
   "outputs": [],
   "source": [
    "import datetime, datefinder\n",
    "import os\n",
    "\n",
    "from google.auth.transport.requests import Request\n",
    "from google.oauth2.credentials import Credentials\n",
    "from google_auth_oauthlib.flow import InstalledAppFlow\n",
    "from googleapiclient.discovery import build\n",
    "from googleapiclient.errors import HttpError"
   ]
  },
  {
   "cell_type": "markdown",
   "id": "fc954bcb-b0ed-45e5-ab36-6746bb45d63d",
   "metadata": {},
   "source": [
    "### Variables"
   ]
  },
  {
   "cell_type": "markdown",
   "id": "81892805-a6e1-4835-85b1-ecf4fa7d627b",
   "metadata": {},
   "source": [
    "Refer this link for more details on various scopes: https://developers.google.com/calendar/api/guides/auth#OAuth2Authorizing"
   ]
  },
  {
   "cell_type": "code",
   "execution_count": 2,
   "id": "958391cc-3ba1-4292-a521-eabcf2e8ff6c",
   "metadata": {
    "execution": {
     "iopub.execute_input": "2022-03-25T13:00:05.255812Z",
     "iopub.status.busy": "2022-03-25T13:00:05.255244Z",
     "iopub.status.idle": "2022-03-25T13:00:05.261206Z",
     "shell.execute_reply": "2022-03-25T13:00:05.260427Z",
     "shell.execute_reply.started": "2022-03-25T13:00:05.255769Z"
    },
    "tags": []
   },
   "outputs": [],
   "source": [
    "# If scopes are modified, then the token.josn files \n",
    "# created using the below scripts should also be deleted\n",
    "SCOPES = ['https://www.googleapis.com/auth/calendar']\n",
    "Email = \"Your_email_here\""
   ]
  },
  {
   "cell_type": "markdown",
   "id": "6dc078f7-48db-4c06-9f72-36eaa4ce216f",
   "metadata": {},
   "source": [
    "## Model"
   ]
  },
  {
   "cell_type": "markdown",
   "id": "8a93611d-0148-4fcc-8b2b-f54c842a200b",
   "metadata": {},
   "source": [
    "**In events.list() function**\n",
    "\n",
    "\"calendarId\" is the calendar identifier and can either be the email address of the calendar on which to create the event or a special keyword 'primary' which will use the primary calendar of the logged in user.\n",
    "\n",
    "If you don't know the email address of the calendar you would like to use, you can check it either in the calendar's settings\n",
    "of the Google Calendar web UI (in the section \"Calendar Address\") or you can look for it in the result of the calendarList.list() call."
   ]
  },
  {
   "cell_type": "markdown",
   "id": "378c6e71-42aa-4065-980a-3b580cfbbb7e",
   "metadata": {},
   "source": [
    "**For detailed information regarding events list parameters click [here](https://developers.google.com/calendar/api/v3/reference/events/list#parameters)**"
   ]
  },
  {
   "cell_type": "code",
   "execution_count": 3,
   "id": "35033647-8d80-4270-a647-f7ffae6d99c6",
   "metadata": {
    "execution": {
     "iopub.execute_input": "2022-03-25T13:00:07.613544Z",
     "iopub.status.busy": "2022-03-25T13:00:07.613258Z",
     "iopub.status.idle": "2022-03-25T13:00:07.621476Z",
     "shell.execute_reply": "2022-03-25T13:00:07.620828Z",
     "shell.execute_reply.started": "2022-03-25T13:00:07.613515Z"
    },
    "tags": []
   },
   "outputs": [],
   "source": [
    "# Here token path argument refers to the json file which will be saved after the very \n",
    "# first run of the get_credentials function (once the authorization via google Oauth is done)\n",
    "# This would be used for the further iterations, need not authorize via google Oauth all the time\n",
    "\n",
    "# Credentials path refers to the client secret json file which we get from the\n",
    "# google cloud console app creation process done above\n",
    "\n",
    "def Get_credentials(SCOPES, token_path, credentials_path):\n",
    "    creds = None\n",
    "    if os.path.exists(token_path):\n",
    "        creds = Credentials.from_authorized_user_file(token_path, SCOPES)\n",
    "        \n",
    "    # If there are no (valid) credentials available, let the user log in.\n",
    "    \n",
    "    if not creds or not creds.valid:\n",
    "        if creds and creds.expired and creds.refresh_token:\n",
    "            creds.refresh(Request())\n",
    "        else:\n",
    "            flow = InstalledAppFlow.from_client_secrets_file(\n",
    "                credentials_path, SCOPES)\n",
    "            creds = flow.run_local_server()\n",
    "        \n",
    "        # Save the credentials for the next run\n",
    "        with open(token_path, 'w') as token:\n",
    "            token.write(creds.to_json())\n",
    "    \n",
    "    return creds"
   ]
  },
  {
   "cell_type": "markdown",
   "id": "e5087984-3d2e-407b-9c85-6cddf4a6dbee",
   "metadata": {},
   "source": [
    "**Note**:\n",
    "\n",
    "Use datefinder package for easy input taking from user's perspective.\n",
    "\n",
    "Have start and end times as arguments in the below function for filtering the list of events range that is to be included\n"
   ]
  },
  {
   "cell_type": "code",
   "execution_count": 4,
   "id": "4abdfb48-4851-4f01-9dec-27d57120b2b1",
   "metadata": {
    "execution": {
     "iopub.execute_input": "2022-03-25T13:00:08.809074Z",
     "iopub.status.busy": "2022-03-25T13:00:08.808807Z",
     "iopub.status.idle": "2022-03-25T13:00:08.815462Z",
     "shell.execute_reply": "2022-03-25T13:00:08.814640Z",
     "shell.execute_reply.started": "2022-03-25T13:00:08.809051Z"
    },
    "tags": []
   },
   "outputs": [],
   "source": [
    "# The file token.json stores the user's access and refresh tokens, and is\n",
    "# created automatically when the authorization flow completes \n",
    "# for the first time.\n",
    "\n",
    "def Get_list_of_events(SCOPES, token_path, credentials_path, calendar_id = 'primary', start_date= None, end_date = None, max_results = 20):\n",
    "    try:\n",
    "        creds = Get_credentials(SCOPES, token_path, credentials_path)\n",
    "        service = build('calendar', 'v3', credentials=creds)\n",
    "        \n",
    "        # now = datetime.datetime.utcnow().isoformat() + 'Z'  # 'Z' indicates UTC time\n",
    "        # ISO format is year month day time(in hours minutes econds and milliseconds)\n",
    "        \n",
    "        print('Getting the upcoming 10 events')\n",
    "        if start_date!=None and end_date!=None:\n",
    "            \n",
    "            start_date = list(datefinder.find_dates(start_date))[0]\n",
    "            end_date = list(datefinder.find_dates(end_date))[0]\n",
    "            \n",
    "            events_result = service.events().list(calendarId = calendar_id, \n",
    "                                              timeMin=start_date.strftime(\"%Y-%m-%dT%H:%M:%S\"),\n",
    "                                              timeMax = end_date.strftime(\"%Y-%m-%dT%H:%M:%S\"),\n",
    "                                              maxResults=max_results, singleEvents=True,\n",
    "                                              orderBy='startTime').execute()\n",
    "        else:\n",
    "            events_result = service.events().list(calendarId = calendar_id,\n",
    "                                              maxResults=max_results, singleEvents=True,\n",
    "                                              orderBy='startTime').execute()\n",
    "        \n",
    "        events = events_result.get('items', [])\n",
    "\n",
    "        if not events:\n",
    "            print('No upcoming events found.')\n",
    "            return\n",
    "\n",
    "        # Prints the start date and name of the next 10 events\n",
    "        for event in events:\n",
    "            start = event['start'].get('dateTime', event['start'].get('date'))\n",
    "            print(start, event['summary'])\n",
    "\n",
    "    except HttpError as error:\n",
    "        print('An error occurred: %s' % error)\n",
    "    \n",
    "    return 'Done'"
   ]
  },
  {
   "cell_type": "markdown",
   "id": "e5df81fc-02b2-4d2a-a44e-f6174fe489f4",
   "metadata": {},
   "source": [
    "## Output"
   ]
  },
  {
   "cell_type": "markdown",
   "id": "61a4eda2-c9ee-467c-ab51-1a163600f458",
   "metadata": {},
   "source": [
    "**Example for Datefinder library**"
   ]
  },
  {
   "cell_type": "code",
   "execution_count": 5,
   "id": "1683651d-4dd5-4568-aa29-88b402e66c54",
   "metadata": {
    "execution": {
     "iopub.execute_input": "2022-03-25T12:54:57.040421Z",
     "iopub.status.busy": "2022-03-25T12:54:57.040201Z",
     "iopub.status.idle": "2022-03-25T12:54:57.050197Z",
     "shell.execute_reply": "2022-03-25T12:54:57.049567Z",
     "shell.execute_reply.started": "2022-03-25T12:54:57.040399Z"
    },
    "tags": []
   },
   "outputs": [
    {
     "data": {
      "text/plain": [
       "[datetime.datetime(2022, 3, 5, 21, 0)]"
      ]
     },
     "execution_count": 5,
     "metadata": {},
     "output_type": "execute_result"
    }
   ],
   "source": [
    "match = datefinder.find_dates(\"5 march 9pm\")\n",
    "list(match)"
   ]
  },
  {
   "cell_type": "code",
   "execution_count": 6,
   "id": "dc92e5d3-c0e6-4875-964b-477762a7a63e",
   "metadata": {
    "execution": {
     "iopub.execute_input": "2022-03-25T12:54:57.470154Z",
     "iopub.status.busy": "2022-03-25T12:54:57.469909Z",
     "iopub.status.idle": "2022-03-25T12:54:57.473305Z",
     "shell.execute_reply": "2022-03-25T12:54:57.472629Z",
     "shell.execute_reply.started": "2022-03-25T12:54:57.470131Z"
    },
    "tags": []
   },
   "outputs": [],
   "source": [
    "common_mail_domains = ['gmail.com','yahoo.com', 'outlook.com']"
   ]
  },
  {
   "cell_type": "code",
   "execution_count": null,
   "id": "859b24e2-9524-45db-91d6-5e7772faee85",
   "metadata": {
    "execution": {
     "iopub.execute_input": "2022-03-25T13:00:10.710052Z",
     "iopub.status.busy": "2022-03-25T13:00:10.709662Z"
    },
    "tags": []
   },
   "outputs": [
    {
     "name": "stdout",
     "output_type": "stream",
     "text": [
      "Please visit this URL to authorize this application: https://accounts.google.com/o/oauth2/auth?response_type=code&client_id=265869097269-7n2o7ql0qi59oqvcuht6p6jjom2t7ck5.apps.googleusercontent.com&redirect_uri=http%3A%2F%2Flocalhost%3A8080%2F&scope=https%3A%2F%2Fwww.googleapis.com%2Fauth%2Fcalendar&state=kDtrkJzUhCmCTAPg4tP3dK5EKQo6r5&access_type=offline\n"
     ]
    }
   ],
   "source": [
    "# Arguments to be provided for the function:\n",
    "\n",
    "# 1. SCOPES (defined above)\n",
    "\n",
    "# 2. token_path -> The file token.json stores the user's access and refresh tokens, and is\n",
    "# created automatically when the authorization flow completes \n",
    "# for the first time.\n",
    "\n",
    "# 3. credentials_path -> Credentials path refers to the client secret json file which we get from the\n",
    "# google cloud console app creation process done above.\n",
    "\n",
    "# 4. calendar_id (default = 'primary') you can provide your emailID here for getting your calender events.\n",
    "\n",
    "# If you want to access the primary calendar of the currently logged in user, use the default \"primary\" keyword option\n",
    "\n",
    "# 5. max_results -> maximum no. of events to be returned (default value is 20).\n",
    "# According to google calendar API the page size can never be largger than 2500 events\n",
    "\n",
    "# 6. start_date and end_date (both default values = None). This can be used to filter the events starting from start_date\n",
    "# and ending with end_date arguments. Either both should be None or both with some dates.\n",
    "\n",
    "# start and end date format:\n",
    "# Acceptable format -> \"5th may 2022 9PM\" or \"5 may 9pm\" or \"5th may\" time would be default 00:00\n",
    "\n",
    "Get_list_of_events(SCOPES, \"token.json\" ,\"client_secret.json\", calendar_id = Email,\n",
    "                   start_date = \"16th march\", end_date = \"17th march 11:59PM\",\n",
    "                   max_results = 10)"
   ]
  },
  {
   "cell_type": "code",
   "execution_count": null,
   "id": "863e9085-1552-4b62-9da4-2e86e3f5c7ab",
   "metadata": {},
   "outputs": [],
   "source": []
  }
 ],
 "metadata": {
  "kernelspec": {
   "display_name": "Python 3",
   "language": "python",
   "name": "python3"
  },
  "language_info": {
   "codemirror_mode": {
    "name": "ipython",
    "version": 3
   },
   "file_extension": ".py",
   "mimetype": "text/x-python",
   "name": "python",
   "nbconvert_exporter": "python",
   "pygments_lexer": "ipython3",
   "version": "3.9.6"
  }
 },
 "nbformat": 4,
 "nbformat_minor": 5
}
