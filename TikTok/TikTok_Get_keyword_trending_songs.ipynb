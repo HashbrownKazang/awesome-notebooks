{
 "cells": [
  {
   "cell_type": "markdown",
   "id": "81cc5584",
   "metadata": {},
   "source": [
    "<img width=\"8%\" alt=\"TikTok.png\" src=\"https://raw.githubusercontent.com/jupyter-naas/awesome-notebooks/master/.github/assets/logos/TikTok.png\" style=\"border-radius: 15%\">"
   ]
  },
  {
   "cell_type": "markdown",
   "id": "compressed-wilson",
   "metadata": {
    "papermill": {},
    "tags": []
   },
   "source": [
    "# TikTok - Get trending songs by keyword"
   ]
  },
  {
   "cell_type": "markdown",
   "id": "religious-programmer",
   "metadata": {},
   "source": [
    "**Tags:** #tiktok #content #trends #songs"
   ]
  },
  {
   "cell_type": "markdown",
   "id": "1fe9f56e-561c-4f52-aef8-b861c9462107",
   "metadata": {},
   "source": [
    "**Author:** [Alex Nodeland](https://www.linkedin.com/in/alexnodeland/)"
   ]
  },
  {
   "cell_type": "markdown",
   "id": "0de144be-594d-463e-9849-696fb2f6d1a8",
   "metadata": {},
   "source": [
    "**Last update:** 2024-06-20 (Created: 2024-06-20)"
   ]
  },
  {
   "cell_type": "markdown",
   "id": "31ea7cdb-e10d-43fc-b026-f69249a59736",
   "metadata": {},
   "source": [
    "**Description:** This notebook demonstrates how to extract the top trending songs on top trending platform, TikTok, by keyword."
   ]
  },
  {
   "cell_type": "markdown",
   "id": "d4b89388-5cd5-409a-8169-c53cc8dfab96",
   "metadata": {},
   "source": [
    "**References:**\n",
    "- [Naas Documentation](https://site.naas.ai/)\n",
    "- [Apify TikTok Scraper Documentation](https://apify.com/clockworks/tiktok-scraper)"
   ]
  },
  {
   "cell_type": "markdown",
   "id": "distinguished-truth",
   "metadata": {
    "papermill": {},
    "tags": []
   },
   "source": [
    "## Input"
   ]
  },
  {
   "cell_type": "markdown",
   "id": "numeric-mediterranean",
   "metadata": {},
   "source": [
    "### Import libraries"
   ]
  },
  {
   "cell_type": "code",
   "execution_count": 70,
   "id": "potential-surfing",
   "metadata": {
    "tags": []
   },
   "outputs": [],
   "source": [
    "from datetime import datetime\n",
    "import nest_asyncio\n",
    "import pandas as pd\n",
    "try:\n",
    "    from apify_client import ApifyClient\n",
    "except:\n",
    "    !pip install --user apify-client\n",
    "    from apify_client import ApifyClient"
   ]
  },
  {
   "cell_type": "code",
   "execution_count": 71,
   "id": "52badee0",
   "metadata": {},
   "outputs": [],
   "source": [
    "nest_asyncio.apply()"
   ]
  },
  {
   "cell_type": "markdown",
   "id": "aggressive-trustee",
   "metadata": {},
   "source": [
    "### Setup variables\n",
    "\n",
    "\n",
    "**Mandatory**\n",
    "- `APIFY_API_TOKEN`: This variable represents the API token required to access the Apify TikTok Scraper API. You can obtain this token by signing up on the Apify platform.\n",
    "- `searchQueries`: This variable represents the keywords for which you want to extract the top trending songs on TikTok.\n",
    "\n",
    "\n",
    "**Optional**\n",
    "\n",
    "- `hashtags`: This variable represents the hashtags you want to search for in the TikTok videos. If not provided, the default value is `None`.\n",
    "- `resultsPerPage`: This variable represents the number of results per page. If not provided, the default value is `100`."
   ]
  },
  {
   "cell_type": "markdown",
   "id": "323e09ce",
   "metadata": {},
   "source": [
    "#### Apify API Token"
   ]
  },
  {
   "cell_type": "code",
   "execution_count": 73,
   "id": "continuous-melbourne",
   "metadata": {},
   "outputs": [],
   "source": [
    "# Mandatory\n",
    "APIFY_API_TOKEN = 'apify_api_........'\n",
    "searchQueries = ['afrobeat']\n",
    "\n",
    "# Optional - modify if desired\n",
    "hashtags = []\n",
    "resultsPerPage = 5\n",
    "\n",
    "# Prepare the actor input\n",
    "RUN_INPUT = {\n",
    "    \"hashtags\": hashtags,\n",
    "    \"resultsPerPage\": resultsPerPage,\n",
    "    \"searchQueries\": searchQueries\n",
    "}"
   ]
  },
  {
   "cell_type": "markdown",
   "id": "af18cb32",
   "metadata": {},
   "source": [
    "#### Create connection object"
   ]
  },
  {
   "cell_type": "code",
   "execution_count": 72,
   "id": "11dc686a",
   "metadata": {},
   "outputs": [],
   "source": [
    "client = ApifyClient(APIFY_API_TOKEN)"
   ]
  },
  {
   "cell_type": "markdown",
   "id": "registered-showcase",
   "metadata": {},
   "source": [
    "## Model"
   ]
  },
  {
   "cell_type": "markdown",
   "id": "tested-astrology",
   "metadata": {},
   "source": [
    "### Get data from Apify TikTok Scraper API"
   ]
  },
  {
   "cell_type": "code",
   "execution_count": 74,
   "id": "crude-louisville",
   "metadata": {
    "papermill": {},
    "tags": []
   },
   "outputs": [],
   "source": [
    "def get_songs_by_keyword(run_input) -> pd.DataFrame:\n",
    "    \"\"\"\n",
    "    Get songs by keyword\n",
    "\n",
    "    Args:\n",
    "        keyword (str): keyword to search for\n",
    "\n",
    "    Returns:\n",
    "        response (pd.DataFrame): DataFrame with songs\n",
    "    \"\"\"\n",
    "    print(f\"Searching for songs with keyword: {run_input['searchQueries']}\")\n",
    "    \n",
    "    try:\n",
    "        # Run the Actor and wait for it to finish\n",
    "        run = client.actor(\"clockworks/tiktok-scraper\").call(run_input=run_input)\n",
    "        print(f\"Actor run completed successfully, with id: {run['id']}\")\n",
    "\n",
    "        # Fetch Actor results from the run's dataset\n",
    "        items = [item for item in client.dataset(run[\"defaultDatasetId\"]).iterate_items()]\n",
    "\n",
    "        # Convert the list of items to a DataFrame\n",
    "        response = pd.DataFrame(items)\n",
    "    except Exception as e:\n",
    "        print(f\"An error occurred while running the actor: {e}\")\n",
    "        response = pd.DataFrame()\n",
    "\n",
    "    return response"
   ]
  },
  {
   "cell_type": "markdown",
   "id": "eb8fe904",
   "metadata": {},
   "source": [
    "### Extract data from the response"
   ]
  },
  {
   "cell_type": "code",
   "execution_count": 75,
   "id": "31247107",
   "metadata": {},
   "outputs": [],
   "source": [
    "# Instantiate the ABI Content Table Data Model as a pandas dataframe\n",
    "attributes = {\n",
    "    \"ENTITY\": [],\n",
    "    \"SCENARIO\": [],\n",
    "    \"SOURCE\": [],\n",
    "    \"PUBLISHED_DATE\": [],\n",
    "    \"DATE & TIME\": [],\n",
    "    \"ID\": [],\n",
    "    \"TITLE\": [],\n",
    "    \"TEXT\": [],\n",
    "    \"CONCEPT\": [],\n",
    "    \"SENTIMENT\": [],\n",
    "    \"TARGET\": [],\n",
    "    \"OBJECTIVE\": [],\n",
    "    \"VIEWS\": [],\n",
    "    \"LIKES\": [],\n",
    "    \"COMMENTS\": [],\n",
    "    \"SHARES\": [],\n",
    "    \"ENGAGEMENTS\": [],\n",
    "    \"ENGAGEMENT_SCORE\": [],\n",
    "    \"TYPE\": [],\n",
    "    \"AUTHOR_NAME\": [],\n",
    "    \"AUTHOR_URL\": [],\n",
    "    \"LENGTH\": [],\n",
    "    \"PEOPLE_MENTIONED\": [],\n",
    "    \"ORGANIZATION_MENTIONED\": [],\n",
    "    \"CONTENT_TITLE_SHARED\": [],\n",
    "    \"CONTENT_URL_SHARED\": [],\n",
    "    \"LINKEDIN_LINKS\": [],\n",
    "    \"IMAGE_SHARED\": [],\n",
    "    \"TAGS\": [],\n",
    "    \"URL\": [],\n",
    "    \"DATE_EXTRACT\": [],\n",
    "    \"SCENARIO_ORDER\": []\n",
    "}\n",
    "content_template = pd.DataFrame(attributes)\n",
    "\n",
    "def extract_data(response: pd.DataFrame, content_template: pd.DataFrame) -> pd.DataFrame:\n",
    "    \"\"\"\n",
    "    Extract data from response\n",
    "\n",
    "    Args:\n",
    "        response (pd.DataFrame): DataFrame with songs\n",
    "\n",
    "    Returns:\n",
    "        content (pd.DataFrame): DataFrame with extracted data\n",
    "    \"\"\"\n",
    "    print(f\"Extracting data from response\")\n",
    "    content = content_template.copy()\n",
    "    try:\n",
    "        content = pd.concat([content, response.apply(lambda row: pd.Series({\n",
    "            \"ENTITY\": row['musicMeta']['musicName'],\n",
    "            \"SCENARIO\": f\"Trending {row['searchQuery']} Songs on TikTok\",\n",
    "            \"SOURCE\": \"TikTok\",\n",
    "            \"PUBLISHED_DATE\": row['createTimeISO'],\n",
    "            \"DATE & TIME\": datetime.now().strftime(\"%Y-%m-%dT%H:%M:%S.000Z\"),\n",
    "            \"ID\": row['id'],\n",
    "            \"TITLE\": row['musicMeta']['musicName'],\n",
    "            \"TEXT\": row['text'],\n",
    "            \"CONCEPT\": \"\",\n",
    "            \"SENTIMENT\": \"\",\n",
    "            \"TARGET\": \"\",\n",
    "            \"OBJECTIVE\": \"\",\n",
    "            \"VIEWS\": row['playCount'],\n",
    "            \"LIKES\": row['diggCount'],\n",
    "            \"COMMENTS\": row['commentCount'],\n",
    "            \"SHARES\": row['shareCount'],\n",
    "            \"ENGAGEMENTS\": row['diggCount'] + row['commentCount'] + row['shareCount'] + row['collectCount'],\n",
    "            \"ENGAGEMENT_SCORE\": \"\",\n",
    "            \"TYPE\": \"video\",\n",
    "            \"AUTHOR_NAME\": row['authorMeta']['nickName'],\n",
    "            \"AUTHOR_URL\": f\"https://www.tiktok.com/@{row['authorMeta']['name']}\",\n",
    "            \"LENGTH\": row['videoMeta']['duration'],\n",
    "            \"PEOPLE_MENTIONED\": \", \".join(row['mentions']) if 'mentions' in row else '',\n",
    "            \"ORGANIZATION_MENTIONED\": \"\",\n",
    "            \"CONTENT_TITLE_SHARED\": \"\",\n",
    "            \"CONTENT_URL_SHARED\": \"\",\n",
    "            \"LINKEDIN_LINKS\": \"\",\n",
    "            \"IMAGE_SHARED\": row['videoMeta']['coverUrl'],\n",
    "            \"TAGS\": \", \".join([tag['name'] for tag in row['hashtags']]) if 'hashtags' in row else '',\n",
    "            \"URL\": row['webVideoUrl'],\n",
    "            \"DATE_EXTRACT\": datetime.now().strftime(\"%Y-%m-%dT%H:%M:%S.000Z\"),\n",
    "            \"SCENARIO_ORDER\": \"\"\n",
    "        }), axis=1)], ignore_index=True)\n",
    "        print(f\"Data extracted successfully\")\n",
    "    except Exception as e:\n",
    "        print(f\"An error occurred while extracting data: {e}\")\n",
    "    return content"
   ]
  },
  {
   "cell_type": "markdown",
   "id": "lonely-pacific",
   "metadata": {
    "execution": {
     "iopub.execute_input": "2021-07-02T23:32:10.789097Z",
     "iopub.status.busy": "2021-07-02T23:32:10.788829Z",
     "iopub.status.idle": "2021-07-02T23:32:10.796900Z",
     "shell.execute_reply": "2021-07-02T23:32:10.796358Z",
     "shell.execute_reply.started": "2021-07-02T23:32:10.789033Z"
    }
   },
   "source": [
    "## Output"
   ]
  },
  {
   "cell_type": "markdown",
   "id": "890f7c86-b7bb-4f5d-9a1b-e492dd9580fd",
   "metadata": {},
   "source": [
    "### Call the function"
   ]
  },
  {
   "cell_type": "code",
   "execution_count": 76,
   "id": "9c4e3b7b-6440-4844-8054-265f1aec65eb",
   "metadata": {},
   "outputs": [
    {
     "name": "stdout",
     "output_type": "stream",
     "text": [
      "The input is: \n",
      " {'hashtags': [], 'resultsPerPage': 5, 'searchQueries': ['afrobeat']}\n",
      "Searching for songs with keyword: ['afrobeat']\n",
      "Actor run completed successfully, with id: yw2K9hdwSjKboHZhr\n"
     ]
    }
   ],
   "source": [
    "print(f\"The input is: \\n\", RUN_INPUT)\n",
    "response = get_songs_by_keyword(RUN_INPUT)"
   ]
  },
  {
   "cell_type": "markdown",
   "id": "2209a3f2",
   "metadata": {},
   "source": [
    "### Extract the output from the response"
   ]
  },
  {
   "cell_type": "code",
   "execution_count": 77,
   "id": "8479fff7",
   "metadata": {},
   "outputs": [
    {
     "name": "stdout",
     "output_type": "stream",
     "text": [
      "Extracting data from response\n",
      "Data extracted successfully\n"
     ]
    },
    {
     "data": {
      "text/html": [
       "<div>\n",
       "<style scoped>\n",
       "    .dataframe tbody tr th:only-of-type {\n",
       "        vertical-align: middle;\n",
       "    }\n",
       "\n",
       "    .dataframe tbody tr th {\n",
       "        vertical-align: top;\n",
       "    }\n",
       "\n",
       "    .dataframe thead th {\n",
       "        text-align: right;\n",
       "    }\n",
       "</style>\n",
       "<table border=\"1\" class=\"dataframe\">\n",
       "  <thead>\n",
       "    <tr style=\"text-align: right;\">\n",
       "      <th></th>\n",
       "      <th>ENTITY</th>\n",
       "      <th>SCENARIO</th>\n",
       "      <th>SOURCE</th>\n",
       "      <th>PUBLISHED_DATE</th>\n",
       "      <th>DATE &amp; TIME</th>\n",
       "      <th>ID</th>\n",
       "      <th>TITLE</th>\n",
       "      <th>TEXT</th>\n",
       "      <th>CONCEPT</th>\n",
       "      <th>SENTIMENT</th>\n",
       "      <th>...</th>\n",
       "      <th>PEOPLE_MENTIONED</th>\n",
       "      <th>ORGANIZATION_MENTIONED</th>\n",
       "      <th>CONTENT_TITLE_SHARED</th>\n",
       "      <th>CONTENT_URL_SHARED</th>\n",
       "      <th>LINKEDIN_LINKS</th>\n",
       "      <th>IMAGE_SHARED</th>\n",
       "      <th>TAGS</th>\n",
       "      <th>URL</th>\n",
       "      <th>DATE_EXTRACT</th>\n",
       "      <th>SCENARIO_ORDER</th>\n",
       "    </tr>\n",
       "  </thead>\n",
       "  <tbody>\n",
       "    <tr>\n",
       "      <th>0</th>\n",
       "      <td>son original</td>\n",
       "      <td>Trending afrobeat Songs on TikTok</td>\n",
       "      <td>TikTok</td>\n",
       "      <td>2023-03-09T17:43:04.000Z</td>\n",
       "      <td>2024-06-20T15:32:29.000Z</td>\n",
       "      <td>7208603444557450501</td>\n",
       "      <td>son original</td>\n",
       "      <td>Yeah i need a MOTIVE #fyp #afrobeats #trending...</td>\n",
       "      <td></td>\n",
       "      <td></td>\n",
       "      <td>...</td>\n",
       "      <td></td>\n",
       "      <td></td>\n",
       "      <td></td>\n",
       "      <td></td>\n",
       "      <td></td>\n",
       "      <td>https://p16-sign-va.tiktokcdn.com/obj/tos-mali...</td>\n",
       "      <td>fyp, afrobeats, trending, h4ze</td>\n",
       "      <td>https://www.tiktok.com/@itzh4ze/video/72086034...</td>\n",
       "      <td>2024-06-20T15:32:29.000Z</td>\n",
       "      <td></td>\n",
       "    </tr>\n",
       "    <tr>\n",
       "      <th>1</th>\n",
       "      <td>original sound</td>\n",
       "      <td>Trending afrobeat Songs on TikTok</td>\n",
       "      <td>TikTok</td>\n",
       "      <td>2023-07-11T16:07:57.000Z</td>\n",
       "      <td>2024-06-20T15:32:29.000Z</td>\n",
       "      <td>7254593493585104155</td>\n",
       "      <td>original sound</td>\n",
       "      <td>The vibe is just right 👌🏼🔥 @IFETE ⏳ #afrobeats...</td>\n",
       "      <td></td>\n",
       "      <td></td>\n",
       "      <td>...</td>\n",
       "      <td>@IFETE</td>\n",
       "      <td></td>\n",
       "      <td></td>\n",
       "      <td></td>\n",
       "      <td></td>\n",
       "      <td>https://p16-sign-useast2a.tiktokcdn.com/obj/to...</td>\n",
       "      <td>, afrobeats, afrobeat, afrodance, afrodancers</td>\n",
       "      <td>https://www.tiktok.com/@afrodance.1/video/7254...</td>\n",
       "      <td>2024-06-20T15:32:29.000Z</td>\n",
       "      <td></td>\n",
       "    </tr>\n",
       "    <tr>\n",
       "      <th>2</th>\n",
       "      <td>DJ Phaphane Mashup Afrobeats 2022</td>\n",
       "      <td>Trending afrobeat Songs on TikTok</td>\n",
       "      <td>TikTok</td>\n",
       "      <td>2023-12-05T23:01:28.000Z</td>\n",
       "      <td>2024-06-20T15:32:29.000Z</td>\n",
       "      <td>7309249546570288417</td>\n",
       "      <td>DJ Phaphane Mashup Afrobeats 2022</td>\n",
       "      <td>If you got them all we are offically friends🤝💙...</td>\n",
       "      <td></td>\n",
       "      <td></td>\n",
       "      <td>...</td>\n",
       "      <td>@DJ</td>\n",
       "      <td></td>\n",
       "      <td></td>\n",
       "      <td></td>\n",
       "      <td></td>\n",
       "      <td>https://p16-sign-useast2a.tiktokcdn.com/obj/to...</td>\n",
       "      <td>afrobeatsdancechallenge, dance, foryou, afroda...</td>\n",
       "      <td>https://www.tiktok.com/@jacobworth01/video/730...</td>\n",
       "      <td>2024-06-20T15:32:29.000Z</td>\n",
       "      <td></td>\n",
       "    </tr>\n",
       "    <tr>\n",
       "      <th>3</th>\n",
       "      <td>Sip (Alcohol)</td>\n",
       "      <td>Trending afrobeat Songs on TikTok</td>\n",
       "      <td>TikTok</td>\n",
       "      <td>2023-03-19T10:33:07.000Z</td>\n",
       "      <td>2024-06-20T15:32:29.000Z</td>\n",
       "      <td>7212203499260529926</td>\n",
       "      <td>Sip (Alcohol)</td>\n",
       "      <td>#joeboy #sip #alcohol #songlyrics #afrobeats #...</td>\n",
       "      <td></td>\n",
       "      <td></td>\n",
       "      <td>...</td>\n",
       "      <td></td>\n",
       "      <td></td>\n",
       "      <td></td>\n",
       "      <td></td>\n",
       "      <td></td>\n",
       "      <td>https://p16-sign-va.tiktokcdn.com/tos-maliva-p...</td>\n",
       "      <td>joeboy, sip, alcohol, songlyrics, afrobeats, k...</td>\n",
       "      <td>https://www.tiktok.com/@kingflickr/video/72122...</td>\n",
       "      <td>2024-06-20T15:32:29.000Z</td>\n",
       "      <td></td>\n",
       "    </tr>\n",
       "    <tr>\n",
       "      <th>4</th>\n",
       "      <td>original sound</td>\n",
       "      <td>Trending afrobeat Songs on TikTok</td>\n",
       "      <td>TikTok</td>\n",
       "      <td>2024-02-04T13:47:49.000Z</td>\n",
       "      <td>2024-06-20T15:32:29.000Z</td>\n",
       "      <td>7331743101570108677</td>\n",
       "      <td>original sound</td>\n",
       "      <td>#ayrastarr #commas #lyricsvideo #afrobeats #af...</td>\n",
       "      <td></td>\n",
       "      <td></td>\n",
       "      <td>...</td>\n",
       "      <td></td>\n",
       "      <td></td>\n",
       "      <td></td>\n",
       "      <td></td>\n",
       "      <td></td>\n",
       "      <td>https://p16-sign-va.tiktokcdn.com/obj/tos-mali...</td>\n",
       "      <td>ayrastarr, commas, lyricsvideo, afrobeats, afr...</td>\n",
       "      <td>https://www.tiktok.com/@lyricsvillla/video/733...</td>\n",
       "      <td>2024-06-20T15:32:29.000Z</td>\n",
       "      <td></td>\n",
       "    </tr>\n",
       "  </tbody>\n",
       "</table>\n",
       "<p>5 rows × 32 columns</p>\n",
       "</div>"
      ],
      "text/plain": [
       "                              ENTITY                           SCENARIO  \\\n",
       "0                       son original  Trending afrobeat Songs on TikTok   \n",
       "1                     original sound  Trending afrobeat Songs on TikTok   \n",
       "2  DJ Phaphane Mashup Afrobeats 2022  Trending afrobeat Songs on TikTok   \n",
       "3                      Sip (Alcohol)  Trending afrobeat Songs on TikTok   \n",
       "4                     original sound  Trending afrobeat Songs on TikTok   \n",
       "\n",
       "   SOURCE            PUBLISHED_DATE               DATE & TIME  \\\n",
       "0  TikTok  2023-03-09T17:43:04.000Z  2024-06-20T15:32:29.000Z   \n",
       "1  TikTok  2023-07-11T16:07:57.000Z  2024-06-20T15:32:29.000Z   \n",
       "2  TikTok  2023-12-05T23:01:28.000Z  2024-06-20T15:32:29.000Z   \n",
       "3  TikTok  2023-03-19T10:33:07.000Z  2024-06-20T15:32:29.000Z   \n",
       "4  TikTok  2024-02-04T13:47:49.000Z  2024-06-20T15:32:29.000Z   \n",
       "\n",
       "                    ID                              TITLE  \\\n",
       "0  7208603444557450501                       son original   \n",
       "1  7254593493585104155                     original sound   \n",
       "2  7309249546570288417  DJ Phaphane Mashup Afrobeats 2022   \n",
       "3  7212203499260529926                      Sip (Alcohol)   \n",
       "4  7331743101570108677                     original sound   \n",
       "\n",
       "                                                TEXT CONCEPT SENTIMENT  ...  \\\n",
       "0  Yeah i need a MOTIVE #fyp #afrobeats #trending...                    ...   \n",
       "1  The vibe is just right 👌🏼🔥 @IFETE ⏳ #afrobeats...                    ...   \n",
       "2  If you got them all we are offically friends🤝💙...                    ...   \n",
       "3  #joeboy #sip #alcohol #songlyrics #afrobeats #...                    ...   \n",
       "4  #ayrastarr #commas #lyricsvideo #afrobeats #af...                    ...   \n",
       "\n",
       "  PEOPLE_MENTIONED ORGANIZATION_MENTIONED  CONTENT_TITLE_SHARED  \\\n",
       "0                                                                 \n",
       "1           @IFETE                                                \n",
       "2              @DJ                                                \n",
       "3                                                                 \n",
       "4                                                                 \n",
       "\n",
       "   CONTENT_URL_SHARED  LINKEDIN_LINKS  \\\n",
       "0                                       \n",
       "1                                       \n",
       "2                                       \n",
       "3                                       \n",
       "4                                       \n",
       "\n",
       "                                        IMAGE_SHARED  \\\n",
       "0  https://p16-sign-va.tiktokcdn.com/obj/tos-mali...   \n",
       "1  https://p16-sign-useast2a.tiktokcdn.com/obj/to...   \n",
       "2  https://p16-sign-useast2a.tiktokcdn.com/obj/to...   \n",
       "3  https://p16-sign-va.tiktokcdn.com/tos-maliva-p...   \n",
       "4  https://p16-sign-va.tiktokcdn.com/obj/tos-mali...   \n",
       "\n",
       "                                                TAGS  \\\n",
       "0                     fyp, afrobeats, trending, h4ze   \n",
       "1      , afrobeats, afrobeat, afrodance, afrodancers   \n",
       "2  afrobeatsdancechallenge, dance, foryou, afroda...   \n",
       "3  joeboy, sip, alcohol, songlyrics, afrobeats, k...   \n",
       "4  ayrastarr, commas, lyricsvideo, afrobeats, afr...   \n",
       "\n",
       "                                                 URL  \\\n",
       "0  https://www.tiktok.com/@itzh4ze/video/72086034...   \n",
       "1  https://www.tiktok.com/@afrodance.1/video/7254...   \n",
       "2  https://www.tiktok.com/@jacobworth01/video/730...   \n",
       "3  https://www.tiktok.com/@kingflickr/video/72122...   \n",
       "4  https://www.tiktok.com/@lyricsvillla/video/733...   \n",
       "\n",
       "               DATE_EXTRACT SCENARIO_ORDER  \n",
       "0  2024-06-20T15:32:29.000Z                 \n",
       "1  2024-06-20T15:32:29.000Z                 \n",
       "2  2024-06-20T15:32:29.000Z                 \n",
       "3  2024-06-20T15:32:29.000Z                 \n",
       "4  2024-06-20T15:32:29.000Z                 \n",
       "\n",
       "[5 rows x 32 columns]"
      ]
     },
     "execution_count": 77,
     "metadata": {},
     "output_type": "execute_result"
    }
   ],
   "source": [
    "content = extract_data(response, content_template)\n",
    "# Save the extracted data to a CSV file\n",
    "content.to_csv('trending_songs.csv', index=False)\n",
    "content"
   ]
  }
 ],
 "metadata": {
  "kernelspec": {
   "display_name": "Python 3",
   "language": "python",
   "name": "python3"
  },
  "language_info": {
   "codemirror_mode": {
    "name": "ipython",
    "version": 3
   },
   "file_extension": ".py",
   "mimetype": "text/x-python",
   "name": "python",
   "nbconvert_exporter": "python",
   "pygments_lexer": "ipython3",
   "version": "3.12.3"
  },
  "papermill": {
   "default_parameters": {},
   "environment_variables": {},
   "parameters": {},
   "version": "2.3.3"
  },
  "widgets": {
   "application/vnd.jupyter.widget-state+json": {
    "state": {},
    "version_major": 2,
    "version_minor": 0
   }
  }
 },
 "nbformat": 4,
 "nbformat_minor": 5
}
